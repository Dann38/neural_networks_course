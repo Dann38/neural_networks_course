{
 "cells": [
  {
   "cell_type": "code",
   "execution_count": 14,
   "id": "242f2d0f-bfe8-474a-a56e-eec20a262889",
   "metadata": {},
   "outputs": [],
   "source": [
    "import tensorflow as tf\n",
    "import numpy as np\n",
    "import matplotlib.pyplot as plt"
   ]
  },
  {
   "cell_type": "code",
   "execution_count": 69,
   "id": "80440b4a-c551-47f3-950a-62b244368a1a",
   "metadata": {},
   "outputs": [
    {
     "data": {
      "text/plain": [
       "<tf.Tensor: shape=(100,), dtype=float64, numpy=\n",
       "array([-2.        , -1.95959596, -1.91919192, -1.87878788, -1.83838384,\n",
       "       -1.7979798 , -1.75757576, -1.71717172, -1.67676768, -1.63636364,\n",
       "       -1.5959596 , -1.55555556, -1.51515152, -1.47474747, -1.43434343,\n",
       "       -1.39393939, -1.35353535, -1.31313131, -1.27272727, -1.23232323,\n",
       "       -1.19191919, -1.15151515, -1.11111111, -1.07070707, -1.03030303,\n",
       "       -0.98989899, -0.94949495, -0.90909091, -0.86868687, -0.82828283,\n",
       "       -0.78787879, -0.74747475, -0.70707071, -0.66666667, -0.62626263,\n",
       "       -0.58585859, -0.54545455, -0.50505051, -0.46464646, -0.42424242,\n",
       "       -0.38383838, -0.34343434, -0.3030303 , -0.26262626, -0.22222222,\n",
       "       -0.18181818, -0.14141414, -0.1010101 , -0.06060606, -0.02020202,\n",
       "        0.02020202,  0.06060606,  0.1010101 ,  0.14141414,  0.18181818,\n",
       "        0.22222222,  0.26262626,  0.3030303 ,  0.34343434,  0.38383838,\n",
       "        0.42424242,  0.46464646,  0.50505051,  0.54545455,  0.58585859,\n",
       "        0.62626263,  0.66666667,  0.70707071,  0.74747475,  0.78787879,\n",
       "        0.82828283,  0.86868687,  0.90909091,  0.94949495,  0.98989899,\n",
       "        1.03030303,  1.07070707,  1.11111111,  1.15151515,  1.19191919,\n",
       "        1.23232323,  1.27272727,  1.31313131,  1.35353535,  1.39393939,\n",
       "        1.43434343,  1.47474747,  1.51515152,  1.55555556,  1.5959596 ,\n",
       "        1.63636364,  1.67676768,  1.71717172,  1.75757576,  1.7979798 ,\n",
       "        1.83838384,  1.87878788,  1.91919192,  1.95959596,  2.        ])>"
      ]
     },
     "execution_count": 69,
     "metadata": {},
     "output_type": "execute_result"
    }
   ],
   "source": [
    "x = tf.Variable(np.linspace(-1, 1, 100))\n",
    "\n",
    "@tf.function\n",
    "def f(x):\n",
    "    return x**2\n",
    "    \n",
    "with tf.GradientTape() as tape:\n",
    "    y = f(x)\n",
    "\n",
    "dy_dx = tape.gradient(y, x)\n",
    "dy_dx"
   ]
  },
  {
   "cell_type": "code",
   "execution_count": 70,
   "id": "145c7243-2e6e-4017-92b2-13c6cd40b081",
   "metadata": {},
   "outputs": [
    {
     "data": {
      "text/plain": [
       "<matplotlib.legend.Legend at 0x7f78f47114f0>"
      ]
     },
     "execution_count": 70,
     "metadata": {},
     "output_type": "execute_result"
    },
    {
     "data": {
      "image/png": "[encoded data removed]",
      "text/plain": [
       "<Figure size 640x480 with 1 Axes>"
      ]
     },
     "metadata": {},
     "output_type": "display_data"
    }
   ],
   "source": [
    "plt.plot(x.numpy(), f(x).numpy(), label=\"f\")\n",
    "plt.plot(x.numpy(), dy_dx.numpy(), label=\"df/dx\")\n",
    "plt.legend()"
   ]
  },
  {
   "cell_type": "markdown",
   "id": "b75d5367-c03b-4a95-be1d-53c1293abc1a",
   "metadata": {},
   "source": [
    "Получение производных из каждой точки"
   ]
  },
  {
   "cell_type": "code",
   "execution_count": 71,
   "id": "259e778c-5502-4a14-a918-c4c56f6e4e8e",
   "metadata": {},
   "outputs": [],
   "source": [
    "class MegaFun(tf.Module):\n",
    "    def __init__(self):\n",
    "        self.w1 = tf.Variable(1.0, dtype=tf.float64)\n",
    "        self.w2 = tf.Variable(1.0, dtype=tf.float64)\n",
    "        self.w3 = tf.Variable(1.0, dtype=tf.float64)\n",
    "          \n",
    "    def __call__(self, x):\n",
    "        return self.w1 * x+ self.w2 * x**2 + self.w3\n",
    "        "
   ]
  },
  {
   "cell_type": "code",
   "execution_count": 72,
   "id": "ffefbc94-f1dd-4187-9267-8403cc8603a8",
   "metadata": {},
   "outputs": [],
   "source": [
    "fun = MegaFun()"
   ]
  },
  {
   "cell_type": "code",
   "execution_count": 73,
   "id": "609378fd-f715-4d7c-8bd6-d451c2ea21fe",
   "metadata": {},
   "outputs": [
    {
     "data": {
      "text/plain": [
       "(<tf.Tensor: shape=(), dtype=float64, numpy=7.771561172376096e-15>,\n",
       " <tf.Tensor: shape=(), dtype=float64, numpy=34.006734006734014>,\n",
       " <tf.Tensor: shape=(), dtype=float64, numpy=100.0>)"
      ]
     },
     "execution_count": 73,
     "metadata": {},
     "output_type": "execute_result"
    }
   ],
   "source": [
    "x = tf.constant(np.linspace(-1, 1, 100))\n",
    "fun = MegaFun()\n",
    "    \n",
    "with tf.GradientTape() as tape:\n",
    "    z = fun(x)\n",
    "\n",
    "dy_dx = tape.gradient(z, fun.trainable_variables)\n",
    "dy_dx"
   ]
  },
  {
   "cell_type": "code",
   "execution_count": 74,
   "id": "43d1bbce-0b39-48d6-a064-d6bfc1aece21",
   "metadata": {},
   "outputs": [
    {
     "data": {
      "text/plain": [
       "(<tf.Variable 'Variable:0' shape=() dtype=float64, numpy=1.0>,\n",
       " <tf.Variable 'Variable:0' shape=() dtype=float64, numpy=1.0>,\n",
       " <tf.Variable 'Variable:0' shape=() dtype=float64, numpy=1.0>)"
      ]
     },
     "execution_count": 74,
     "metadata": {},
     "output_type": "execute_result"
    }
   ],
   "source": [
    "fun.trainable_variables"
   ]
  },
  {
   "cell_type": "code",
   "execution_count": 75,
   "id": "a50e99b9-2049-462e-a484-9dfaf7f1c6f9",
   "metadata": {},
   "outputs": [],
   "source": [
    "class SuperMegaFun(tf.Module):\n",
    "    def __init__(self):\n",
    "        self.fun = MegaFun()\n",
    "        self.b = tf.Variable(0.0, dtype=tf.float64)\n",
    "   \n",
    "    def __call__(self, x):\n",
    "        return self.fun(x) + self.b"
   ]
  },
  {
   "cell_type": "code",
   "execution_count": 76,
   "id": "079879be-6297-4f6d-be61-51df17bb327c",
   "metadata": {},
   "outputs": [
    {
     "data": {
      "text/plain": [
       "(<tf.Tensor: shape=(), dtype=float64, numpy=100.0>,\n",
       " <tf.Tensor: shape=(), dtype=float64, numpy=7.771561172376096e-15>,\n",
       " <tf.Tensor: shape=(), dtype=float64, numpy=34.006734006734014>,\n",
       " <tf.Tensor: shape=(), dtype=float64, numpy=100.0>)"
      ]
     },
     "execution_count": 76,
     "metadata": {},
     "output_type": "execute_result"
    }
   ],
   "source": [
    "x = tf.constant(np.linspace(-1, 1, 100))\n",
    "\n",
    "g = SuperMegaFun()\n",
    "with tf.GradientTape() as tape:\n",
    "    z = g(x)\n",
    "\n",
    "dy_dx = tape.gradient(z, g.trainable_variables)\n",
    "dy_dx"
   ]
  },
  {
   "cell_type": "code",
   "execution_count": 78,
   "id": "0496d013-8f25-4910-a1ca-9481dbf05b51",
   "metadata": {},
   "outputs": [
    {
     "name": "stdout",
     "output_type": "stream",
     "text": [
      "(<tf.Tensor: shape=(), dtype=float64, numpy=100.0>, <tf.Tensor: shape=(), dtype=float64, numpy=7.771561172376096e-15>, <tf.Tensor: shape=(), dtype=float64, numpy=34.006734006734014>, <tf.Tensor: shape=(), dtype=float64, numpy=100.0>)\n",
      "error\n"
     ]
    }
   ],
   "source": [
    "x = tf.constant(np.linspace(-1, 1, 100))\n",
    "\n",
    "g = SuperMegaFun()\n",
    "with tf.GradientTape() as tape:\n",
    "    z = g(x)\n",
    "\n",
    "dy_dx = tape.gradient(z, g.trainable_variables)\n",
    "print(dy_dx)\n",
    "try:\n",
    "    dy_dx2 = tape.gradient(z, g.trainable_variables)\n",
    "    print(dy_dx2)\n",
    "except:\n",
    "    print('error')\n"
   ]
  },
  {
   "cell_type": "code",
   "execution_count": 79,
   "id": "68ec8bfd-ab7e-4af5-aef7-ee222d037cec",
   "metadata": {},
   "outputs": [
    {
     "name": "stdout",
     "output_type": "stream",
     "text": [
      "(<tf.Tensor: shape=(), dtype=float64, numpy=100.0>, <tf.Tensor: shape=(), dtype=float64, numpy=7.771561172376096e-15>, <tf.Tensor: shape=(), dtype=float64, numpy=34.006734006734014>, <tf.Tensor: shape=(), dtype=float64, numpy=100.0>)\n",
      "(<tf.Tensor: shape=(), dtype=float64, numpy=100.0>, <tf.Tensor: shape=(), dtype=float64, numpy=7.771561172376096e-15>, <tf.Tensor: shape=(), dtype=float64, numpy=34.006734006734014>, <tf.Tensor: shape=(), dtype=float64, numpy=100.0>)\n"
     ]
    }
   ],
   "source": [
    "x = tf.constant(np.linspace(-1, 1, 100))\n",
    "\n",
    "g = SuperMegaFun()\n",
    "with tf.GradientTape(persistent=True) as tape: # <-  Запоминать результат\n",
    "    z = g(x)\n",
    "\n",
    "dy_dx = tape.gradient(z, g.trainable_variables)\n",
    "print(dy_dx)\n",
    "try:\n",
    "    dy_dx2 = tape.gradient(z, g.trainable_variables)\n",
    "    print(dy_dx2)\n",
    "except:\n",
    "    print('error')\n"
   ]
  },
  {
   "cell_type": "markdown",
   "id": "89b67451-4705-4d36-8600-10445db0eea5",
   "metadata": {},
   "source": [
    "# Обучение"
   ]
  },
  {
   "cell_type": "code",
   "execution_count": 93,
   "id": "9257ad7f-1e3c-4e6c-b52f-8eb9753aca12",
   "metadata": {},
   "outputs": [
    {
     "name": "stdout",
     "output_type": "stream",
     "text": [
      "1.999127101701888 2.9999999993888893\n"
     ]
    }
   ],
   "source": [
    "x = tf.constant(np.linspace(-1, 1, 100))\n",
    "y_tr = 2.0*x+3.0\n",
    "\n",
    "\n",
    "EPOCHS = 100\n",
    "alpha = 0.1\n",
    "\n",
    "\n",
    "class Model(tf.Module):\n",
    "    def __init__(self):\n",
    "        self.a = tf.Variable(1.0, dtype=tf.float64)\n",
    "        self.b = tf.Variable(0.0, dtype=tf.float64)\n",
    "\n",
    "    def __call__(self, x):\n",
    "        return self.a*x+self.b \n",
    "\n",
    "model = Model()\n",
    "\n",
    "@tf.function\n",
    "def loss(y, y_tr):\n",
    "    return tf.reduce_mean((y-y_tr)**2)\n",
    "\n",
    "@tf.function\n",
    "def step(model):\n",
    "    with tf.GradientTape() as tape: \n",
    "        y = model(x)\n",
    "        delta = loss(y, y_tr)\n",
    "    delta_a, delta_b = tape.gradient(delta, model.trainable_variables)\n",
    "    model.a.assign_sub(alpha*delta_a)\n",
    "    model.b.assign_sub(alpha*delta_b)\n",
    "\n",
    "\n",
    "for i in range(EPOCHS):\n",
    "    step(model)\n",
    "\n",
    "print(model.a.numpy(), model.b.numpy())"
   ]
  },
  {
   "cell_type": "code",
   "execution_count": null,
   "id": "eca4f6ef-a226-4981-a1a3-8afc10be4869",
   "metadata": {},
   "outputs": [],
   "source": []
  }
 ],
 "metadata": {
  "kernelspec": {
   "display_name": "Python 3 (ipykernel)",
   "language": "python",
   "name": "python3"
  },
  "language_info": {
   "codemirror_mode": {
    "name": "ipython",
    "version": 3
   },
   "file_extension": ".py",
   "mimetype": "text/x-python",
   "name": "python",
   "nbconvert_exporter": "python",
   "pygments_lexer": "ipython3",
   "version": "3.9.20"
  }
 },
 "nbformat": 4,
 "nbformat_minor": 5
}
