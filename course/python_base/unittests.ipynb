{
 "cells": [
  {
   "cell_type": "markdown",
   "id": "a5df5be9-77dd-4cc8-bb81-43102fbcc518",
   "metadata": {},
   "source": []
  },
  {
   "cell_type": "code",
   "execution_count": 41,
   "id": "84b8388c-14b6-4ee1-8f1a-2292839cc328",
   "metadata": {},
   "outputs": [
    {
     "data": {
      "text/plain": [
       "7"
      ]
     },
     "execution_count": 41,
     "metadata": {},
     "output_type": "execute_result"
    }
   ],
   "source": [
    "# Исходная функция для вычисления площади прямоугольника\n",
    "def calculate_area(length, width):\n",
    "    return length * width\n",
    "\n",
    "def specific_area(a, b, a1, b1):\n",
    "    \"\"\"\n",
    "                a\n",
    "    o----------------------o\n",
    "    |                      |\n",
    "    |         o------------o\n",
    "  b |         |     a1\n",
    "    |         | b1\n",
    "    |         |\n",
    "    o---------o\n",
    "    \"\"\"\n",
    "    return calculate_area(a, b) + calculate_area(-a1, b1)\n",
    "\n",
    "specific_area(4, 2, 1, 1) "
   ]
  },
  {
   "cell_type": "code",
   "execution_count": 45,
   "id": "1e4573e8-7919-4fc9-995a-950680d617ea",
   "metadata": {},
   "outputs": [
    {
     "ename": "TypeError",
     "evalue": "unsupported operand type(s) for +: 'int' and 'NoneType'",
     "output_type": "error",
     "traceback": [
      "\u001b[0;31m---------------------------------------------------------------------------\u001b[0m",
      "\u001b[0;31mTypeError\u001b[0m                                 Traceback (most recent call last)",
      "Cell \u001b[0;32mIn[45], line 20\u001b[0m\n\u001b[1;32m      8\u001b[0m \u001b[38;5;250m    \u001b[39m\u001b[38;5;124;03m\"\"\"\u001b[39;00m\n\u001b[1;32m      9\u001b[0m \u001b[38;5;124;03m                a\u001b[39;00m\n\u001b[1;32m     10\u001b[0m \u001b[38;5;124;03m    o----------------------o\u001b[39;00m\n\u001b[0;32m   (...)\u001b[0m\n\u001b[1;32m     16\u001b[0m \u001b[38;5;124;03m    o---------o\u001b[39;00m\n\u001b[1;32m     17\u001b[0m \u001b[38;5;124;03m    \"\"\"\u001b[39;00m\n\u001b[1;32m     18\u001b[0m     \u001b[38;5;28;01mreturn\u001b[39;00m calculate_area(a, b) \u001b[38;5;241m+\u001b[39m calculate_area(\u001b[38;5;241m-\u001b[39ma1, b1)\n\u001b[0;32m---> 20\u001b[0m \u001b[43mspecific_area\u001b[49m\u001b[43m(\u001b[49m\u001b[38;5;241;43m4\u001b[39;49m\u001b[43m,\u001b[49m\u001b[43m \u001b[49m\u001b[38;5;241;43m2\u001b[39;49m\u001b[43m,\u001b[49m\u001b[43m \u001b[49m\u001b[38;5;241;43m1\u001b[39;49m\u001b[43m,\u001b[49m\u001b[43m \u001b[49m\u001b[38;5;241;43m1\u001b[39;49m\u001b[43m)\u001b[49m\n",
      "Cell \u001b[0;32mIn[45], line 18\u001b[0m, in \u001b[0;36mspecific_area\u001b[0;34m(a, b, a1, b1)\u001b[0m\n\u001b[1;32m      7\u001b[0m \u001b[38;5;28;01mdef\u001b[39;00m \u001b[38;5;21mspecific_area\u001b[39m(a, b, a1, b1):\n\u001b[1;32m      8\u001b[0m \u001b[38;5;250m    \u001b[39m\u001b[38;5;124;03m\"\"\"\u001b[39;00m\n\u001b[1;32m      9\u001b[0m \u001b[38;5;124;03m                a\u001b[39;00m\n\u001b[1;32m     10\u001b[0m \u001b[38;5;124;03m    o----------------------o\u001b[39;00m\n\u001b[0;32m   (...)\u001b[0m\n\u001b[1;32m     16\u001b[0m \u001b[38;5;124;03m    o---------o\u001b[39;00m\n\u001b[1;32m     17\u001b[0m \u001b[38;5;124;03m    \"\"\"\u001b[39;00m\n\u001b[0;32m---> 18\u001b[0m     \u001b[38;5;28;01mreturn\u001b[39;00m \u001b[43mcalculate_area\u001b[49m\u001b[43m(\u001b[49m\u001b[43ma\u001b[49m\u001b[43m,\u001b[49m\u001b[43m \u001b[49m\u001b[43mb\u001b[49m\u001b[43m)\u001b[49m\u001b[43m \u001b[49m\u001b[38;5;241;43m+\u001b[39;49m\u001b[43m \u001b[49m\u001b[43mcalculate_area\u001b[49m\u001b[43m(\u001b[49m\u001b[38;5;241;43m-\u001b[39;49m\u001b[43ma1\u001b[49m\u001b[43m,\u001b[49m\u001b[43m \u001b[49m\u001b[43mb1\u001b[49m\u001b[43m)\u001b[49m\n",
      "\u001b[0;31mTypeError\u001b[0m: unsupported operand type(s) for +: 'int' and 'NoneType'"
     ]
    }
   ],
   "source": [
    "# Улучшенная версия функции calculate_area, добавляющая проверку на отрицательные значения\n",
    "def calculate_area(length, width):\n",
    "    if length < 0 or width < 0:\n",
    "        return None\n",
    "    return length * width\n",
    "\n",
    "def specific_area(a, b, a1, b1):\n",
    "    \"\"\"\n",
    "                a\n",
    "    o----------------------o\n",
    "    |                      |\n",
    "    |         o------------o\n",
    "  b |         |     a1\n",
    "    |         | b1\n",
    "    |         |\n",
    "    o---------o\n",
    "    \"\"\"\n",
    "    return calculate_area(a, b) + calculate_area(-a1, b1)\n",
    "\n",
    "specific_area(4, 2, 1, 1)"
   ]
  },
  {
   "cell_type": "code",
   "execution_count": 42,
   "id": "93f9d73c-705b-4b38-938b-90759d4d1fbd",
   "metadata": {},
   "outputs": [],
   "source": [
    "import unittest"
   ]
  },
  {
   "cell_type": "code",
   "execution_count": 46,
   "id": "905f309b-2422-45fc-b269-4641536695c7",
   "metadata": {},
   "outputs": [],
   "source": [
    "class RectClass(unittest.TestCase):\n",
    "    def test_m_rect(self):\n",
    "        self.assertIn(type(calculate_area(-1, 1)), [int, float])"
   ]
  },
  {
   "cell_type": "code",
   "execution_count": 47,
   "id": "5234acd7-60ce-46e7-9ca1-7807c9a19ace",
   "metadata": {},
   "outputs": [
    {
     "name": "stderr",
     "output_type": "stream",
     "text": [
      "test_m_rect (__main__.RectClass) ... FAIL\n",
      "\n",
      "======================================================================\n",
      "FAIL: test_m_rect (__main__.RectClass)\n",
      "----------------------------------------------------------------------\n",
      "Traceback (most recent call last):\n",
      "  File \"/tmp/.private/daniil/ipykernel_28129/1903120072.py\", line 3, in test_m_rect\n",
      "    self.assertIn(type(calculate_area(-1, 1)), [int, float])\n",
      "AssertionError: <class 'NoneType'> not found in [<class 'int'>, <class 'float'>]\n",
      "\n",
      "----------------------------------------------------------------------\n",
      "Ran 1 test in 0.007s\n",
      "\n",
      "FAILED (failures=1)\n"
     ]
    },
    {
     "data": {
      "text/plain": [
       "<unittest.main.TestProgram at 0x7f75ed3a6b80>"
      ]
     },
     "execution_count": 47,
     "metadata": {},
     "output_type": "execute_result"
    }
   ],
   "source": [
    "unittest.main(argv=[''], verbosity=2, exit=False)"
   ]
  },
  {
   "cell_type": "code",
   "execution_count": null,
   "id": "3ea80c20-ce96-4612-af81-12fb0ec776d4",
   "metadata": {},
   "outputs": [],
   "source": []
  }
 ],
 "metadata": {
  "kernelspec": {
   "display_name": "Python 3 (ipykernel)",
   "language": "python",
   "name": "python3"
  },
  "language_info": {
   "codemirror_mode": {
    "name": "ipython",
    "version": 3
   },
   "file_extension": ".py",
   "mimetype": "text/x-python",
   "name": "python",
   "nbconvert_exporter": "python",
   "pygments_lexer": "ipython3",
   "version": "3.9.20"
  }
 },
 "nbformat": 4,
 "nbformat_minor": 5
}
