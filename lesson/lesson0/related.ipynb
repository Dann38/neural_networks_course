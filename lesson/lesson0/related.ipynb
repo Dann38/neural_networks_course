{
 "cells": [
  {
   "cell_type": "markdown",
   "id": "e8bb06d1-a019-4e4a-92b9-c2890bc86d11",
   "metadata": {},
   "source": [
    "# Работа с файлами"
   ]
  },
  {
   "cell_type": "code",
   "execution_count": 7,
   "id": "9daa61b2-b943-4ef1-b5e0-ec6aa6b9806c",
   "metadata": {},
   "outputs": [],
   "source": [
    "with open('new.txt', 'w', encoding='utf8') as f:   # Открыть файл new.txt. Аргумент 'w' означает для записи\n",
    "                                                   # as f - обозначает как обращаться к файлу и его методам\n",
    "    f.writelines(\"слово 1 \")                 # writelines(text) записать text \n",
    "    f.writelines(\"слово 2 \\n новая строка\")  # \\n - символ переноса строки            \n",
    "\n",
    "# ВНИМАНИЕ!!! если открыть файл на запись, то он затрет всю информацию в нем и перезапишет"
   ]
  },
  {
   "cell_type": "code",
   "execution_count": 10,
   "id": "403b4e64-d357-4b98-8713-ac54d2ebf983",
   "metadata": {},
   "outputs": [
    {
     "name": "stdout",
     "output_type": "stream",
     "text": [
      "['слово 1 слово 2 \\n', ' новая строка']\n"
     ]
    }
   ],
   "source": [
    "with open('new.txt', 'r', encoding='utf8') as f:   # Открыть файл new.txt. Аргумент 'r' означает для чтения\n",
    "    print(f.readlines())       # readlines читает массив строк и не убирает перенос строки            "
   ]
  },
  {
   "cell_type": "markdown",
   "id": "dd502295-fb78-4405-9113-460130387f3d",
   "metadata": {},
   "source": [
    "### Формат json"
   ]
  },
  {
   "cell_type": "markdown",
   "id": "c4f1c889-5ac8-4813-918d-cd889ef0524b",
   "metadata": {},
   "source": [
    "Аналог формата json в python это словарь. Он содержит ключ и значения. Ключ в json это обязательно строка. Значение может быть числом, строкой, массивом, булевой переменной, либо словарем."
   ]
  },
  {
   "cell_type": "code",
   "execution_count": 11,
   "id": "a0f505a0-f3d0-41d4-9113-7d96697b6e8e",
   "metadata": {},
   "outputs": [],
   "source": [
    "my_json = {\n",
    "    \"число\": 1,\n",
    "    \"строка\": \"text\",\n",
    "    \"булевый тип\": True,\n",
    "    \"массив\": [\"text1\", \"text2\"],\n",
    "    \"словарь (объект)\": {\n",
    "        \"имя\": \"Даня\",\n",
    "        \"возраст\": 23\n",
    "    }\n",
    "}"
   ]
  },
  {
   "cell_type": "code",
   "execution_count": 12,
   "id": "95bca8dc-7d83-4de8-b6cd-4019de6c5a5f",
   "metadata": {},
   "outputs": [],
   "source": [
    "# Для записи словаря в файл используется библиотека json, ее необходимо инпортировать\n",
    "import json"
   ]
  },
  {
   "cell_type": "code",
   "execution_count": 17,
   "id": "01022de7-26b1-47b0-85ce-565cd95586fe",
   "metadata": {},
   "outputs": [],
   "source": [
    "# json - это файл и с ним нужно работать как с файлом\n",
    "with open('my_json.json', 'w',) as f:\n",
    "    json.dump(my_json, f) # сохранить словарь как json файл"
   ]
  },
  {
   "cell_type": "code",
   "execution_count": 18,
   "id": "02bcb461-0eb7-4914-8eea-77f690ea5f07",
   "metadata": {},
   "outputs": [],
   "source": [
    "with open('my_json.json', 'r',) as f:\n",
    "    my_json2 = json.load(f) # прочитать json и сохранить его как словарь"
   ]
  },
  {
   "cell_type": "code",
   "execution_count": 20,
   "id": "f70428c3-46ea-48ea-a4f6-255929969a96",
   "metadata": {},
   "outputs": [
    {
     "data": {
      "text/plain": [
       "True"
      ]
     },
     "execution_count": 20,
     "metadata": {},
     "output_type": "execute_result"
    }
   ],
   "source": [
    "my_json2 == my_json # проверка на идентичность "
   ]
  },
  {
   "cell_type": "markdown",
   "id": "fada5d9a-380e-409b-9c68-7e81f198d074",
   "metadata": {},
   "source": [
    "# Работа со словарем"
   ]
  },
  {
   "cell_type": "code",
   "execution_count": 22,
   "id": "cd81bd6a-242c-4ffd-acc0-68e3c510a21e",
   "metadata": {},
   "outputs": [
    {
     "data": {
      "text/plain": [
       "'text'"
      ]
     },
     "execution_count": 22,
     "metadata": {},
     "output_type": "execute_result"
    }
   ],
   "source": [
    "# обращение по ключу к словарю\n",
    "my_json['строка'] # в квадратных скобках указывается ключ в результате возвращается значение"
   ]
  },
  {
   "cell_type": "code",
   "execution_count": 23,
   "id": "64148b1f-1d10-4d18-9380-f0b714839dd5",
   "metadata": {},
   "outputs": [
    {
     "data": {
      "text/plain": [
       "dict_keys(['число', 'строка', 'булевый тип', 'массив', 'словарь (объект)'])"
      ]
     },
     "execution_count": 23,
     "metadata": {},
     "output_type": "execute_result"
    }
   ],
   "source": [
    "# узнать какие есть ключи можно используя метод keys()\n",
    "my_json.keys()"
   ]
  },
  {
   "cell_type": "code",
   "execution_count": 25,
   "id": "df196c79-c60d-4643-9b6c-d35ce1b8603d",
   "metadata": {},
   "outputs": [
    {
     "data": {
      "text/plain": [
       "dict_items([('число', 1), ('строка', 'text'), ('булевый тип', True), ('массив', ['text1', 'text2']), ('словарь (объект)', {'имя': 'Даня', 'возраст': 23})])"
      ]
     },
     "execution_count": 25,
     "metadata": {},
     "output_type": "execute_result"
    }
   ],
   "source": [
    "# вернуть пары (ключ и значение) можно с помощью метода items()\n",
    "my_json.items()"
   ]
  },
  {
   "cell_type": "markdown",
   "id": "f7f3caba-8b69-4989-b6a0-e76344817114",
   "metadata": {},
   "source": [
    "# Работа с массивами"
   ]
  },
  {
   "cell_type": "markdown",
   "id": "496fde0e-176c-4dfa-a383-a6751c83ee23",
   "metadata": {},
   "source": [
    "массив - это упорядоченный набор элементов"
   ]
  },
  {
   "cell_type": "code",
   "execution_count": 31,
   "id": "2247c710-7cd7-4657-9f53-284846085cef",
   "metadata": {},
   "outputs": [],
   "source": [
    "a = [  1,  2,  3,  4,  5]\n",
    "# Удобно представлять себе массив как ячейку памяти\n",
    "# a = | 1 | 2 | 3 | 4 | 5 |\n",
    "\n",
    "# каждая граница ячейки индексируется, когда мы обращаемя к массиву по индексу, мы считываем элемент справа от границы ячейки \n",
    "# a = | 1 | 2 | 3 | 4 | 5 |\n",
    "#     ^   ^   ^   ^   ^   ^\n",
    "#     0   1   2   3   4   5\n",
    "\n",
    "# последняя граница ячейки массива характеризует его длину (в примере это 5)\n",
    "\n",
    "# в python можно работать со срезом массива:\n",
    "# например от границы 0 до 4\n",
    "# a[0:4] = | 1 | 2 | 3 | 4 |\n",
    "#          ^   ^   ^   ^   ^\n",
    "#          0       :       4\n",
    "# a[4:5] = | 5 |\n",
    "#          ^   ^\n",
    "#          4 : 5\n",
    "\n",
    "# начало как и конец можно опускать a[0:4] = a[:4], a[4:5] = a[:5]"
   ]
  },
  {
   "cell_type": "code",
   "execution_count": 32,
   "id": "6a254f2a-6f75-4ab4-82f4-5bc2a8bf074a",
   "metadata": {},
   "outputs": [
    {
     "name": "stdout",
     "output_type": "stream",
     "text": [
      "a[0:4]:   [1, 2, 3, 4]\n",
      "a[0:5-1]: [1, 2, 3, 4]\n",
      "a[0:-1]:  [1, 2, 3, 4]\n",
      "a[0:-2]:  [1, 2, 3]\n",
      "a[-2:]:   [4, 5]\n"
     ]
    }
   ],
   "source": [
    "# Срезы \n",
    "print(\"a[0:4]:  \", a[0:4])\n",
    "print(\"a[0:5-1]:\", a[0:5-1])\n",
    "print(\"a[0:-1]: \", a[0:-1]) # Без 1-го последнего элемента\n",
    "print(\"a[0:-2]: \", a[0:-2]) # Без 2-х последних элементов\n",
    "print(\"a[-2:]:  \", a[-2:]) # Начиная от начала 2-го с конца элемента до самого конца\n"
   ]
  },
  {
   "cell_type": "markdown",
   "id": "60b6511e-b3ff-4a00-9e09-a3d0ff34d54b",
   "metadata": {},
   "source": [
    "### Генерация массивов"
   ]
  },
  {
   "cell_type": "code",
   "execution_count": 42,
   "id": "0ffa17db-787b-4fe5-958c-8606985caa32",
   "metadata": {},
   "outputs": [
    {
     "name": "stdout",
     "output_type": "stream",
     "text": [
      "[1, 2, 4, 8, 16, 32, 64, 128, 256, 512, 1024]\n",
      "[4, 5, 7, 11, 19, 35, 67, 131, 259, 515, 1027]\n",
      "[3, 3, 3, 3, 3, 3, 3, 3, 3, 3, 3]\n"
     ]
    }
   ],
   "source": [
    "# Генерация массивов пример: 1, 2, 4, 8, 16, ..., 1024 \n",
    "n = 11\n",
    "array1 = [] \n",
    "for i in range(n): # range создает последовательность 0, 1, 2, 3, ... n-1 , которая состоит из n элементов.\n",
    "    array1.append(2**i)\n",
    "print(array1)\n",
    "\n",
    "array2 = []\n",
    "# иногда нужно пробежаться по массиву\n",
    "for a in array1:\n",
    "    array2.append(a + 3) \n",
    "print(array2)\n",
    "\n",
    "# иногда может понадобиться получит кроме самого значения и его порядковый номер (с нуля)\n",
    "for i, a in enumerate(array1):\n",
    "    array2[i] = array2[i] - a\n",
    "print(array2)"
   ]
  },
  {
   "cell_type": "code",
   "execution_count": 43,
   "id": "76df33a9-dbc6-424d-ab4b-478fb25f3f63",
   "metadata": {},
   "outputs": [
    {
     "name": "stdout",
     "output_type": "stream",
     "text": [
      "[1, 2, 4, 8, 16, 32, 64, 128, 256, 512, 1024]\n"
     ]
    }
   ],
   "source": [
    "# Есть \"синтаксический сахар\" у python, когда массив создается сразу\n",
    "array3 = [2**i for i in range(11)]\n",
    "print(array3)"
   ]
  },
  {
   "cell_type": "code",
   "execution_count": 45,
   "id": "b7ffc50d-23ab-464c-bb7b-3bd98bef0e6e",
   "metadata": {},
   "outputs": [
    {
     "name": "stdout",
     "output_type": "stream",
     "text": [
      "[(0, 0, 0), (0, 0, 1), (0, 1, 0), (0, 1, 1), (1, 0, 0), (1, 0, 1), (1, 1, 0), (1, 1, 1)]\n"
     ]
    }
   ],
   "source": [
    "# причем число циклов может быть сколько угодно (чем раньше цикл, тем выше он был)\n",
    "array4 = [(i, j, k) for i in range(2) for j in range(2) for k in range(2)]\n",
    "print(array4)"
   ]
  },
  {
   "cell_type": "markdown",
   "id": "ad6870c1-6787-410c-bb0a-0a24eba10394",
   "metadata": {},
   "source": [
    "# Работа со строками"
   ]
  },
  {
   "cell_type": "code",
   "execution_count": 47,
   "id": "76737035-9868-4c84-a381-42640280c550",
   "metadata": {},
   "outputs": [],
   "source": [
    "text = \"Привет мир, ПРИВЕТ МИР\""
   ]
  },
  {
   "cell_type": "code",
   "execution_count": 48,
   "id": "2445b5a1-954e-4282-9968-8f693f7b60bf",
   "metadata": {},
   "outputs": [
    {
     "data": {
      "text/plain": [
       "['Привет', 'мир,', 'ПРИВЕТ', 'МИР']"
      ]
     },
     "execution_count": 48,
     "metadata": {},
     "output_type": "execute_result"
    }
   ],
   "source": [
    "r1 = text.split() # разделить по пробелу\n",
    "r1"
   ]
  },
  {
   "cell_type": "code",
   "execution_count": 50,
   "id": "eda92fb0-d170-4419-a035-96ed966d35e6",
   "metadata": {},
   "outputs": [
    {
     "data": {
      "text/plain": [
       "['Привет мир', ' ПРИВЕТ МИР']"
      ]
     },
     "execution_count": 50,
     "metadata": {},
     "output_type": "execute_result"
    }
   ],
   "source": [
    "r2 = text.split(',') # разделить по другому символу\n",
    "r2"
   ]
  },
  {
   "cell_type": "code",
   "execution_count": 51,
   "id": "9cf98fa4-74ac-4222-b161-ef1b71b3de00",
   "metadata": {},
   "outputs": [
    {
     "data": {
      "text/plain": [
       "'привет мир, привет мир'"
      ]
     },
     "execution_count": 51,
     "metadata": {},
     "output_type": "execute_result"
    }
   ],
   "source": [
    "text.lower() # текст в нижнем регистре"
   ]
  },
  {
   "cell_type": "code",
   "execution_count": 53,
   "id": "53bca854-9949-4bbe-81dd-8ef9ef59adc4",
   "metadata": {},
   "outputs": [
    {
     "data": {
      "text/plain": [
       "'ПРИВЕТ МИР, ПРИВЕТ МИР'"
      ]
     },
     "execution_count": 53,
     "metadata": {},
     "output_type": "execute_result"
    }
   ],
   "source": [
    "text.upper() # текст в верхнем регистре"
   ]
  },
  {
   "cell_type": "markdown",
   "id": "3026a53f-663e-4929-85e9-5fe5e3a8bb0a",
   "metadata": {},
   "source": [
    "# Тернарный оператор"
   ]
  },
  {
   "cell_type": "code",
   "execution_count": 54,
   "id": "36874ff7-f6a1-46c1-a334-56cd7454ba94",
   "metadata": {},
   "outputs": [
    {
     "data": {
      "text/plain": [
       "True"
      ]
     },
     "execution_count": 54,
     "metadata": {},
     "output_type": "execute_result"
    }
   ],
   "source": [
    "t = 3\n",
    "\n",
    "# Можно делать так\n",
    "if t>0:\n",
    "    x = 1\n",
    "else:\n",
    "    x = 0\n",
    "\n",
    "# А можно так\n",
    "x2 = 1 if t>0 else 0  \n",
    "\n",
    "x==x2"
   ]
  },
  {
   "cell_type": "code",
   "execution_count": null,
   "id": "072cf53c-9354-4c7c-9ac7-06d62badab79",
   "metadata": {},
   "outputs": [],
   "source": []
  }
 ],
 "metadata": {
  "kernelspec": {
   "display_name": "Python 3 (ipykernel)",
   "language": "python",
   "name": "python3"
  },
  "language_info": {
   "codemirror_mode": {
    "name": "ipython",
    "version": 3
   },
   "file_extension": ".py",
   "mimetype": "text/x-python",
   "name": "python",
   "nbconvert_exporter": "python",
   "pygments_lexer": "ipython3",
   "version": "3.9.18"
  }
 },
 "nbformat": 4,
 "nbformat_minor": 5
}
