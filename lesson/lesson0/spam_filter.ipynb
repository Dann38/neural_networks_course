{
 "cells": [
  {
   "cell_type": "code",
   "execution_count": 34,
   "id": "b8f29eac-989e-487e-9ea2-783a6aef4cd6",
   "metadata": {},
   "outputs": [],
   "source": [
    "import json\n",
    "import numpy as np"
   ]
  },
  {
   "cell_type": "code",
   "execution_count": 35,
   "id": "94964e55-f342-48e6-a87a-d32716e6dbca",
   "metadata": {},
   "outputs": [],
   "source": [
    "with open(\"data.json\", \"r\") as f:\n",
    "    # for l in f.readlines():\n",
    "    #     print(l)\n",
    "    js = json.load(f)\n",
    "    "
   ]
  },
  {
   "cell_type": "code",
   "execution_count": 72,
   "id": "e8c596d1-d627-449e-90bf-1818f2d66461",
   "metadata": {},
   "outputs": [],
   "source": [
    "def my_add(dict_, elem):\n",
    "    if elem in dict_.keys():\n",
    "        dict_[elem] += 1\n",
    "    else:\n",
    "        dict_[elem] = 1\n",
    "\n",
    "def create_dict_from_array(array_):\n",
    "    dict_ = {}\n",
    "    for row in array_:\n",
    "        words = row.split()\n",
    "        for w in words:\n",
    "            my_add(dict_, w.lower())\n",
    "    return dict_"
   ]
  },
  {
   "cell_type": "code",
   "execution_count": 73,
   "id": "9430923b-de26-4c20-b484-f1d2c3351f75",
   "metadata": {},
   "outputs": [],
   "source": [
    "spam_msg_ex = [row[\"text_msg\"] for row in js[\"spam\"][:-10]]\n",
    "nospam_msg_ex = [row[\"text_msg\"] for row in js[\"nospam\"][:-10]]\n",
    "\n",
    "spam_msg_test = [row[\"text_msg\"] for row in js[\"spam\"][-10:]]\n",
    "nospam_msg_test = [row[\"text_msg\"] for row in js[\"nospam\"][-10:]]"
   ]
  },
  {
   "cell_type": "code",
   "execution_count": 74,
   "id": "154351f3-61c5-4dc0-b581-31a9ed86b51e",
   "metadata": {},
   "outputs": [],
   "source": [
    "spam = create_dict_from_array(spam_msg_ex)\n",
    "nospam = create_dict_from_array(nospam_msg_ex)"
   ]
  },
  {
   "cell_type": "code",
   "execution_count": 94,
   "id": "6ce6e77a-1314-47a2-86a4-f33e50f8c308",
   "metadata": {},
   "outputs": [],
   "source": [
    "def test_spam(text, w=0.5):\n",
    "    words = [word.lower() for word in text.split()]\n",
    "    \n",
    "    P = []\n",
    "    for word in words:\n",
    "        count_s = spam[word] if word in spam.keys() else 0\n",
    "        count_ns = nospam[word] if word in nospam.keys() else 0\n",
    "        count = count_ns + count_s\n",
    "        p = count_s/(count) if count != 0 else 0.5\n",
    "        P.append(p)\n",
    "    PS = np.prod(P)\n",
    "    PH = np.prod([1-p for p in P])\n",
    "    rez_P = PS/(PS+PH) if PS+PH != 0 else 0\n",
    "    return 1 if rez_P > w else 0"
   ]
  },
  {
   "cell_type": "markdown",
   "id": "c2ba0708-3ab1-4c02-8439-37955024c08d",
   "metadata": {},
   "source": [
    "$A$ - письмо спам\n",
    "\n",
    "$B$ - письмо содержит конкретный текст\n",
    "\n",
    "$$P(A|B)P(B) = P(B|A)P(A)$$\n",
    "$$P(A|B) = \\frac{P(B|A)P(A)}{P(B)}$$\n",
    "$$P(A|B) = \\frac{P(B|A)P(A)}{P(B|A)P(A) + P(B|\\overline{A})P(\\overline{A})}$$\n",
    "\n",
    "Вероятность текста присутствовать в наборе данных \"спама\" и \"не спама\". \n",
    "$$P(B|\\overline{A}) = 1-P(B|A)$$\n",
    "$$P(B|A) = \\Pi_{i} P(W_i|A)$$\n",
    "$W_i$ - вероятность содержания слова \n",
    "$$P(W_i|A) = \\frac{N_A}{N_A+N_{\\overline A}}$$\n",
    "\n",
    "$N_A$ - число слов в наборе спам\n",
    "\n",
    "$N_\\overline{A}$ - число слов в наборе не спам\n"
   ]
  },
  {
   "cell_type": "code",
   "execution_count": 95,
   "id": "2501fb19-326c-426f-82d5-364d4d299cd4",
   "metadata": {},
   "outputs": [],
   "source": [
    "y1 = [test_spam(t) for t in spam_msg_test]"
   ]
  },
  {
   "cell_type": "code",
   "execution_count": 96,
   "id": "de4b38df-7c59-4fe0-b6ab-dd94b74f45e1",
   "metadata": {},
   "outputs": [],
   "source": [
    "y2 = [test_spam(t) for t in nospam_msg_test]"
   ]
  },
  {
   "cell_type": "code",
   "execution_count": 102,
   "id": "de6ab675-9a16-4059-9e07-3fdf0bb82b6e",
   "metadata": {},
   "outputs": [
    {
     "name": "stdout",
     "output_type": "stream",
     "text": [
      "[1, 1, 1, 1, 1, 1, 1, 0, 1, 1]\n",
      "[0, 0, 0, 0, 0, 0, 0, 0, 0, 1]\n"
     ]
    }
   ],
   "source": [
    "print(y1)\n",
    "print(y2)"
   ]
  },
  {
   "cell_type": "markdown",
   "id": "9c62725a-659a-452d-ab0f-387a3dfc6a68",
   "metadata": {},
   "source": [
    "$$\\begin{pmatrix} & \\text{спам}  &  \\text{не спам}\\\\ \\text{определил как спам} & 0.9 & 0.1 \\\\\\text{определил как не спам} & 0.1 & 0.9 \\end{pmatrix}$$"
   ]
  },
  {
   "cell_type": "code",
   "execution_count": null,
   "id": "9e42d1a3-d8c3-4ec0-a0c0-45a46944be16",
   "metadata": {},
   "outputs": [],
   "source": []
  }
 ],
 "metadata": {
  "kernelspec": {
   "display_name": "Python 3 (ipykernel)",
   "language": "python",
   "name": "python3"
  },
  "language_info": {
   "codemirror_mode": {
    "name": "ipython",
    "version": 3
   },
   "file_extension": ".py",
   "mimetype": "text/x-python",
   "name": "python",
   "nbconvert_exporter": "python",
   "pygments_lexer": "ipython3",
   "version": "3.12.4"
  }
 },
 "nbformat": 4,
 "nbformat_minor": 5
}
