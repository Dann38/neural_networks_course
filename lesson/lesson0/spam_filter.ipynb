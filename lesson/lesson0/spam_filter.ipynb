{
 "cells": [
  {
   "cell_type": "code",
   "execution_count": 1,
   "id": "b8f29eac-989e-487e-9ea2-783a6aef4cd6",
   "metadata": {},
   "outputs": [],
   "source": [
    "import json\n",
    "import numpy as np"
   ]
  },
  {
   "cell_type": "code",
   "execution_count": 2,
   "id": "a37a8feb-b813-47bb-9def-83dc4cfaacfa",
   "metadata": {},
   "outputs": [],
   "source": [
    "# !python -m pip install --upgrade pip\n",
    "# !python -m pip install numpy \n",
    "# !python -m pip install json"
   ]
  },
  {
   "cell_type": "code",
   "execution_count": 29,
   "id": "94964e55-f342-48e6-a87a-d32716e6dbca",
   "metadata": {},
   "outputs": [],
   "source": [
    "with open(\"data.json\", \"r\", encoding=\"utf8\") as f:\n",
    "    # for l in f.readlines():\n",
    "    #     print(l)\n",
    "    js = json.load(f)\n",
    "  "
   ]
  },
  {
   "cell_type": "code",
   "execution_count": 35,
   "id": "44728f45-3f04-4cf1-8c95-45242dd99b82",
   "metadata": {},
   "outputs": [
    {
     "data": {
      "text/plain": [
       "'Привет! Вы выиграли iPhone 14 Pro Max! Перейдите по ссылке https://www.kaspersky.ru/resource-center/threats/beware-online-dating-scams для оформления доставки.'"
      ]
     },
     "execution_count": 35,
     "metadata": {},
     "output_type": "execute_result"
    }
   ],
   "source": [
    "js['spam'][3]['text_msg']"
   ]
  },
  {
   "cell_type": "code",
   "execution_count": 36,
   "id": "6ac2aa61-57f0-44fc-9eb1-2d912527d906",
   "metadata": {},
   "outputs": [
    {
     "name": "stdout",
     "output_type": "stream",
     "text": [
      "a[0:4]:   [1, 2, 3, 4]\n",
      "a[0:5-1]: [1, 2, 3, 4]\n",
      "a[0:-1]:  [1, 2, 3, 4]\n",
      "a[0:-2]:  [1, 2, 3]\n",
      "a[-2:]:   [4, 5]\n"
     ]
    }
   ],
   "source": [
    "# Индексация\n",
    "                   #v\n",
    "a = [  1,  2,  3,  4,  5]\n",
    "#   | 1 | 2 | 3 | 4 | 5 |\n",
    "#   ^   ^   ^   ^   ^   ^\n",
    "#   0   1   2   3   4   5\n",
    "#   0   1   2   3   4  \n",
    "#  5-5 5-4 5-3 5-2 5-1 5-0\n",
    "#  -5  -4  -3  -2  -1  \n",
    "# 5 - индекс конца массива равен его длине\n",
    "\n",
    "# Срезы \n",
    "print(\"a[0:4]:  \", a[0:4])\n",
    "print(\"a[0:5-1]:\", a[0:5-1])\n",
    "print(\"a[0:-1]: \", a[0:-1]) # Без 1-го последнего элемента\n",
    "print(\"a[0:-2]: \", a[0:-2]) # Без 2-х последних элементов\n",
    "print(\"a[-2:]:  \", a[-2:]) # Начиная от начала 2-го с конца элемента до самого конца\n"
   ]
  },
  {
   "cell_type": "code",
   "execution_count": 38,
   "id": "b1133885-38ea-4616-a2c0-b3c2a1000f60",
   "metadata": {},
   "outputs": [
    {
     "ename": "TypeError",
     "evalue": "list indices must be integers or slices, not str",
     "output_type": "error",
     "traceback": [
      "\u001b[1;31m---------------------------------------------------------------------------\u001b[0m",
      "\u001b[1;31mTypeError\u001b[0m                                 Traceback (most recent call last)",
      "Cell \u001b[1;32mIn[38], line 3\u001b[0m\n\u001b[0;32m      1\u001b[0m \u001b[38;5;66;03m# js[\"spam\"][0]\u001b[39;00m\n\u001b[0;32m      2\u001b[0m \u001b[38;5;66;03m# js[\"spam\"][0][\"text_msg\"]\u001b[39;00m\n\u001b[1;32m----> 3\u001b[0m \u001b[43mjs\u001b[49m\u001b[43m[\u001b[49m\u001b[38;5;124;43m\"\u001b[39;49m\u001b[38;5;124;43mspam\u001b[39;49m\u001b[38;5;124;43m\"\u001b[39;49m\u001b[43m]\u001b[49m\u001b[43m[\u001b[49m\u001b[38;5;241;43m-\u001b[39;49m\u001b[38;5;241;43m10\u001b[39;49m\u001b[43m:\u001b[49m\u001b[43m]\u001b[49m\u001b[43m[\u001b[49m\u001b[38;5;124;43m\"\u001b[39;49m\u001b[38;5;124;43mtext_msg\u001b[39;49m\u001b[38;5;124;43m\"\u001b[39;49m\u001b[43m]\u001b[49m\n",
      "\u001b[1;31mTypeError\u001b[0m: list indices must be integers or slices, not str"
     ]
    }
   ],
   "source": [
    "# js[\"spam\"][0]\n",
    "# js[\"spam\"][0][\"text_msg\"]\n",
    "# js[\"spam\"][5][\"text_msg\"]"
   ]
  },
  {
   "cell_type": "code",
   "execution_count": 40,
   "id": "6bb47a26-94b3-4b9a-b7b5-4f0753f6f404",
   "metadata": {},
   "outputs": [],
   "source": [
    "# Генерация массивов\n",
    "n = len(js[\"spam\"])\n",
    "spam_msg_ex2 = []\n",
    "for i in range(n-10):\n",
    "    spam_msg_ex2.append(js[\"spam\"][i][\"text_msg\"])\n",
    "\n",
    "\n",
    "spam_msg_ex2 = []\n",
    "for row in js[\"spam\"][:-10]:\n",
    "    spam_msg_ex2.append(row[\"text_msg\"]) \n",
    "\n",
    "# span_msg_ex = [row[\"text_msg\"] for row in js[\"spam\"][:-10]]"
   ]
  },
  {
   "cell_type": "code",
   "execution_count": 39,
   "id": "9430923b-de26-4c20-b484-f1d2c3351f75",
   "metadata": {},
   "outputs": [],
   "source": [
    "spam_msg_ex = [row[\"text_msg\"] for row in js[\"spam\"][:-10]]\n",
    "nospam_msg_ex = [row[\"text_msg\"] for row in js[\"nospam\"][:-10]]\n",
    "\n",
    "spam_msg_test = [row[\"text_msg\"] for row in js[\"spam\"][-10:]]\n",
    "nospam_msg_test = [row[\"text_msg\"] for row in js[\"nospam\"][-10:]]"
   ]
  },
  {
   "cell_type": "code",
   "execution_count": 41,
   "id": "fd0e53dd-d8c1-4aa6-bf2a-d4aa8f7fef89",
   "metadata": {},
   "outputs": [
    {
     "data": {
      "text/plain": [
       "True"
      ]
     },
     "execution_count": 41,
     "metadata": {},
     "output_type": "execute_result"
    }
   ],
   "source": [
    "spam_msg_ex == spam_msg_ex2"
   ]
  },
  {
   "cell_type": "code",
   "execution_count": null,
   "id": "3cfe6714-5d95-407f-964b-8b95c850558a",
   "metadata": {},
   "outputs": [],
   "source": []
  },
  {
   "cell_type": "code",
   "execution_count": null,
   "id": "154351f3-61c5-4dc0-b581-31a9ed86b51e",
   "metadata": {},
   "outputs": [],
   "source": []
  },
  {
   "cell_type": "code",
   "execution_count": 13,
   "id": "12f2a5f9-a464-4c0e-968d-cea066bff707",
   "metadata": {},
   "outputs": [],
   "source": [
    "def my_add(dict_, elem):\n",
    "    if elem in dict_.keys():\n",
    "        dict_[elem] += 1\n",
    "    else:\n",
    "        dict_[elem] = 1\n",
    "\n",
    "def create_dict_from_array2(array_):\n",
    "    dict_ = {}\n",
    "    #{\"привет\": 27, \"вы\": 4, 'на': 1}\n",
    "    for row in array_:\n",
    "        words = row.split() # \"привет мир\" -> [\"привет\", \"мир\"]\n",
    "        for w in words:\n",
    "            my_add(dict_, w.lower()) #lower: \"ПриВет\" -> \"привет\"\n",
    "    return dict_"
   ]
  },
  {
   "cell_type": "code",
   "execution_count": 14,
   "id": "9a87986b-2c28-4526-b806-3da8914dcc8e",
   "metadata": {},
   "outputs": [],
   "source": [
    "from collections import Counter\n",
    "def create_dict_from_array(array_):\n",
    "    words = [word.lower() for row in array_ for word in row.split()]\n",
    "    return Counter(words)"
   ]
  },
  {
   "cell_type": "code",
   "execution_count": 43,
   "id": "82c5f8a3-69ce-48e7-a2ca-7ece002d2913",
   "metadata": {},
   "outputs": [],
   "source": [
    "spam2 = create_dict_from_array2(spam_msg_ex)"
   ]
  },
  {
   "cell_type": "code",
   "execution_count": 44,
   "id": "e80fe521-43da-4c95-a82f-5c0a8e9b717e",
   "metadata": {},
   "outputs": [],
   "source": [
    "spam = create_dict_from_array(spam_msg_ex)\n",
    "nospam = create_dict_from_array(nospam_msg_ex)"
   ]
  },
  {
   "cell_type": "code",
   "execution_count": 45,
   "id": "17d644d0-09a1-434a-a519-909673c80c07",
   "metadata": {},
   "outputs": [
    {
     "data": {
      "text/plain": [
       "True"
      ]
     },
     "execution_count": 45,
     "metadata": {},
     "output_type": "execute_result"
    }
   ],
   "source": [
    "spam2 == spam"
   ]
  },
  {
   "cell_type": "code",
   "execution_count": 18,
   "id": "be2d60ad-4b44-45de-aa4b-fa8b4c97f67f",
   "metadata": {},
   "outputs": [
    {
     "name": "stdout",
     "output_type": "stream",
     "text": [
      "dict_keys(['привет!', 'вы', 'выиграли', 'iphone', '14', 'pro', 'max!', 'перейдите', 'по', 'ссылке', 'https://www.kaspersky.ru/resource-center/threats/beware-online-dating-scams', 'для', 'оформления', 'доставки.', 'внимание!', 'ваша', 'банковская', 'карта', 'заблокирована', 'из-за', 'подозрительной', 'активности.', 'подтверждения', 'личности.', 'срочно!', 'ваш', 'аккаунт', 'в', '[название', 'социальной', 'сети]', 'взломан!', 'измените', 'пароль', 'https://www.kaspersky.ru/resource-center/threats/beware-online-dating-scams.', 'не', 'пропустите!', 'распродажа', 'билетов', 'на', 'концерт', 'группы]', 'со', 'скидкой', '50%!', 'поторопитесь,', 'количество', 'ограничено!', 'приветствую!', 'вам', 'одобрен', 'кредит', 'наличными', 'до', '1', '000', 'рублей!', 'заполните', 'заявку', 'и', 'получите', 'деньги', 'уже', 'сегодня.', 'обнаружена', 'подозрительная', 'активность', 'вашей', 'учетной', 'записи', 'google.', 'проверки.', 'заказ', 'магазина]', 'оформлен', 'чужое', 'имя!', 'отмены.', 'получили', 'письмо', 'от', 'компании]!', 'ознакомления.', 'упустите', 'шанс!', 'ограниченное', 'предложение:', 'airpods', 'всего', 'за', '999', 'заказа.', 'посылка', 'задерживается', 'ошибки', 'адресе.', 'обновления', 'информации.', 'стали', 'победителем', 'лотереи!', 'получения', 'приза.', 'компьютер', 'заражен', 'вирусом!', 'скачайте', 'антивирус', 'очистки.', 'одобрена', 'заявка', 'получение', 'карты', 'банка]!', 'активируйте', 'карту', 'учетная', 'запись', 'instagram', 'взломана!', 'авиабилетов', '70%!', 'акция', 'ограничена!', 'удача', 'ждёт', 'углом!', 'зарегистрируйтесь', 'казино', 'lucky', 'chance', 'бонус', '100%', 'первый', 'депозит!', 'https://www.luckychances.com/index.html', 'скучно?', 'загляни', 'azart!', 'у', 'нас', 'огромный', 'выбор', 'игр,', 'щедрые', 'бонусы', 'быстрые', 'выплаты.', 'http://thestrat.com/casino', 'испытай', 'свою', 'удачу', 'victory!', 'участвуй', 'розыгрыше', 'джекпота', 'стань', 'миллионером!', 'https://www.victoryland.com/', 'упусти', 'шанс', 'сорвать', 'куш!', 'зарегистрируйся', 'bonus', 'land', 'получи', '50', 'фриспинов', 'без', 'депозита!', 'https://luckylandslots.com/welcomeoffer', 'ищешь', 'азартные', 'развлечения?', 'adrenaline', 'тебя!', 'самые', 'новые', 'игры', 'выгодные', 'предложения.', 'https://www.casinoadrenaline.com/', 'сделай', 'ставку', 'star!', 'лучшие', 'игровые', 'автоматы', 'live-дилеры.', 'https://www.luckystarcasino.org/', 'зарядись', 'адреналином', 'fortune!', 'рискованные', 'крупные', 'выигрыши.', 'https://www.fortunecoins.com/', 'фортуну', 'golden', 'wheel!', 'бонусы,', 'турниры', 'лотереи.', 'https://www.slotstemple.com/us/free-slots/golden-wheel/', 'почувствуй', 'себя', 'vip-персоной', 'royal!', 'эксклюзивные', 'высокий', 'уровень', 'обслуживания.', 'https://www.playroyalcasino.com/', 'стать', 'богатым!', 'jackpot', 'king', 'к', 'первому', 'депозиту!', 'https://www.kingcasino.com/jackpot-king-slots/', 'играй', 'выигрывай', 'slots!', 'слотов', 'любой', 'вкус.', 'https://luckylandslots.com/', 'острые', 'ощущения?', 'rush', 'экстремальные', 'большие', 'шаг', 'навстречу', 'удаче', 'интуицию', 'sixth', 'sense!', 'вкус', 'карман.', 'https://www.mapquest.com/us/texas/casino-el-camino-9754707', 'чувствуете', 'усталость', 'упадок', 'сил?', 'верните', 'себе', 'энергию', 'с', 'помощью', '**(название', 'препарата)**!', 'закажите', 'бесплатную', 'консультацию', 'сегодня:', 'https://example.com/', 'мучают', 'боли', 'спине?', 'забудьте', 'о', 'них', 'эффективное', 'безопасное', 'средство', 'лечения', 'заболеваний', 'опорно-двигательного', 'аппарата.', 'здоровое', 'сердце', '-', 'залог', 'долгой', 'жизни!', 'препарата)**', 'поможет', 'заботиться', 'здоровье', 'сердечно-сосудистой', 'системы.', 'узнайте', 'больше:', 'плохой', 'сон', 'мешает', 'нормально', 'отдыхать?', 'натуральное', 'крепкого', 'здорового', 'сна.', 'пробный', 'курс', 'скидкой:', 'повышенный', 'холестерин', 'это', 'приговор!', 'привести', 'его', 'норму.', 'позаботьтесь', 'своем', 'здоровье:', 'забудете', 'простуде', 'гриппе!', 'профилактики', 'вирусных', 'заболеваний.', 'красивая', 'кожа', 'проблем!', 'секрет', 'молодости', 'красоты.', 'дерматолога', 'бесплатно:', 'здоровые', 'суставы', 'свобода', 'движения!', 'избавит', 'вас', 'дискомфорта.', 'сильный', 'иммунитет', 'вашего', 'здоровья!', 'укрепить', 'защитные', 'силы', 'организма.', 'забытые', 'проблемы', 'жкт!', 'комплексное', 'решение', 'здоровья', 'пищеварительной', 'скидку:', 'волосы', 'крепкие', 'ногти', 'возможно!', 'витаминный', 'комплекс', 'красоты', 'ваших', 'волос', 'ногтей.', 'контролируйте', 'свой', 'аппетит', 'похудения', 'вреда', 'здоровья.', 'курс:', 'борьба', 'аллергией', 'больше', 'проблема!', 'быстрое', 'аллергических', 'реакций.', 'десны', 'зубы!', 'комплексный', 'уход', 'полостью', 'рта', 'всей', 'семьи.', 'мечтаете', 'новой', 'кухне?', 'сделайте', 'ее', 'реальностью', 'кредитом', 'банка]', 'под', '9.9%', 'годовых.', 'https://www.bankofamerica.com/', 'путешествие', 'мечты', 'близко!', 'оформите', 'кредитную', '10', 'приветственных', 'бонусов.', 'откладывайте', 'ремонт', 'потом!', 'воспользуйтесь', 'выгодным', 'предложением', '7.5%', 'обучение', 'инвестиция', 'будущее!', 'образовательный', 'скидку', '10%', 'год', 'обучения.', 'обновите', 'автомобиль', 'автокредита', 'банка].', 'процентные', 'ставки', 'гибкие', 'условия', 'кредитования.', 'собственном', 'бизнесе?', 'начните', 'кредита', 'начинающих', 'предпринимателей.', 'жизнь', 'комфортнее', 'потребительские', 'нужды', 'первоначального', 'взноса', 'скрытых', 'платежей.', 'хватает', 'средств', 'зарплаты?', 'кредитный', 'лимит', 'всегда', 'имейте', 'доступ', 'деньгам.', 'объедините', 'все', 'свои', 'кредиты', 'один', 'рефинансирования', 'экономьте', 'процентах.', 'планируете', 'крупную', 'покупку?', 'рассрочкой', 'переплаты.', 'кэшбэк', 'покупки.', 'управляйте', 'своими', 'финансами', 'мобильного', 'приложения', 'кредиты,', 'переводы,', 'платежи', 'одном', 'месте.', 'цените', 'свое', 'время?', 'онлайн', 'сайте', 'течение', '30', 'минут.', 'предложения', 'подпишитесь', 'рассылку', 'получайте', 'актуальную', 'информацию', 'кредитах', 'акциях.', 'имеете', 'вопросы', 'кредитах?', 'звоните', 'горячую', 'линию', 'наши', 'специалисты', 'рады', 'помочь.', 'устали', 'старого', 'ремонта?', 'сделаем', 'свежий', 'мечты!', 'бесплатная', 'консультация', '+', 'скидка', '10%.', '{email}', 'квартир', \"'под\", \"ключ'\", 'низким', 'ценам.', 'качественно,', 'быстро,', 'надежно!', 'нужен', 'ремонт?', 'звоните!', 'опытные', 'мастера,', 'доступные', 'цены,', 'гарантия', 'качества.', 'мы', 'быстро', 'качественно.', 'бесплатный', 'выезд', 'замерщика.', 'скучный', 'освежим', 'вашу', 'квартиру!', 'дизайн,', 'ремонт,', 'перепланировка', 'месте!', 'ванной', 'кухни', 'наша', 'специализация!', 'стильно,', 'удобно,', 'функционально.', 'ищете', 'надежную', 'бригаду', 'нам!', 'профессионалы', 'своего', 'дела,', 'работаем', 'договору.', 'хотите', 'экономный', 'потери', 'качества?', 'оптимизируем', 'расходы,', 'предложим', 'решения.'])\n"
     ]
    }
   ],
   "source": [
    "print(spam.keys())"
   ]
  },
  {
   "cell_type": "code",
   "execution_count": 46,
   "id": "a3f63b4c-bd3a-4d92-bd6c-211c5578f27b",
   "metadata": {},
   "outputs": [
    {
     "data": {
      "text/plain": [
       "True"
      ]
     },
     "execution_count": 46,
     "metadata": {},
     "output_type": "execute_result"
    }
   ],
   "source": [
    "# Тернарный оператор:\n",
    "t = 3\n",
    "if t>0:\n",
    "    x = 1\n",
    "else:\n",
    "    x = 0\n",
    "\n",
    "x2 = 1 if t>0 else 0  \n",
    "\n",
    "# Тернарный оператор можно вставить в генератор списков\n",
    "x==x2"
   ]
  },
  {
   "cell_type": "code",
   "execution_count": 53,
   "id": "943131ed-af3e-4ed4-8b96-a7543a2d3e49",
   "metadata": {},
   "outputs": [
    {
     "data": {
      "text/plain": [
       "4"
      ]
     },
     "execution_count": 53,
     "metadata": {},
     "output_type": "execute_result"
    }
   ],
   "source": [
    "# spam['вы']\n",
    "# spam['ввввввв']\n",
    "# spam2['вввввввв']\n",
    "# spam2['вввввввв'] if 'вввввввв' in spam2.keys() else 0\n",
    "# spam2['вы'] if 'вы' in spam2.keys() else 0"
   ]
  },
  {
   "cell_type": "markdown",
   "id": "c2ba0708-3ab1-4c02-8439-37955024c08d",
   "metadata": {},
   "source": [
    "$A$ - письмо спам\n",
    "\n",
    "$B$ - письмо содержит конкретный текст\n",
    "\n",
    "$$P(A|B)P(B) = P(B|A)P(A)$$\n",
    "$$P(A|B) = \\frac{P(B|A)P(A)}{P(B)}$$\n",
    "\n",
    "$$P(B) = P(B|A)P(A) + P(B|\\overline{A})P(\\overline{A})$$\n",
    "$$P(A|B) = \\frac{P(B|A)P(A)}{P(B|A)P(A) + P(B|\\overline{A})P(\\overline{A})}$$\n",
    "$$P(\\overline{A})=P(A)=0.5$$\n",
    "\n",
    "Вероятность текста присутствовать в наборе данных \"спама\" и \"не спама\". \n",
    "$$P(B|A) = \\Pi_{i} P(W_i|A)$$\n",
    "$$P(B|\\overline{A}) =\\Pi_{i} P(W_i|\\overline{A})$$\n",
    "вероятность содержания слова $W_i$ \n",
    "$$P(W_i|A) = \\frac{N_A}{N_A+N_{\\overline A}}$$\n",
    "$$P(W_i|\\overline{A}) = 1 - P(W_i|A)$$\n",
    "$N_A$ - число слов в наборе спам\n",
    "\n",
    "$N_\\overline{A}$ - число слов в наборе не спам\n"
   ]
  },
  {
   "cell_type": "code",
   "execution_count": null,
   "id": "41cb2ebf-b989-47c2-af15-07a7832a0291",
   "metadata": {},
   "outputs": [],
   "source": [
    "\"Привет мир!\""
   ]
  },
  {
   "cell_type": "code",
   "execution_count": 55,
   "id": "6ce6e77a-1314-47a2-86a4-f33e50f8c308",
   "metadata": {},
   "outputs": [],
   "source": [
    "def test_spam(text, w=0.5, debug=False):\n",
    "    words = [word.lower() for word in text.split()]\n",
    "    # ['Привет', \"мир!\"]\n",
    "    P = []\n",
    "    for word in words:\n",
    "        # count_s = spam[word] if word in spam2.keys() else 0\n",
    "        # count_ns = nospam[word] if word in nospam2.keys() else 0\n",
    "        # count = count_ns + count_s\n",
    "        # p = count_s/(count) if count != 0 else 0.5\n",
    "    \n",
    "        count = spam[word] + nospam[word]\n",
    "        p = spam[word]/(count) if count != 0 else 0.5    \n",
    "        eps = 0.000001\n",
    "        p = p - eps if p > 0.5 else p+eps # if p!= 0.5 else 0.5\n",
    "        P.append(p)\n",
    "    \n",
    "    PS = np.prod(P)\n",
    "    PH = np.prod([1-p for p in P])\n",
    "    rez_P = PS/(PS+PH) if PS+PH != 0 else 0\n",
    "    if debug:\n",
    "        print(P)\n",
    "        print(\"P(текст в спам):\", PS, \"\\nP(текст не в спаме):\", PH, \"\\nP(спама):\", rez_P)\n",
    "        return float(rez_P)\n",
    "    return 1 if rez_P > w else 0"
   ]
  },
  {
   "cell_type": "code",
   "execution_count": 56,
   "id": "2501fb19-326c-426f-82d5-364d4d299cd4",
   "metadata": {},
   "outputs": [
    {
     "name": "stdout",
     "output_type": "stream",
     "text": [
      "[1, 1, 1, 1, 1, 1, 1, 1, 1, 1]\n"
     ]
    }
   ],
   "source": [
    "y1 = [test_spam(t) for t in spam_msg_test]\n",
    "print(y1)"
   ]
  },
  {
   "cell_type": "code",
   "execution_count": 59,
   "id": "de4b38df-7c59-4fe0-b6ab-dd94b74f45e1",
   "metadata": {},
   "outputs": [
    {
     "name": "stdout",
     "output_type": "stream",
     "text": [
      "[0, 0, 0, 0, 0, 0, 0, 0, 0, 1]\n"
     ]
    }
   ],
   "source": [
    "y2 = [test_spam(t, w=0.55) for t in nospam_msg_test]\n",
    "print(y2)"
   ]
  },
  {
   "cell_type": "code",
   "execution_count": null,
   "id": "de6ab675-9a16-4059-9e07-3fdf0bb82b6e",
   "metadata": {},
   "outputs": [],
   "source": [
    "\n"
   ]
  },
  {
   "cell_type": "markdown",
   "id": "9c62725a-659a-452d-ab0f-387a3dfc6a68",
   "metadata": {},
   "source": [
    "$$\\begin{pmatrix} & \\text{спам}  &  \\text{не спам}\\\\ \\text{определил как спам} & 0.9 & 0.1 \\\\\\text{определил как не спам} & 0.1 & 0.9 \\end{pmatrix}$$"
   ]
  },
  {
   "cell_type": "code",
   "execution_count": 149,
   "id": "9e42d1a3-d8c3-4ec0-a0c0-45a46944be16",
   "metadata": {},
   "outputs": [
    {
     "name": "stdout",
     "output_type": "stream",
     "text": [
      "[1.0, 1.0, 0.5, 0.6153846153846154, 0.5, 0.25, 0.5, 0.38461538461538464, 0.5128205128205128, 0.0, 1.0]\n",
      "P(текст в спам): 0.0 \n",
      "P(текст не в спаме): 0.0 \n",
      "P(спама): 0\n"
     ]
    },
    {
     "data": {
      "text/plain": [
       "'Ремонт без забот и хлопот. Мы берем все на себя! {email}'"
      ]
     },
     "execution_count": 149,
     "metadata": {},
     "output_type": "execute_result"
    }
   ],
   "source": [
    "test_spam(spam_msg_test[-3], debug=True)\n",
    "spam_msg_test[-3]"
   ]
  },
  {
   "cell_type": "code",
   "execution_count": 150,
   "id": "19821c69-07bb-425f-86ab-4f923bf4da0b",
   "metadata": {},
   "outputs": [
    {
     "name": "stdout",
     "output_type": "stream",
     "text": [
      "[0.0, 1.0, 0.5128205128205128, 0.5]\n",
      "P(текст в спам): 0.0 \n",
      "P(текст не в спаме): 0.0 \n",
      "P(спама): 0\n"
     ]
    },
    {
     "data": {
      "text/plain": [
       "'Как всегда на связи!'"
      ]
     },
     "execution_count": 150,
     "metadata": {},
     "output_type": "execute_result"
    }
   ],
   "source": [
    "test_spam(nospam_msg_test[1], debug=True)\n",
    "nospam_msg_test[1]"
   ]
  },
  {
   "cell_type": "code",
   "execution_count": 151,
   "id": "ace0ae4d-3626-47ff-ba0f-371967c78e1e",
   "metadata": {},
   "outputs": [
    {
     "name": "stdout",
     "output_type": "stream",
     "text": [
      "[1, 1, 1, 1, 1, 1, 1, 0, 1, 1]\n",
      "[0, 0, 0, 0, 0, 0, 0, 0, 0, 1]\n"
     ]
    }
   ],
   "source": [
    "y1 = [test_spam(t, w=0.6) for t in spam_msg_test]\n",
    "print(y1)\n",
    "y2 = [test_spam(t, w=0.6) for t in nospam_msg_test]\n",
    "print(y2)"
   ]
  },
  {
   "cell_type": "code",
   "execution_count": null,
   "id": "fedbf3c1-74a4-4e58-b6dd-a3af0ce12737",
   "metadata": {},
   "outputs": [],
   "source": []
  },
  {
   "cell_type": "code",
   "execution_count": 152,
   "id": "5904e638-8c74-4b38-bff3-45d6929de04f",
   "metadata": {},
   "outputs": [
    {
     "data": {
      "text/plain": [
       "'Привет! Просто хотел(а) сказать привет.'"
      ]
     },
     "execution_count": 152,
     "metadata": {},
     "output_type": "execute_result"
    }
   ],
   "source": [
    "nospam_msg_test[0]"
   ]
  },
  {
   "cell_type": "code",
   "execution_count": 153,
   "id": "a933d206-5490-464f-8105-2078f9d74a84",
   "metadata": {},
   "outputs": [
    {
     "data": {
      "text/plain": [
       "(4, 29)"
      ]
     },
     "execution_count": 153,
     "metadata": {},
     "output_type": "execute_result"
    }
   ],
   "source": [
    "spam['привет!'], nospam['привет!']"
   ]
  },
  {
   "cell_type": "code",
   "execution_count": 61,
   "id": "e5b61938-33e9-4314-ad91-d59469935238",
   "metadata": {},
   "outputs": [
    {
     "data": {
      "text/plain": [
       "1"
      ]
     },
     "execution_count": 61,
     "metadata": {},
     "output_type": "execute_result"
    }
   ],
   "source": [
    "test_spam('Привет! Ремонт')"
   ]
  },
  {
   "cell_type": "code",
   "execution_count": null,
   "id": "df84da1c-cfc1-4403-bc2f-2295ea8cbb50",
   "metadata": {},
   "outputs": [],
   "source": []
  },
  {
   "cell_type": "code",
   "execution_count": null,
   "id": "5e64fd72-32b7-446c-b9ef-85d76b1fb274",
   "metadata": {},
   "outputs": [],
   "source": []
  }
 ],
 "metadata": {
  "kernelspec": {
   "display_name": "Python 3 (ipykernel)",
   "language": "python",
   "name": "python3"
  },
  "language_info": {
   "codemirror_mode": {
    "name": "ipython",
    "version": 3
   },
   "file_extension": ".py",
   "mimetype": "text/x-python",
   "name": "python",
   "nbconvert_exporter": "python",
   "pygments_lexer": "ipython3",
   "version": "3.12.4"
  }
 },
 "nbformat": 4,
 "nbformat_minor": 5
}
