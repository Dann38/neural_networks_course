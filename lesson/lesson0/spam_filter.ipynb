{
 "cells": [
  {
   "cell_type": "code",
   "execution_count": 2,
   "id": "b8f29eac-989e-487e-9ea2-783a6aef4cd6",
   "metadata": {},
   "outputs": [],
   "source": [
    "import json\n",
    "import numpy as np"
   ]
  },
  {
   "cell_type": "code",
   "execution_count": 3,
   "id": "a37a8feb-b813-47bb-9def-83dc4cfaacfa",
   "metadata": {},
   "outputs": [],
   "source": [
    "# !python -m pip install --upgrade pip\n",
    "# !python -m pip install numpy \n",
    "# !python -m pip install json"
   ]
  },
  {
   "cell_type": "code",
   "execution_count": 4,
   "id": "94964e55-f342-48e6-a87a-d32716e6dbca",
   "metadata": {},
   "outputs": [],
   "source": [
    "# Читаем данные\n",
    "with open(\"data.json\", \"r\", encoding=\"utf8\") as f:\n",
    "    js = json.load(f)  "
   ]
  },
  {
   "cell_type": "code",
   "execution_count": 5,
   "id": "44728f45-3f04-4cf1-8c95-45242dd99b82",
   "metadata": {},
   "outputs": [
    {
     "data": {
      "text/plain": [
       "'Не пропустите! Распродажа билетов на концерт [название группы] со скидкой 50%! Поторопитесь, количество ограничено! https://www.kaspersky.ru/resource-center/threats/beware-online-dating-scams'"
      ]
     },
     "execution_count": 5,
     "metadata": {},
     "output_type": "execute_result"
    }
   ],
   "source": [
    "# Проверяем данные\n",
    "js['spam'][3]['text_msg']"
   ]
  },
  {
   "cell_type": "code",
   "execution_count": 6,
   "id": "9430923b-de26-4c20-b484-f1d2c3351f75",
   "metadata": {},
   "outputs": [],
   "source": [
    "# Обучающая выборка (все кроме 10 последних)\n",
    "spam_msg_ex = [row[\"text_msg\"] for row in js[\"spam\"][:-10]]\n",
    "nospam_msg_ex = [row[\"text_msg\"] for row in js[\"nospam\"][:-10]]\n",
    "\n",
    "# Тестовая выборка (10 последних)\n",
    "spam_msg_test = [row[\"text_msg\"] for row in js[\"spam\"][-10:]]\n",
    "nospam_msg_test = [row[\"text_msg\"] for row in js[\"nospam\"][-10:]]"
   ]
  },
  {
   "cell_type": "code",
   "execution_count": 7,
   "id": "9a87986b-2c28-4526-b806-3da8914dcc8e",
   "metadata": {},
   "outputs": [],
   "source": [
    "# Создаем словарь, который содержит слово и сколько раз оно встречалось в наборе данных:\n",
    "# пример spam = {'привет': 4, ...}, nospam = {'привет': 29, ...}\n",
    "from collections import Counter \n",
    "def create_dict_from_array(array_):\n",
    "    words = [word.lower() for row in array_ for word in row.split()]\n",
    "    return Counter(words)\n",
    "\n",
    "spam = create_dict_from_array(spam_msg_ex)\n",
    "nospam = create_dict_from_array(nospam_msg_ex)"
   ]
  },
  {
   "cell_type": "code",
   "execution_count": 11,
   "id": "be2d60ad-4b44-45de-aa4b-fa8b4c97f67f",
   "metadata": {},
   "outputs": [
    {
     "name": "stdout",
     "output_type": "stream",
     "text": [
      "[('привет!', 4), ('вы', 4), ('выиграли', 1), ('iphone', 1), ('14', 1)]\n"
     ]
    }
   ],
   "source": [
    "# Просмотреть результат\n",
    "print([r for r in spam.items()][:5])"
   ]
  },
  {
   "cell_type": "markdown",
   "id": "c2ba0708-3ab1-4c02-8439-37955024c08d",
   "metadata": {},
   "source": [
    "$A$ - письмо спам\n",
    "\n",
    "$B$ - письмо содержит конкретный текст (набор слов). Например письмо с текстом \"Привет мир\" и \"мир привет\" - это одно и тоже событие, а \n",
    "\"привет мир\" и \"приветик мир\" - это разные события.\n",
    "\n",
    "$$P(A|B)P(B) = P(B|A)P(A)$$\n",
    "$$P(A|B) = \\frac{P(B|A)P(A)}{P(B)}$$\n",
    "\n",
    "$$P(B) = P(B|A)P(A) + P(B|\\overline{A})P(\\overline{A})$$\n",
    "$$P(A|B) = \\frac{P(B|A)P(A)}{P(B|A)P(A) + P(B|\\overline{A})P(\\overline{A})}$$\n",
    "$$P(\\overline{A})=P(A)=0.5$$\n",
    "\n",
    "Вероятность текста присутствовать в наборе данных \"спама\" и \"не спама\". \n",
    "$$P(B|A) = \\prod_{i=1}^{m} P(W_i|A)$$\n",
    "$$P(B|\\overline{A}) =\\prod_{i=1}^{m} P(W_i|\\overline{A})$$\n",
    "$m$ - число слов в сообщение из события $B$\n",
    "\n",
    "вероятность содержания слова $W_i$ \n",
    "$$P(W_i|A) = \\frac{N_A}{N_A+N_{\\overline A}}$$\n",
    "$$P(W_i|\\overline{A}) = 1 - P(W_i|A)$$\n",
    "$N_A$ - число слов в наборе спам\n",
    "\n",
    "$N_\\overline{A}$ - число слов в наборе не спам\n"
   ]
  },
  {
   "cell_type": "code",
   "execution_count": null,
   "id": "41cb2ebf-b989-47c2-af15-07a7832a0291",
   "metadata": {},
   "outputs": [],
   "source": []
  },
  {
   "cell_type": "code",
   "execution_count": 20,
   "id": "6ce6e77a-1314-47a2-86a4-f33e50f8c308",
   "metadata": {},
   "outputs": [],
   "source": [
    "def test_spam(text, w=0.5, debug=False):\n",
    "    words = [word.lower() for word in text.split()]\n",
    "    P = []\n",
    "    for word in words:\n",
    "        count = spam[word] + nospam[word]\n",
    "        p = spam[word]/(count) if count != 0 else 0.5    \n",
    "        P.append(p)\n",
    "    \n",
    "    PS = np.prod(P)\n",
    "    PH = np.prod([1-p for p in P])\n",
    "    rez_P = PS/(PS+PH) if PS+PH != 0 else 0\n",
    "    if debug:\n",
    "        print(P)\n",
    "        print(\"P(B|A):\", PS, \"\\nP(B|no A):\", PH, \"\\nP(A|B):\", rez_P)\n",
    "        return float(rez_P)\n",
    "    return 1 if rez_P > w else 0"
   ]
  },
  {
   "cell_type": "code",
   "execution_count": 21,
   "id": "2501fb19-326c-426f-82d5-364d4d299cd4",
   "metadata": {},
   "outputs": [
    {
     "name": "stdout",
     "output_type": "stream",
     "text": [
      "[1, 1, 1, 1, 1, 1, 1, 0, 1, 1]\n"
     ]
    }
   ],
   "source": [
    "y1 = [test_spam(t) for t in spam_msg_test]\n",
    "print(y1)"
   ]
  },
  {
   "cell_type": "code",
   "execution_count": 22,
   "id": "de4b38df-7c59-4fe0-b6ab-dd94b74f45e1",
   "metadata": {},
   "outputs": [
    {
     "name": "stdout",
     "output_type": "stream",
     "text": [
      "[0, 0, 0, 0, 0, 0, 0, 0, 0, 1]\n"
     ]
    }
   ],
   "source": [
    "y2 = [test_spam(t) for t in nospam_msg_test]\n",
    "print(y2)"
   ]
  },
  {
   "cell_type": "markdown",
   "id": "9c62725a-659a-452d-ab0f-387a3dfc6a68",
   "metadata": {},
   "source": [
    "$$\\begin{pmatrix} & \\text{спам}  &  \\text{не спам}\\\\ \\text{определил как спам} & 0.9 & 0.1 \\\\\\text{определил как не спам} & 0.1 & 0.9 \\end{pmatrix}$$"
   ]
  },
  {
   "cell_type": "code",
   "execution_count": 23,
   "id": "7d07782b-0b3a-4b97-92d8-9990c914d9ef",
   "metadata": {},
   "outputs": [],
   "source": [
    "# Ошибки появляются из-за того, что наш набор слишком маленький "
   ]
  },
  {
   "cell_type": "code",
   "execution_count": 24,
   "id": "9e42d1a3-d8c3-4ec0-a0c0-45a46944be16",
   "metadata": {},
   "outputs": [
    {
     "name": "stdout",
     "output_type": "stream",
     "text": [
      "[1.0, 1.0, 0.5, 0.6153846153846154, 0.5, 0.25, 0.5, 0.38461538461538464, 0.5128205128205128, 0.0, 1.0]\n",
      "P(B|A): 0.0 \n",
      "P(B|no A): 0.0 \n",
      "P(A|B): 0\n"
     ]
    },
    {
     "data": {
      "text/plain": [
       "'Ремонт без забот и хлопот. Мы берем все на себя! {email}'"
      ]
     },
     "execution_count": 24,
     "metadata": {},
     "output_type": "execute_result"
    }
   ],
   "source": [
    "test_spam(spam_msg_test[-3], debug=True)\n",
    "spam_msg_test[-3]"
   ]
  },
  {
   "cell_type": "code",
   "execution_count": 25,
   "id": "19821c69-07bb-425f-86ab-4f923bf4da0b",
   "metadata": {},
   "outputs": [
    {
     "name": "stdout",
     "output_type": "stream",
     "text": [
      "[0.0, 1.0, 0.5128205128205128, 0.5]\n",
      "P(B|A): 0.0 \n",
      "P(B|no A): 0.0 \n",
      "P(A|B): 0\n"
     ]
    },
    {
     "data": {
      "text/plain": [
       "'Как всегда на связи!'"
      ]
     },
     "execution_count": 25,
     "metadata": {},
     "output_type": "execute_result"
    }
   ],
   "source": [
    "test_spam(nospam_msg_test[1], debug=True)\n",
    "nospam_msg_test[1]"
   ]
  },
  {
   "cell_type": "code",
   "execution_count": 31,
   "id": "2afb5054-ffa8-4c52-b386-8da32f084c5c",
   "metadata": {},
   "outputs": [],
   "source": [
    "def test_spam_v2(text, w=0.55, debug=False):\n",
    "    words = [word.lower() for word in text.split()]\n",
    "    P = []\n",
    "    for word in words:\n",
    "        count = spam[word] + nospam[word]\n",
    "        p = spam[word]/(count) if count != 0 else 0.5    \n",
    "        eps = 0.001\n",
    "        p = p - eps if p > 0.5 else p+eps # if p!= 0.5 else 0.5\n",
    "        P.append(p)\n",
    "    \n",
    "    PS = np.prod(P)\n",
    "    PH = np.prod([1-p for p in P])\n",
    "    rez_P = PS/(PS+PH) if PS+PH != 0 else 0\n",
    "    if debug:\n",
    "        print(P)\n",
    "        print(\"P(B|A):\", PS, \"\\nP(B|no A):\", PH, \"\\nP(A|B):\", rez_P)\n",
    "        return float(rez_P)\n",
    "    return 1 if rez_P > w else 0"
   ]
  },
  {
   "cell_type": "code",
   "execution_count": 32,
   "id": "ace0ae4d-3626-47ff-ba0f-371967c78e1e",
   "metadata": {},
   "outputs": [
    {
     "name": "stdout",
     "output_type": "stream",
     "text": [
      "[1, 1, 1, 1, 1, 1, 1, 1, 1, 1]\n",
      "[0, 0, 0, 0, 0, 0, 0, 0, 0, 1]\n"
     ]
    }
   ],
   "source": [
    "y1 = [test_spam_v2(t) for t in spam_msg_test]\n",
    "print(y1)\n",
    "y2 = [test_spam_v2(t) for t in nospam_msg_test]\n",
    "print(y2)"
   ]
  },
  {
   "cell_type": "code",
   "execution_count": 35,
   "id": "e227c909-0d1e-447b-ba60-0a4f9f2d6349",
   "metadata": {},
   "outputs": [],
   "source": [
    "# Теперь можно использовать этот фильтр для своих нужд :)"
   ]
  },
  {
   "cell_type": "code",
   "execution_count": 36,
   "id": "e5b61938-33e9-4314-ad91-d59469935238",
   "metadata": {},
   "outputs": [
    {
     "data": {
      "text/plain": [
       "1"
      ]
     },
     "execution_count": 36,
     "metadata": {},
     "output_type": "execute_result"
    }
   ],
   "source": [
    "test_spam_v2('Привет! Ремонт')"
   ]
  },
  {
   "cell_type": "code",
   "execution_count": 37,
   "id": "df84da1c-cfc1-4403-bc2f-2295ea8cbb50",
   "metadata": {},
   "outputs": [
    {
     "data": {
      "text/plain": [
       "0"
      ]
     },
     "execution_count": 37,
     "metadata": {},
     "output_type": "execute_result"
    }
   ],
   "source": [
    "test_spam_v2('Привет')"
   ]
  },
  {
   "cell_type": "code",
   "execution_count": null,
   "id": "5e64fd72-32b7-446c-b9ef-85d76b1fb274",
   "metadata": {},
   "outputs": [],
   "source": []
  }
 ],
 "metadata": {
  "kernelspec": {
   "display_name": "Python 3 (ipykernel)",
   "language": "python",
   "name": "python3"
  },
  "language_info": {
   "codemirror_mode": {
    "name": "ipython",
    "version": 3
   },
   "file_extension": ".py",
   "mimetype": "text/x-python",
   "name": "python",
   "nbconvert_exporter": "python",
   "pygments_lexer": "ipython3",
   "version": "3.9.18"
  }
 },
 "nbformat": 4,
 "nbformat_minor": 5
}
