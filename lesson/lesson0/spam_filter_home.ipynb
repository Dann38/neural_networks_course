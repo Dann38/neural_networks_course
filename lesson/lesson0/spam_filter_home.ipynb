{
 "cells": [
  {
   "cell_type": "code",
   "execution_count": 9,
   "id": "b8f29eac-989e-487e-9ea2-783a6aef4cd6",
   "metadata": {},
   "outputs": [],
   "source": [
    "import json\n",
    "import numpy as np"
   ]
  },
  {
   "cell_type": "code",
   "execution_count": 10,
   "id": "a37a8feb-b813-47bb-9def-83dc4cfaacfa",
   "metadata": {},
   "outputs": [],
   "source": [
    "with open(\"data.json\", \"r\", encoding=\"utf8\") as f:\n",
    "    js = json.load(f)\n",
    "\n",
    "# Обучающая выборка (все кроме 10 последних)\n",
    "spam_msg_ex = [row[\"text_msg\"] for row in js[\"spam\"][:-10]]\n",
    "nospam_msg_ex = [row[\"text_msg\"] for row in js[\"nospam\"][:-10]]\n",
    "\n",
    "# Тестовая выборка (10 последних)\n",
    "spam_msg_test = [row[\"text_msg\"] for row in js[\"spam\"][-10:]]\n",
    "nospam_msg_test = [row[\"text_msg\"] for row in js[\"nospam\"][-10:]]\n",
    "\n",
    "# Создаем словарь, который содержит слово и сколько раз оно встречалось в наборе данных:\n",
    "# пример spam = {'привет': 4, ...}, nospam = {'привет': 29, ...}\n",
    "from collections import Counter \n",
    "def create_dict_from_array(array_):\n",
    "    words = [word.lower() for row in array_ for word in row.split()]\n",
    "    return Counter(words)\n",
    "\n",
    "spam = create_dict_from_array(spam_msg_ex)\n",
    "nospam = create_dict_from_array(nospam_msg_ex)"
   ]
  },
  {
   "cell_type": "code",
   "execution_count": 11,
   "id": "94964e55-f342-48e6-a87a-d32716e6dbca",
   "metadata": {},
   "outputs": [],
   "source": [
    "def test_spam_v2(text, w=0.55, debug=False):\n",
    "    words = [word.lower() for word in text.split()]\n",
    "    P = []\n",
    "    for word in words:\n",
    "        count = spam[word] + nospam[word]\n",
    "        p = spam[word]/(count) if count != 0 else 0.5    \n",
    "        eps = 0.001\n",
    "        p = p - eps if p > 0.5 else p+eps # if p!= 0.5 else 0.5\n",
    "        P.append(p)\n",
    "    \n",
    "    PS = np.prod(P)\n",
    "    PH = np.prod([1-p for p in P])\n",
    "    rez_P = PS/(PS+PH) if PS+PH != 0 else 0\n",
    "    if debug:\n",
    "        print(P)\n",
    "        print(\"P(B|A):\", PS, \"\\nP(B|no A):\", PH, \"\\nP(A|B):\", rez_P)\n",
    "        return float(rez_P)\n",
    "    return  True if rez_P > w else False"
   ]
  },
  {
   "cell_type": "code",
   "execution_count": 12,
   "id": "7e241b39-8825-4c25-857d-78c0d17d360f",
   "metadata": {},
   "outputs": [],
   "source": [
    "def my_contact(email):\n",
    "    \"\"\"\n",
    "    1) Реализовать функцию my_contact, которая возвращает true если email находится в контактах (те сообщения, которые не спам явно от контактов),\n",
    "    2) Реализовать возможность добавлять новых контактов\n",
    "    3) Сохранить список контактов как json файл\n",
    "    \"\"\"\n",
    "    return False"
   ]
  },
  {
   "cell_type": "code",
   "execution_count": 13,
   "id": "9e42d1a3-d8c3-4ec0-a0c0-45a46944be16",
   "metadata": {},
   "outputs": [],
   "source": [
    "def is_spam_msg(msg):\n",
    "    email = msg[\"email\"]\n",
    "    text = msg[\"text_msg\"]\n",
    "    if my_contact(email):\n",
    "        return False\n",
    "    return test_spam_v2(text)"
   ]
  },
  {
   "cell_type": "code",
   "execution_count": 18,
   "id": "6a9a57a4-9475-47cc-8348-f086cd9751a3",
   "metadata": {},
   "outputs": [
    {
     "data": {
      "text/plain": [
       "True"
      ]
     },
     "execution_count": 18,
     "metadata": {},
     "output_type": "execute_result"
    }
   ],
   "source": [
    "is_spam_msg({\"email\": \"elena.ivanova@company.com\", \"text_msg\": \"Привет! делаю ремонт\"})\n",
    "#                           ^ email уже встречался как не спам"
   ]
  },
  {
   "cell_type": "code",
   "execution_count": null,
   "id": "ddba6693-b531-4eb1-ace2-a9eb6e488589",
   "metadata": {},
   "outputs": [],
   "source": []
  }
 ],
 "metadata": {
  "kernelspec": {
   "display_name": "Python 3 (ipykernel)",
   "language": "python",
   "name": "python3"
  },
  "language_info": {
   "codemirror_mode": {
    "name": "ipython",
    "version": 3
   },
   "file_extension": ".py",
   "mimetype": "text/x-python",
   "name": "python",
   "nbconvert_exporter": "python",
   "pygments_lexer": "ipython3",
   "version": "3.9.18"
  }
 },
 "nbformat": 4,
 "nbformat_minor": 5
}
