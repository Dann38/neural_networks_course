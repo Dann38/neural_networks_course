{
 "cells": [
  {
   "cell_type": "code",
   "execution_count": 34,
   "id": "b9159dfa-4bd9-448a-9c69-db9042ff6b02",
   "metadata": {},
   "outputs": [],
   "source": [
    "import numpy as np\n",
    "import matplotlib.pyplot as plt"
   ]
  },
  {
   "cell_type": "code",
   "execution_count": null,
   "id": "ee20917b-c4b9-46fa-ae18-5dd0f4c3058e",
   "metadata": {},
   "outputs": [],
   "source": []
  },
  {
   "cell_type": "code",
   "execution_count": 62,
   "id": "f03075ac-db9c-419c-b68f-a0d46486dea8",
   "metadata": {},
   "outputs": [
    {
     "data": {
      "image/png": "[encoded data removed]",
      "text/plain": [
       "<Figure size 640x480 with 1 Axes>"
      ]
     },
     "metadata": {},
     "output_type": "display_data"
    }
   ],
   "source": [
    "s = 4.5\n",
    "class Point:\n",
    "    def __init__(self):\n",
    "        rnd = np.random.random()  \n",
    "        x10 = 0 if rnd > 0.5 else 1\n",
    "        x20 = 2 if rnd > 0.5 else 0\n",
    "        self.x1 = x10 + s*(np.random.random()-0.5)\n",
    "        self.x2 = x20 + s*(np.random.random()-0.5)\n",
    "        self.color = 'r' if rnd > 0.5  else 'b'\n",
    "        self.y = -1 if rnd > 0.5 else 1\n",
    "\n",
    "    def get_cord(self):\n",
    "        return self.x1, self.x2\n",
    "\n",
    "    def get_vec(self):\n",
    "        return np.array([self.x1, self.x2])\n",
    "\n",
    "    def get_y(self):\n",
    "        return w_test(self.x1, self.x2)\n",
    "        \n",
    "    def plot(self):\n",
    "        plt.scatter(self.x1, self.x2, color = self.color)\n",
    "        \n",
    "X = [Point() for _ in range(30)]\n",
    "X_test = [Point() for _ in range(100)]\n",
    "for x in X:\n",
    "    x.plot()"
   ]
  },
  {
   "cell_type": "code",
   "execution_count": 63,
   "id": "8261198c-38e5-4cff-a512-06942dfbb042",
   "metadata": {},
   "outputs": [],
   "source": [
    "X_red = [x for x in X if x.y == -1]\n",
    "X_blue = [x for x in X if x.y == 1]"
   ]
  },
  {
   "cell_type": "markdown",
   "id": "99c12ed7-f532-4e55-9cb7-d2f2f0d03113",
   "metadata": {},
   "source": [
    "Удобно $w, w_0$ так, чтобы для пограничных элементов выполнялось условие\n",
    "$$ \\langle w,x_i \\rangle − w_0=y_i$$"
   ]
  },
  {
   "cell_type": "markdown",
   "id": "e013971b-83d8-423a-8ebc-c4481255d7fa",
   "metadata": {},
   "source": [
    "Тогда ни один элемент не будет удовлетворять :\n",
    "$$−1 < \\langle w,x_i \\rangle − w_0  < 1$$"
   ]
  },
  {
   "cell_type": "markdown",
   "id": "7952264f-05d7-4def-9768-dd6a9dac3957",
   "metadata": {},
   "source": [
    "Пусть $x^+$ и $x^-$ - пограничные элементы классов 1 и -1"
   ]
  },
  {
   "cell_type": "markdown",
   "id": "2c334fa7-4e45-49b5-80c2-00f2f142ab19",
   "metadata": {},
   "source": [
    "$$\\bigg\\langle (x^+-x^-), \\frac{w}{\\|w\\|} \\bigg\\rangle =  \\frac{ \\langle x^+, w \\rangle - \\langle x^-, w \\rangle}{\\|w\\|} = \\frac{(w_0 + 1) - (w_0 - 1)}{\\|w\\|} = \\frac{2}{\\|w\\|}$$"
   ]
  },
  {
   "cell_type": "markdown",
   "id": "ea880412-7fed-4a64-b578-ad36c5f8f9c9",
   "metadata": {},
   "source": [
    "$$\\begin{cases}\n",
    "\\langle w, w \\rangle \\to \\min; \\\\\n",
    "y_i \\cdot(\\langle x_i , w\\rangle - w_0 ) \\geq 1, i=1, 2, ..., l\n",
    "\\end{cases}$$"
   ]
  },
  {
   "cell_type": "markdown",
   "id": "c0bdd5d1-3024-4da1-90f7-c207056869d8",
   "metadata": {},
   "source": [
    "$$\\begin{cases}\n",
    "L(w, w_0; \\lambda) = \\frac{1}{2} \\langle w, w \\rangle - \\sum_{i=1}^{l}\\lambda_i (y_i \\cdot(\\langle x , w\\rangle - w_0 ) - 1) \\to \\min_{w, w_0} \\max_{\\lambda} \\\\\n",
    "\\lambda_i \\geq 0, \\quad i = 1, ..., l \\\\\n",
    "\\lambda_i = 0 \\text{ либо }  y_i = \\langle x , w\\rangle - w_0, \\quad i = 1, ..., l\n",
    "\\end{cases}$$"
   ]
  },
  {
   "cell_type": "markdown",
   "id": "2892fc45-8e44-4cfa-8497-d8a33733774c",
   "metadata": {},
   "source": [
    "Необходимые условия\n",
    "\n",
    "$$\\frac{\\partial L}{\\partial w} = w- \\sum_{i=1}^{l} \\lambda_i y_i x_i = 0$$\n",
    "$$\\frac{\\partial L}{\\partial w_0} = - \\sum_{i=1}^{l} \\lambda_i y_i =0$$\n",
    "\n",
    "т.е.\n",
    "\n",
    "$$w =  \\sum_{i=1}^{l} \\lambda_i y_i x_i$$\n",
    "$$ \\sum_{i=1}^{l} \\lambda_i y_i =0$$"
   ]
  },
  {
   "cell_type": "markdown",
   "id": "b278f052-094a-486b-8435-75cfa9fff016",
   "metadata": {},
   "source": [
    "Из равенства \n",
    "\n",
    "$$w =  \\sum_{i=1}^{l} \\lambda_i y_i x_i$$\n",
    "\n",
    "следует, что при суммирование участвуют вектора $x_i$, где $\\lambda_i \\neq 0$, а таковыми являются вектора на границе $y_i = \\langle x_i , w\\rangle - w_0$ (их как раз и называют опорными векторами) \n"
   ]
  },
  {
   "cell_type": "markdown",
   "id": "f3305c29-4a36-4683-829e-6eb7336a871f",
   "metadata": {},
   "source": [
    "подставляем результаты\n",
    "\n",
    "$$\\begin{cases}\n",
    "- L(\\lambda) = - \\sum_{i=1}^{l}\\lambda_i + \\frac{1}{2} \\sum_{i=1}^{l} \\sum_{j=1}^{l} \\lambda_j y_j \\lambda_i y_i \\langle x_i, x_j \\rangle  \\to \\min_{\\lambda} \\\\\n",
    "\\lambda_i \\geq 0, \\quad i = 1, ..., l \\\\\n",
    "\\sum_{i=1}^{l} \\lambda_i y_i =0\n",
    "\\end{cases}$$"
   ]
  },
  {
   "cell_type": "markdown",
   "id": "50eac0eb-4735-465d-8312-1485c70325d5",
   "metadata": {},
   "source": [
    "Особенность задачи в том, что число опорных векторов $h<< l$"
   ]
  },
  {
   "cell_type": "markdown",
   "id": "5c588262-0ad7-4a1e-991e-0b70ed818169",
   "metadata": {},
   "source": [
    "Пример алгоритма решения задачи INCAS - последовательный метод активных ограничений \n",
    "\n",
    "Fine S., Scheinberg K. INCAS: An incremental active set method for SVM: Tech.\n",
    "rep.: 2002. http://citeseer.ist.psu.edu/fine02incas.html., \n",
    "\n",
    "Scheinberg K. An efficient implementation of an active set method for svms // J.\n",
    "Mach. Learn. Res. \u0016 2006. \u0016 Vol. 7. \u0016 Pp. 2237–2257"
   ]
  },
  {
   "cell_type": "markdown",
   "id": "b7f363ae-c1cd-47ea-a8b4-11ea50b50bf8",
   "metadata": {},
   "source": [
    "Перепишем задачу в матричном виде\n",
    "\n",
    "$$\\begin{cases}\n",
    " \\frac{1}{2} \\lambda^T Q \\lambda - e^T \\lambda \\to \\min_{\\lambda} \\\\\n",
    "\\lambda \\geq 0, \\quad i = 1, ..., l \\\\\n",
    "y^T \\lambda = 0;\n",
    "\\end{cases}$$\n",
    "\n",
    "$e$ - вектор из единиц, $Q_{ij} = y_j y_i \\langle x_i, x_j \\rangle$\n",
    "\n",
    "Можно выделить опорные и не опорные элементы\n",
    "\n",
    "$I_O = \\{ i: \\lambda_i = 0\\}$\n",
    "\n",
    "$I_S = \\{ i: \\lambda_i > 0\\}$"
   ]
  },
  {
   "cell_type": "markdown",
   "id": "4e1e96ec-2a73-439e-a630-8d2338bc287c",
   "metadata": {},
   "source": [
    "$$\\begin{cases}\n",
    " \\frac{1}{2} \\lambda^T_S Q_{SS} \\lambda_S - e^T_S \\lambda_S \\to \\min_{\\lambda} \\\\\n",
    "y^T_S \\lambda_S = 0;\n",
    "\\end{cases}$$"
   ]
  },
  {
   "cell_type": "markdown",
   "id": "bd4d9fea-4768-49f8-b5fb-c5fecd69e86e",
   "metadata": {},
   "source": [
    "Для первого приближения решается задача, если обнаруживаются противоричия, то объект переводится из одного множество в другое.\n",
    "\n",
    "Если $i\\in I_S, \\lambda_i \\leq 0$, то объект переводится из $I_S$ в $I_O$\n",
    "\n",
    "Если $i\\in I_O, y_i(\\langle w, x_i\\rangle - w_0) \\leq 1$, то объект переводится из $I_O$ в $I_S$"
   ]
  },
  {
   "cell_type": "markdown",
   "id": "2867b43e-44b1-4dec-bb85-3c9715c41df3",
   "metadata": {},
   "source": [
    "$$w_0 = \\frac{\\min_{y_i = 1}(\\langle w, x_i \\rangle ) + \\max_{y_i = -1}(\\langle w, x_i \\rangle)}{2}$$"
   ]
  },
  {
   "cell_type": "code",
   "execution_count": 64,
   "id": "470c4ea0-ca67-43d4-97a7-a42e2056c3d0",
   "metadata": {},
   "outputs": [
    {
     "data": {
      "image/png": "[encoded data removed]",
      "text/plain": [
       "<Figure size 640x480 with 1 Axes>"
      ]
     },
     "metadata": {},
     "output_type": "display_data"
    }
   ],
   "source": [
    "t = np.linspace(-1, 2, 100)\n",
    "\n",
    "IS = []\n",
    "IO = []\n",
    "for x in X:\n",
    "    x1, x2 = x.get_cord()\n",
    "    if np.random.random() < 0.1:\n",
    "        IS.append(x)\n",
    "        plt.scatter(x1, x2, color='g')\n",
    "    else:\n",
    "        IO.append(x)\n",
    "        x.plot()\n",
    "    "
   ]
  },
  {
   "cell_type": "code",
   "execution_count": 65,
   "id": "f6009f17-78cb-4a23-b622-80f95895740e",
   "metadata": {},
   "outputs": [],
   "source": [
    "def Q_ij(xi, xj):\n",
    "    return (xi.x1*xj.x1+xi.x2*xj.x2)*xi.y*xj.y\n",
    "Q = np.array([[Q_ij(xi, xj) for xi in IS] for xj in IS])\n",
    "Y = np.array([xj.y for xj in IS] )"
   ]
  },
  {
   "cell_type": "code",
   "execution_count": 66,
   "id": "d504bac5-bf45-4149-9997-f6f0c6e706dd",
   "metadata": {},
   "outputs": [
    {
     "data": {
      "text/plain": [
       "(array([[ 1.61867981, -1.18693692, -0.21549275,  4.61995911],\n",
       "        [-1.18693692,  0.89230269, -0.09592051, -3.69250445],\n",
       "        [-0.21549275, -0.09592051,  2.96617524,  2.91088781],\n",
       "        [ 4.61995911, -3.69250445,  2.91088781, 17.41833594]]),\n",
       " array([ 1,  1, -1, -1]))"
      ]
     },
     "execution_count": 66,
     "metadata": {},
     "output_type": "execute_result"
    }
   ],
   "source": [
    "Q, Y"
   ]
  },
  {
   "cell_type": "code",
   "execution_count": null,
   "id": "6dbaa80a-388f-46e4-9806-03c4d71848b5",
   "metadata": {},
   "outputs": [],
   "source": []
  },
  {
   "cell_type": "code",
   "execution_count": 67,
   "id": "912c46e5-9a32-44c2-9554-30b2f65a4963",
   "metadata": {},
   "outputs": [],
   "source": [
    "from scipy.optimize import minimize, LinearConstraint\n",
    "linear_constraint = LinearConstraint ([Y], [0], [0])\n",
    "\n",
    "from scipy.optimize import Bounds\n",
    "bounds = Bounds ([0 for _ in IS], [np.inf for _ in IS])"
   ]
  },
  {
   "cell_type": "code",
   "execution_count": 68,
   "id": "73c73e8c-c850-4d45-9366-c08cc67abb6a",
   "metadata": {},
   "outputs": [],
   "source": [
    "def Qfun(lambda_):\n",
    "    return 0.5 * lambda_@Q@lambda_ - lambda_@np.ones_like(lambda_)\n",
    "lambda_0 = np.array([1 for _ in IS])\n",
    "lambda_rez = minimize(Qfun, lambda_0, constraints=linear_constraint, bounds=bounds).x"
   ]
  },
  {
   "cell_type": "code",
   "execution_count": null,
   "id": "118b25e2-5bb6-4cbf-9950-8e9d50534e84",
   "metadata": {},
   "outputs": [],
   "source": []
  },
  {
   "cell_type": "code",
   "execution_count": null,
   "id": "96fae52c-c40f-4149-96c5-edeb27f41193",
   "metadata": {},
   "outputs": [],
   "source": []
  },
  {
   "cell_type": "code",
   "execution_count": 69,
   "id": "8cb487c7-48e1-4734-9f09-8b35ebdfec81",
   "metadata": {},
   "outputs": [],
   "source": [
    "def get_w_from_IS(IS, lambda_rez):\n",
    "    w = np.zeros(2)\n",
    "    for lm, x in zip(lambda_rez, IS):\n",
    "        w += lm*x.y*x.get_vec()\n",
    "    return w\n",
    "        "
   ]
  },
  {
   "cell_type": "code",
   "execution_count": 70,
   "id": "93748631-97cc-454d-8b54-60980126a5f8",
   "metadata": {},
   "outputs": [],
   "source": [
    "w_new = get_w_from_IS(IS, lambda_rez)"
   ]
  },
  {
   "cell_type": "code",
   "execution_count": 71,
   "id": "e524dc01-b028-4867-aed9-6b6748c01b64",
   "metadata": {},
   "outputs": [],
   "source": [
    "w0_new = [w_new@x.get_vec() -x.y for x in IO]\n",
    "w0_new = np.mean(w0_new)"
   ]
  },
  {
   "cell_type": "code",
   "execution_count": 72,
   "id": "44b99188-ddd7-429d-ad00-ddf0e30adc57",
   "metadata": {},
   "outputs": [
    {
     "data": {
      "image/png": "[encoded data removed]",
      "text/plain": [
       "<Figure size 640x480 with 1 Axes>"
      ]
     },
     "metadata": {},
     "output_type": "display_data"
    }
   ],
   "source": [
    "# Поиск опорных векторов\n",
    "# t = np.linspace(0, 1, 100)\n",
    "old_ = w0_new/w_new[1]-t*w_new[0]/w_new[1]\n",
    "plt.plot(t, old_)\n",
    "\n",
    "for lm, x in zip(lambda_rez, IS):\n",
    "    # x1, x2 = x.get_cord()\n",
    "    # plt.scatter(x1, x2, color='k' if lm <= 0 else 'g')\n",
    "    x.plot()\n",
    "\n",
    "for x in IO:\n",
    "    x.plot()"
   ]
  },
  {
   "cell_type": "code",
   "execution_count": 75,
   "id": "b4258ade-d694-4786-be05-9017ae8d5b8c",
   "metadata": {},
   "outputs": [
    {
     "data": {
      "image/png": "[encoded data removed]",
      "text/plain": [
       "<Figure size 640x480 with 1 Axes>"
      ]
     },
     "metadata": {},
     "output_type": "display_data"
    }
   ],
   "source": [
    "new_IO = []\n",
    "new_IS = []\n",
    "\n",
    "# Поиск опорных векторов\n",
    "\n",
    "old_ =  w0_new/w_new[1]-t*w_new[0]/w_new[1]\n",
    "plt.plot(t, old_)\n",
    "\n",
    "for lm, x in zip(lambda_rez, IS):\n",
    "    x1, x2 = x.get_cord()\n",
    "    if lm <= 0:\n",
    "        new_IO.append(x)\n",
    "        plt.scatter(x1, x2, color='k')\n",
    "    else:\n",
    "        new_IS.append(x)\n",
    "        plt.scatter(x1, x2, color='g')\n",
    "\n",
    "for x in IO:\n",
    "    x1, x2 = x.get_cord()\n",
    "    if (w_new@x.get_vec() - w0_new)* x.y <= 1:\n",
    "        new_IS.append(x)\n",
    "        plt.scatter(x1, x2, color='y')\n",
    "    else:\n",
    "        new_IO.append(x)\n",
    "        x.plot()"
   ]
  },
  {
   "cell_type": "code",
   "execution_count": 76,
   "id": "38211d7a-c891-4c43-a1df-47b1f20fd7aa",
   "metadata": {},
   "outputs": [],
   "source": [
    "def iter_SVM(IS, IO):\n",
    "    Q = np.array([[Q_ij(xi, xj) for xi in IS] for xj in IS])\n",
    "    Y = np.array([xj.y for xj in IS] )\n",
    "    linear_constraint = LinearConstraint ([Y], [0], [0])\n",
    "    bounds = Bounds ([0 for _ in IS], [np.inf for _ in IS])\n",
    "\n",
    "    def Qfun(lambda_):\n",
    "        return 0.5 * lambda_@Q@lambda_ - lambda_@np.ones_like(lambda_)\n",
    "    \n",
    "    lambda_0 = np.array([1 for _ in IS])\n",
    "    lambda_rez = minimize(Qfun, lambda_0, constraints=linear_constraint, bounds=bounds).x\n",
    "    \n",
    "    w_new = get_w_from_IS(IS, lambda_rez)\n",
    "    w_fun = lambda x: w_new@x.get_vec() #- x.y\n",
    "    min_ = np.min([w_fun(x) for x in IO if x.y == 1]) \n",
    "    max_ = np.max([w_fun(x) for x in IO if x.y == -1])\n",
    "    w0_new = 0.5*(min_+max_)\n",
    "    return w_new, w0_new, lambda_rez\n",
    "\n",
    "def new_ISIO(IS, IO, w, w0, lambda_rez):\n",
    "    new_IO = []\n",
    "    new_IS = []\n",
    "    \n",
    "    for lm, x in zip(lambda_rez, IS):\n",
    "        x1, x2 = x.get_cord()\n",
    "        if lm <= 0:\n",
    "            new_IO.append(x)\n",
    "        else:\n",
    "            new_IS.append(x)\n",
    "\n",
    "    for x in IO:\n",
    "        x1, x2 = x.get_cord()\n",
    "        if (w@x.get_vec() - w0)* x.y<=1:\n",
    "            new_IS.append(x)\n",
    "        else:\n",
    "            new_IO.append(x)\n",
    "    return new_IS, new_IO"
   ]
  },
  {
   "cell_type": "code",
   "execution_count": 77,
   "id": "0af8aff1-49f5-43cb-b572-c30dfe2be764",
   "metadata": {},
   "outputs": [],
   "source": [
    "w_new, w0_new, lambda_rez = iter_SVM(new_IS, new_IO)"
   ]
  },
  {
   "cell_type": "code",
   "execution_count": 78,
   "id": "486d6ad3-9345-45d5-a673-d1e1b01e036f",
   "metadata": {},
   "outputs": [
    {
     "data": {
      "image/png": "[encoded data removed]",
      "text/plain": [
       "<Figure size 640x480 with 1 Axes>"
      ]
     },
     "metadata": {},
     "output_type": "display_data"
    }
   ],
   "source": [
    "# Поиск опорных векторов\n",
    "\n",
    "new_ = w0_new/w_new[1]-t*w_new[0]/w_new[1]\n",
    "plt.plot(t, new_)\n",
    "plt.plot(t, old_, 'orange')\n",
    "\n",
    "for x in new_IS:\n",
    "    x1, x2 = x.get_cord()\n",
    "    plt.scatter(x1, x2, color='g')\n",
    "\n",
    "for x in new_IO:\n",
    "    x.plot()\n"
   ]
  },
  {
   "cell_type": "code",
   "execution_count": 79,
   "id": "588ebcae-3c41-4c92-bee5-c10f2749b03d",
   "metadata": {},
   "outputs": [
    {
     "ename": "ValueError",
     "evalue": "zero-size array to reduction operation minimum which has no identity",
     "output_type": "error",
     "traceback": [
      "\u001b[1;31m---------------------------------------------------------------------------\u001b[0m",
      "\u001b[1;31mValueError\u001b[0m                                Traceback (most recent call last)",
      "Cell \u001b[1;32mIn[79], line 3\u001b[0m\n\u001b[0;32m      1\u001b[0m old_ \u001b[38;5;241m=\u001b[39m new_\n\u001b[0;32m      2\u001b[0m new_IS, new_IO \u001b[38;5;241m=\u001b[39m new_ISIO(new_IS, new_IO, w_new, w0_new, lambda_rez)\n\u001b[1;32m----> 3\u001b[0m w_new, w0_new, lambda_rez \u001b[38;5;241m=\u001b[39m \u001b[43miter_SVM\u001b[49m\u001b[43m(\u001b[49m\u001b[43mnew_IS\u001b[49m\u001b[43m,\u001b[49m\u001b[43m \u001b[49m\u001b[43mnew_IO\u001b[49m\u001b[43m)\u001b[49m\n\u001b[0;32m      5\u001b[0m new_ \u001b[38;5;241m=\u001b[39m w0_new\u001b[38;5;241m/\u001b[39mw_new[\u001b[38;5;241m1\u001b[39m]\u001b[38;5;241m-\u001b[39mt\u001b[38;5;241m*\u001b[39mw_new[\u001b[38;5;241m0\u001b[39m]\u001b[38;5;241m/\u001b[39mw_new[\u001b[38;5;241m1\u001b[39m]\n\u001b[0;32m      6\u001b[0m plt\u001b[38;5;241m.\u001b[39mplot(t, new_)\n",
      "Cell \u001b[1;32mIn[76], line 15\u001b[0m, in \u001b[0;36miter_SVM\u001b[1;34m(IS, IO)\u001b[0m\n\u001b[0;32m     13\u001b[0m w_new \u001b[38;5;241m=\u001b[39m get_w_from_IS(IS, lambda_rez)\n\u001b[0;32m     14\u001b[0m w_fun \u001b[38;5;241m=\u001b[39m \u001b[38;5;28;01mlambda\u001b[39;00m x: w_new\u001b[38;5;129m@x\u001b[39m\u001b[38;5;241m.\u001b[39mget_vec() \u001b[38;5;66;03m#- x.y\u001b[39;00m\n\u001b[1;32m---> 15\u001b[0m min_ \u001b[38;5;241m=\u001b[39m \u001b[43mnp\u001b[49m\u001b[38;5;241;43m.\u001b[39;49m\u001b[43mmin\u001b[49m\u001b[43m(\u001b[49m\u001b[43m[\u001b[49m\u001b[43mw_fun\u001b[49m\u001b[43m(\u001b[49m\u001b[43mx\u001b[49m\u001b[43m)\u001b[49m\u001b[43m \u001b[49m\u001b[38;5;28;43;01mfor\u001b[39;49;00m\u001b[43m \u001b[49m\u001b[43mx\u001b[49m\u001b[43m \u001b[49m\u001b[38;5;129;43;01min\u001b[39;49;00m\u001b[43m \u001b[49m\u001b[43mIO\u001b[49m\u001b[43m \u001b[49m\u001b[38;5;28;43;01mif\u001b[39;49;00m\u001b[43m \u001b[49m\u001b[43mx\u001b[49m\u001b[38;5;241;43m.\u001b[39;49m\u001b[43my\u001b[49m\u001b[43m \u001b[49m\u001b[38;5;241;43m==\u001b[39;49m\u001b[43m \u001b[49m\u001b[38;5;241;43m1\u001b[39;49m\u001b[43m]\u001b[49m\u001b[43m)\u001b[49m \n\u001b[0;32m     16\u001b[0m max_ \u001b[38;5;241m=\u001b[39m np\u001b[38;5;241m.\u001b[39mmax([w_fun(x) \u001b[38;5;28;01mfor\u001b[39;00m x \u001b[38;5;129;01min\u001b[39;00m IO \u001b[38;5;28;01mif\u001b[39;00m x\u001b[38;5;241m.\u001b[39my \u001b[38;5;241m==\u001b[39m \u001b[38;5;241m-\u001b[39m\u001b[38;5;241m1\u001b[39m])\n\u001b[0;32m     17\u001b[0m w0_new \u001b[38;5;241m=\u001b[39m \u001b[38;5;241m0.5\u001b[39m\u001b[38;5;241m*\u001b[39m(min_\u001b[38;5;241m+\u001b[39mmax_)\n",
      "File \u001b[1;32m~\\neural_networks_course\\env\\Lib\\site-packages\\numpy\\_core\\fromnumeric.py:3042\u001b[0m, in \u001b[0;36mmin\u001b[1;34m(a, axis, out, keepdims, initial, where)\u001b[0m\n\u001b[0;32m   2925\u001b[0m \u001b[38;5;129m@array_function_dispatch\u001b[39m(_min_dispatcher)\n\u001b[0;32m   2926\u001b[0m \u001b[38;5;28;01mdef\u001b[39;00m \u001b[38;5;21mmin\u001b[39m(a, axis\u001b[38;5;241m=\u001b[39m\u001b[38;5;28;01mNone\u001b[39;00m, out\u001b[38;5;241m=\u001b[39m\u001b[38;5;28;01mNone\u001b[39;00m, keepdims\u001b[38;5;241m=\u001b[39mnp\u001b[38;5;241m.\u001b[39m_NoValue, initial\u001b[38;5;241m=\u001b[39mnp\u001b[38;5;241m.\u001b[39m_NoValue,\n\u001b[0;32m   2927\u001b[0m         where\u001b[38;5;241m=\u001b[39mnp\u001b[38;5;241m.\u001b[39m_NoValue):\n\u001b[0;32m   2928\u001b[0m \u001b[38;5;250m    \u001b[39m\u001b[38;5;124;03m\"\"\"\u001b[39;00m\n\u001b[0;32m   2929\u001b[0m \u001b[38;5;124;03m    Return the minimum of an array or minimum along an axis.\u001b[39;00m\n\u001b[0;32m   2930\u001b[0m \n\u001b[1;32m   (...)\u001b[0m\n\u001b[0;32m   3040\u001b[0m \u001b[38;5;124;03m    6\u001b[39;00m\n\u001b[0;32m   3041\u001b[0m \u001b[38;5;124;03m    \"\"\"\u001b[39;00m\n\u001b[1;32m-> 3042\u001b[0m     \u001b[38;5;28;01mreturn\u001b[39;00m \u001b[43m_wrapreduction\u001b[49m\u001b[43m(\u001b[49m\u001b[43ma\u001b[49m\u001b[43m,\u001b[49m\u001b[43m \u001b[49m\u001b[43mnp\u001b[49m\u001b[38;5;241;43m.\u001b[39;49m\u001b[43mminimum\u001b[49m\u001b[43m,\u001b[49m\u001b[43m \u001b[49m\u001b[38;5;124;43m'\u001b[39;49m\u001b[38;5;124;43mmin\u001b[39;49m\u001b[38;5;124;43m'\u001b[39;49m\u001b[43m,\u001b[49m\u001b[43m \u001b[49m\u001b[43maxis\u001b[49m\u001b[43m,\u001b[49m\u001b[43m \u001b[49m\u001b[38;5;28;43;01mNone\u001b[39;49;00m\u001b[43m,\u001b[49m\u001b[43m \u001b[49m\u001b[43mout\u001b[49m\u001b[43m,\u001b[49m\n\u001b[0;32m   3043\u001b[0m \u001b[43m                          \u001b[49m\u001b[43mkeepdims\u001b[49m\u001b[38;5;241;43m=\u001b[39;49m\u001b[43mkeepdims\u001b[49m\u001b[43m,\u001b[49m\u001b[43m \u001b[49m\u001b[43minitial\u001b[49m\u001b[38;5;241;43m=\u001b[39;49m\u001b[43minitial\u001b[49m\u001b[43m,\u001b[49m\u001b[43m \u001b[49m\u001b[43mwhere\u001b[49m\u001b[38;5;241;43m=\u001b[39;49m\u001b[43mwhere\u001b[49m\u001b[43m)\u001b[49m\n",
      "File \u001b[1;32m~\\neural_networks_course\\env\\Lib\\site-packages\\numpy\\_core\\fromnumeric.py:86\u001b[0m, in \u001b[0;36m_wrapreduction\u001b[1;34m(obj, ufunc, method, axis, dtype, out, **kwargs)\u001b[0m\n\u001b[0;32m     83\u001b[0m         \u001b[38;5;28;01melse\u001b[39;00m:\n\u001b[0;32m     84\u001b[0m             \u001b[38;5;28;01mreturn\u001b[39;00m reduction(axis\u001b[38;5;241m=\u001b[39maxis, out\u001b[38;5;241m=\u001b[39mout, \u001b[38;5;241m*\u001b[39m\u001b[38;5;241m*\u001b[39mpasskwargs)\n\u001b[1;32m---> 86\u001b[0m \u001b[38;5;28;01mreturn\u001b[39;00m \u001b[43mufunc\u001b[49m\u001b[38;5;241;43m.\u001b[39;49m\u001b[43mreduce\u001b[49m\u001b[43m(\u001b[49m\u001b[43mobj\u001b[49m\u001b[43m,\u001b[49m\u001b[43m \u001b[49m\u001b[43maxis\u001b[49m\u001b[43m,\u001b[49m\u001b[43m \u001b[49m\u001b[43mdtype\u001b[49m\u001b[43m,\u001b[49m\u001b[43m \u001b[49m\u001b[43mout\u001b[49m\u001b[43m,\u001b[49m\u001b[43m \u001b[49m\u001b[38;5;241;43m*\u001b[39;49m\u001b[38;5;241;43m*\u001b[39;49m\u001b[43mpasskwargs\u001b[49m\u001b[43m)\u001b[49m\n",
      "\u001b[1;31mValueError\u001b[0m: zero-size array to reduction operation minimum which has no identity"
     ]
    }
   ],
   "source": [
    "old_ = new_\n",
    "new_IS, new_IO = new_ISIO(new_IS, new_IO, w_new, w0_new, lambda_rez)\n",
    "w_new, w0_new, lambda_rez = iter_SVM(new_IS, new_IO)\n",
    "\n",
    "new_ = w0_new/w_new[1]-t*w_new[0]/w_new[1]\n",
    "plt.plot(t, new_)\n",
    "plt.plot(t, old_, 'orange')\n",
    "\n",
    "for x in new_IS:\n",
    "    x1, x2 = x.get_cord()\n",
    "    plt.scatter(x1, x2, color='g')\n",
    "\n",
    "for x in new_IO:\n",
    "    x.plot()\n"
   ]
  },
  {
   "cell_type": "code",
   "execution_count": null,
   "id": "2d345a92-1c65-44f2-bb7a-705dd99b2fea",
   "metadata": {},
   "outputs": [],
   "source": [
    "plt.plot(t, new_)\n",
    "\n",
    "for x in X_test:\n",
    "    x.plot()"
   ]
  },
  {
   "cell_type": "code",
   "execution_count": 80,
   "id": "5da9e45b-eb0b-4505-a786-29bbd1f1e211",
   "metadata": {},
   "outputs": [],
   "source": [
    "w_new, w0_new, lambda_rez = iter_SVM(X_test, X_test)\n",
    "new_ = w0_new/w_new[1]-t*w_new[0]/w_new[1]"
   ]
  },
  {
   "cell_type": "code",
   "execution_count": 60,
   "id": "a1034335-8a25-4360-8b01-7318bd3d19d6",
   "metadata": {},
   "outputs": [
    {
     "data": {
      "image/png": "[encoded data removed]",
      "text/plain": [
       "<Figure size 640x480 with 1 Axes>"
      ]
     },
     "metadata": {},
     "output_type": "display_data"
    }
   ],
   "source": [
    "plt.plot(t, new_)\n",
    "\n",
    "for x in X_test:\n",
    "    x.plot()"
   ]
  },
  {
   "cell_type": "code",
   "execution_count": null,
   "id": "03e87990-1a5a-4994-b1d8-f85c6b8762cd",
   "metadata": {},
   "outputs": [],
   "source": []
  },
  {
   "cell_type": "code",
   "execution_count": null,
   "id": "cf749020-a75e-407a-960d-b81fca63e387",
   "metadata": {},
   "outputs": [],
   "source": []
  }
 ],
 "metadata": {
  "kernelspec": {
   "display_name": "Python 3 (ipykernel)",
   "language": "python",
   "name": "python3"
  },
  "language_info": {
   "codemirror_mode": {
    "name": "ipython",
    "version": 3
   },
   "file_extension": ".py",
   "mimetype": "text/x-python",
   "name": "python",
   "nbconvert_exporter": "python",
   "pygments_lexer": "ipython3",
   "version": "3.12.4"
  }
 },
 "nbformat": 4,
 "nbformat_minor": 5
}
