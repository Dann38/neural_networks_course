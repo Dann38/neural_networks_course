{
 "cells": [
  {
   "cell_type": "code",
   "execution_count": 2,
   "id": "b9159dfa-4bd9-448a-9c69-db9042ff6b02",
   "metadata": {},
   "outputs": [],
   "source": [
    "import numpy as np\n",
    "import matplotlib.pyplot as plt"
   ]
  },
  {
   "cell_type": "code",
   "execution_count": 85,
   "id": "f03075ac-db9c-419c-b68f-a0d46486dea8",
   "metadata": {},
   "outputs": [],
   "source": [
    "w0 = 0.3\n",
    "w1 = -1\n",
    "w2 = 2\n",
    "\n",
    "def fun(x1, x2, w0=w0, w1=w1, w2=w2):\n",
    "    return w1*x1+w2*x2-w0\n",
    "    \n",
    "def w_test(x1, x2, w0=w0, w1=w1, w2=w2):\n",
    "    return -1 if fun(x1, x2, w0, w1, w2) < 0 else 1\n",
    "\n",
    "class Point:\n",
    "    def __init__(self):\n",
    "        self.x1 = np.random.random()\n",
    "        self.x2 = np.random.random()\n",
    "        self.color = 'r' if w_test(self.x1, self.x2) == -1 else 'b'\n",
    "\n",
    "    def get_cord(self):\n",
    "        return self.x1, self.x2\n",
    "\n",
    "    def get_y(self):\n",
    "        return w_test(self.x1, self.x2)\n",
    "        \n",
    "    def plot(self):\n",
    "        plt.scatter(self.x1, self.x2, color = self.color)\n",
    "        \n",
    "X = [Point() for _ in range(100)]"
   ]
  },
  {
   "cell_type": "code",
   "execution_count": 69,
   "id": "5259cb95-e266-418b-95a8-8cde4e5e17c8",
   "metadata": {},
   "outputs": [
    {
     "data": {
      "image/png": "[encoded data removed]",
      "text/plain": [
       "<Figure size 640x480 with 1 Axes>"
      ]
     },
     "metadata": {},
     "output_type": "display_data"
    }
   ],
   "source": [
    "t = np.linspace(0, 1, 100)\n",
    "plt.plot(t, w0/w2-t*w1/w2)\n",
    "for x in X:\n",
    "    x.plot()"
   ]
  },
  {
   "cell_type": "code",
   "execution_count": 70,
   "id": "488b4dc9-0fc5-40e9-b713-3ec3b2cfba60",
   "metadata": {},
   "outputs": [],
   "source": [
    "eps = 0.025"
   ]
  },
  {
   "cell_type": "code",
   "execution_count": 71,
   "id": "8261198c-38e5-4cff-a512-06942dfbb042",
   "metadata": {},
   "outputs": [],
   "source": [
    "X_red = [x for x in X if w_test(*x.get_cord(), w0, w1, w2) == -1]\n",
    "X_blue = [x for x in X if w_test(*x.get_cord(), w0, w1, w2) == 1]"
   ]
  },
  {
   "cell_type": "code",
   "execution_count": 72,
   "id": "0af34da0-0434-4489-8a48-e79c178234e8",
   "metadata": {},
   "outputs": [
    {
     "data": {
      "text/plain": [
       "5"
      ]
     },
     "execution_count": 72,
     "metadata": {},
     "output_type": "execute_result"
    }
   ],
   "source": [
    "w1*w1+w2*w2"
   ]
  },
  {
   "cell_type": "code",
   "execution_count": 73,
   "id": "f69a953f-8ba2-464f-8405-5267460ce154",
   "metadata": {},
   "outputs": [
    {
     "data": {
      "text/plain": [
       "0.07028100493797856"
      ]
     },
     "execution_count": 73,
     "metadata": {},
     "output_type": "execute_result"
    }
   ],
   "source": [
    "delta = [-1*fun(*x.get_cord(), w0, w1, w2) for x in X_red]\n",
    "np.min(delta)"
   ]
  },
  {
   "cell_type": "code",
   "execution_count": 74,
   "id": "677ade44-3458-4ff4-9e46-43fc70c118ee",
   "metadata": {},
   "outputs": [
    {
     "data": {
      "text/plain": [
       "0.04963111291718586"
      ]
     },
     "execution_count": 74,
     "metadata": {},
     "output_type": "execute_result"
    }
   ],
   "source": [
    "delta = [1*fun(*x.get_cord(), w0, w1, w2) for x in X_blue]\n",
    "np.min(delta)"
   ]
  },
  {
   "cell_type": "markdown",
   "id": "ea880412-7fed-4a64-b578-ad36c5f8f9c9",
   "metadata": {},
   "source": [
    "$$\\begin{cases}\n",
    "\\langle w, w \\rangle \\to \\min; \\\\\n",
    "y_i \\cdot(\\langle x , w\\rangle - w_0 ) \\geq 1\n",
    "\\end{cases}$$"
   ]
  },
  {
   "cell_type": "markdown",
   "id": "c0bdd5d1-3024-4da1-90f7-c207056869d8",
   "metadata": {},
   "source": [
    "$$\\begin{cases}\n",
    "L(w, w_0; \\lambda) = \\frac{1}{2} \\langle w, w \\rangle - \\sum_{i=1}^{l}\\lambda_i (y_i \\cdot(\\langle x , w\\rangle - w_0 ) - 1) \\to \\min_{w, w_0} \\max_{\\lambda} \\\\\n",
    "\\lambda_i \\geq 0, \\quad i = 1, ..., l \\\\\n",
    "\\lambda_i = 0 \\text{ либо }  y_i = \\langle x , w\\rangle - w_0, \\quad i = 1, ..., l\n",
    "\\end{cases}$$"
   ]
  },
  {
   "cell_type": "markdown",
   "id": "2892fc45-8e44-4cfa-8497-d8a33733774c",
   "metadata": {},
   "source": [
    "Необходимые условия\n",
    "\n",
    "$$\\frac{\\partial L}{\\partial w} = w- \\sum_{i=1}^{l} \\lambda_i y_i x_i = 0$$\n",
    "$$\\frac{\\partial L}{\\partial w_0} = - \\sum_{i=1}^{l} \\lambda_i y_i =0$$\n",
    "\n",
    "т.е.\n",
    "\n",
    "$$w =  \\sum_{i=1}^{l} \\lambda_i y_i x_i$$\n",
    "$$ \\sum_{i=1}^{l} \\lambda_i y_i =0$$"
   ]
  },
  {
   "cell_type": "markdown",
   "id": "b278f052-094a-486b-8435-75cfa9fff016",
   "metadata": {},
   "source": [
    "Из равенства \n",
    "\n",
    "$$w =  \\sum_{i=1}^{l} \\lambda_i y_i x_i$$\n",
    "\n",
    "следует, что при суммирование участвуют вектора $x_i$, где $\\lambda_i \\neq 0$, а таковыми являются вектора на границе $y_i = \\langle x , w\\rangle - w_0$ (их как раз и называют опорными векторами) \n"
   ]
  },
  {
   "cell_type": "markdown",
   "id": "f3305c29-4a36-4683-829e-6eb7336a871f",
   "metadata": {},
   "source": [
    "подставляем результаты\n",
    "\n",
    "$$\\begin{cases}\n",
    "- L(\\lambda) = - \\sum_{i=1}^{l}\\lambda_i + \\frac{1}{2} \\sum_{i=1}^{l} \\sum_{j=1}^{l} \\lambda_j y_j \\lambda_i y_i \\langle x_i, x_j \\rangle  \\to \\min_{\\lambda} \\\\\n",
    "\\lambda_i \\geq 0, \\quad i = 1, ..., l \\\\\n",
    "\\sum_{i=1}^{l} \\lambda_i y_i =0\n",
    "\\end{cases}$$"
   ]
  },
  {
   "cell_type": "markdown",
   "id": "50eac0eb-4735-465d-8312-1485c70325d5",
   "metadata": {},
   "source": [
    "Особенность задачи в том, что число опорных векторов $h<< l$"
   ]
  },
  {
   "cell_type": "markdown",
   "id": "5c588262-0ad7-4a1e-991e-0b70ed818169",
   "metadata": {},
   "source": [
    "Пример алгоритма решения задачи INCAS - последовательный метод активных ограничений \n",
    "\n",
    "Fine S., Scheinberg K. INCAS: An incremental active set method for SVM: Tech.\n",
    "rep.: 2002. http://citeseer.ist.psu.edu/fine02incas.html., \n",
    "\n",
    "Scheinberg K. An efficient implementation of an active set method for svms // J.\n",
    "Mach. Learn. Res. \u0016 2006. \u0016 Vol. 7. \u0016 Pp. 2237–2257"
   ]
  },
  {
   "cell_type": "markdown",
   "id": "b7f363ae-c1cd-47ea-a8b4-11ea50b50bf8",
   "metadata": {},
   "source": [
    "Перепишем задачу в матричном виде\n",
    "\n",
    "$$\\begin{cases}\n",
    " \\frac{1}{2} \\lambda^T Q \\lambda - e^T \\lambda \\to \\min_{\\lambda} \\\\\n",
    "\\lambda \\geq 0, \\quad i = 1, ..., l \\\\\n",
    "y^T \\lambda = 0;\n",
    "\\end{cases}$$\n",
    "\n",
    "$e$ - вектор из единиц, $Q_{ij} = y_j y_i \\langle x_i, x_j \\rangle$\n",
    "\n",
    "Можно выделить опорные и не опорные элементы\n",
    "\n",
    "$I_O = \\{ i: \\lambda_i = 0\\}$\n",
    "\n",
    "$I_S = \\{ i: \\lambda_i > 0\\}$"
   ]
  },
  {
   "cell_type": "markdown",
   "id": "4e1e96ec-2a73-439e-a630-8d2338bc287c",
   "metadata": {},
   "source": [
    "$$\\begin{cases}\n",
    " \\frac{1}{2} \\lambda^T_S Q_{SS} \\lambda_S - e^T_S \\lambda_S \\to \\min_{\\lambda} \\\\\n",
    "y^T_S \\lambda_S = 0;\n",
    "\\end{cases}$$"
   ]
  },
  {
   "cell_type": "markdown",
   "id": "bd4d9fea-4768-49f8-b5fb-c5fecd69e86e",
   "metadata": {},
   "source": [
    "Для первого приближения решается задача, если обнаруживаются противоричия, то объект переводится из одного множество в другое.\n",
    "\n",
    "Если $i\\in I_S, \\lambda_i \\leq 0$, то объект переводится из $I_S$ в $I_O$\n",
    "\n",
    "Если $i\\in I_O, y_i(\\langle w, x_i\\rangle - w_0) \\leq 1$, то объект переводится из $I_O$ в $I_S$"
   ]
  },
  {
   "cell_type": "code",
   "execution_count": 75,
   "id": "470c4ea0-ca67-43d4-97a7-a42e2056c3d0",
   "metadata": {},
   "outputs": [
    {
     "data": {
      "image/png": "[encoded data removed]",
      "text/plain": [
       "<Figure size 640x480 with 1 Axes>"
      ]
     },
     "metadata": {},
     "output_type": "display_data"
    }
   ],
   "source": [
    "# Поиск опорных векторов\n",
    "t = np.linspace(0, 1, 100)\n",
    "plt.plot(t, w0/w2-t*w1/w2)\n",
    "IS = []\n",
    "for x in X:\n",
    "    x1, x2 = x.get_cord()\n",
    "    if abs(fun(x1, x2, w0=w0, w1=w1, w2=w2)) < 4*eps:\n",
    "        IS.append(x)\n",
    "        plt.scatter(x1, x2, color='g')\n",
    "    else:\n",
    "        x.plot()\n",
    "    "
   ]
  },
  {
   "cell_type": "code",
   "execution_count": 89,
   "id": "f6009f17-78cb-4a23-b622-80f95895740e",
   "metadata": {},
   "outputs": [],
   "source": [
    "def Q_ij(xi, xj):\n",
    "    return (xi.x1*xj.x1+xi.x2*xj.x2)*w_test(xi.x1, xi.x2)*w_test(xj.x1, xj.x2)\n",
    "\n",
    "Q = np.array([[Q_ij(xi, xj) for xi in IS] for xj in IS])\n",
    "Y = np.array([w_test(xj.x1, xj.x2) for xj in IS] )"
   ]
  },
  {
   "cell_type": "code",
   "execution_count": 90,
   "id": "d504bac5-bf45-4149-9997-f6f0c6e706dd",
   "metadata": {},
   "outputs": [
    {
     "data": {
      "text/plain": [
       "(array([[ 0.97783569,  0.22941289, -0.44079902,  0.17303696],\n",
       "        [ 0.22941289,  0.06750319, -0.10620424,  0.05557892],\n",
       "        [-0.44079902, -0.10620424,  0.19927583, -0.08105582],\n",
       "        [ 0.17303696,  0.05557892, -0.08105582,  0.0470289 ]]),\n",
       " array([ 1,  1, -1,  1]))"
      ]
     },
     "execution_count": 90,
     "metadata": {},
     "output_type": "execute_result"
    }
   ],
   "source": [
    "Q, Y"
   ]
  },
  {
   "cell_type": "code",
   "execution_count": 92,
   "id": "912c46e5-9a32-44c2-9554-30b2f65a4963",
   "metadata": {},
   "outputs": [
    {
     "data": {
      "text/plain": [
       "array([ 1.26392324e+00+0.00000000e+00j,  2.77203666e-02+0.00000000e+00j,\n",
       "       -4.53651496e-18+8.32119927e-18j, -4.53651496e-18-8.32119927e-18j])"
      ]
     },
     "execution_count": 92,
     "metadata": {},
     "output_type": "execute_result"
    }
   ],
   "source": []
  },
  {
   "cell_type": "code",
   "execution_count": null,
   "id": "73c73e8c-c850-4d45-9366-c08cc67abb6a",
   "metadata": {},
   "outputs": [],
   "source": []
  }
 ],
 "metadata": {
  "kernelspec": {
   "display_name": "Python 3 (ipykernel)",
   "language": "python",
   "name": "python3"
  },
  "language_info": {
   "codemirror_mode": {
    "name": "ipython",
    "version": 3
   },
   "file_extension": ".py",
   "mimetype": "text/x-python",
   "name": "python",
   "nbconvert_exporter": "python",
   "pygments_lexer": "ipython3",
   "version": "3.12.3"
  }
 },
 "nbformat": 4,
 "nbformat_minor": 5
}
