{
 "cells": [
  {
   "cell_type": "markdown",
   "id": "c1309416-10e3-4197-bbbf-14255558ee45",
   "metadata": {},
   "source": [
    "TF настройка GPU"
   ]
  },
  {
   "cell_type": "code",
   "execution_count": 1,
   "id": "2d1570f1-4188-4a04-a78f-ce8813277894",
   "metadata": {},
   "outputs": [
    {
     "name": "stderr",
     "output_type": "stream",
     "text": [
      "2024-07-22 10:47:14.315266: I tensorflow/core/util/port.cc:153] oneDNN custom operations are on. You may see slightly different numerical results due to floating-point round-off errors from different computation orders. To turn them off, set the environment variable `TF_ENABLE_ONEDNN_OPTS=0`.\n",
      "2024-07-22 10:47:14.315627: I external/local_xla/xla/tsl/cuda/cudart_stub.cc:32] Could not find cuda drivers on your machine, GPU will not be used.\n",
      "2024-07-22 10:47:14.317510: I external/local_xla/xla/tsl/cuda/cudart_stub.cc:32] Could not find cuda drivers on your machine, GPU will not be used.\n",
      "2024-07-22 10:47:14.323308: E external/local_xla/xla/stream_executor/cuda/cuda_fft.cc:485] Unable to register cuFFT factory: Attempting to register factory for plugin cuFFT when one has already been registered\n",
      "2024-07-22 10:47:14.333448: E external/local_xla/xla/stream_executor/cuda/cuda_dnn.cc:8454] Unable to register cuDNN factory: Attempting to register factory for plugin cuDNN when one has already been registered\n",
      "2024-07-22 10:47:14.336320: E external/local_xla/xla/stream_executor/cuda/cuda_blas.cc:1452] Unable to register cuBLAS factory: Attempting to register factory for plugin cuBLAS when one has already been registered\n",
      "2024-07-22 10:47:14.343885: I tensorflow/core/platform/cpu_feature_guard.cc:210] This TensorFlow binary is optimized to use available CPU instructions in performance-critical operations.\n",
      "To enable the following instructions: AVX2 AVX_VNNI FMA, in other operations, rebuild TensorFlow with the appropriate compiler flags.\n",
      "2024-07-22 10:47:14.873285: W tensorflow/compiler/tf2tensorrt/utils/py_utils.cc:38] TF-TRT Warning: Could not find TensorRT\n"
     ]
    }
   ],
   "source": [
    "import tensorflow as tf"
   ]
  },
  {
   "cell_type": "code",
   "execution_count": 2,
   "id": "434419e2-1fdc-457b-9e4e-77a1d86425f2",
   "metadata": {},
   "outputs": [
    {
     "name": "stdout",
     "output_type": "stream",
     "text": [
      "[sudo] password for daniil: \n",
      "[sudo] password for daniil: \n"
     ]
    }
   ],
   "source": [
    "# sudo apt update\n",
    "# sudo apt upgrade -y"
   ]
  },
  {
   "cell_type": "markdown",
   "id": "82d514db-4e29-4098-8345-c60bc93aa389",
   "metadata": {},
   "source": [
    "Видеокарта:\n",
    "NVIDIA GeForce RTX 3050 (GPU 0)"
   ]
  },
  {
   "cell_type": "code",
   "execution_count": null,
   "id": "5d532d9e-edf2-45e5-8af3-419e0495d2e4",
   "metadata": {},
   "outputs": [],
   "source": [
    "# sudo apt install ubuntu-drivers-common\n",
    "# ubuntu-drivers devices"
   ]
  },
  {
   "cell_type": "markdown",
   "id": "953f4bb4-3f44-4719-b0f3-804121e44fbe",
   "metadata": {},
   "source": [
    "```\n",
    "Вывод:\n",
    "udevadm hwdb is deprecated. Use systemd-hwdb instead.\n",
    "udevadm hwdb is deprecated. Use systemd-hwdb instead.\n",
    "udevadm hwdb is deprecated. Use systemd-hwdb instead.\n",
    "udevadm hwdb is deprecated. Use systemd-hwdb instead.\n",
    "== /sys/devices/pci0000:00/0000:00:01.0/0000:01:00.0 ==\n",
    "modalias : pci:v000010DEd00002582sv00001462sd00008D9Dbc03sc00i00\n",
    "vendor   : NVIDIA Corporation\n",
    "model    : GA107 [GeForce RTX 3050 8GB]\n",
    "driver   : nvidia-driver-535-open - distro non-free\n",
    "driver   : nvidia-driver-535-server-open - distro non-free\n",
    "driver   : nvidia-driver-535-server - distro non-free\n",
    "driver   : nvidia-driver-535 - distro non-free recommended                    <----------------- recommended\n",
    "driver   : xserver-xorg-video-nouveau - distro free builtin\n",
    "```"
   ]
  },
  {
   "cell_type": "code",
   "execution_count": null,
   "id": "88e08bfa-d0f3-4be4-8aa2-90211ef8071b",
   "metadata": {},
   "outputs": [],
   "source": [
    "# sudo apt install nvidia-driver-535"
   ]
  },
  {
   "cell_type": "markdown",
   "id": "300cf6f7-7c2e-42f9-af42-989c59ee32ae",
   "metadata": {},
   "source": [
    "Перезагрузка"
   ]
  },
  {
   "cell_type": "code",
   "execution_count": null,
   "id": "2a32220a-a62f-4180-8de6-7b0fdf499a89",
   "metadata": {},
   "outputs": [],
   "source": [
    "# nvidia-smi"
   ]
  },
  {
   "cell_type": "markdown",
   "id": "cca69b77-cf5c-42f2-9195-9e7814ae3269",
   "metadata": {},
   "source": [
    "```\n",
    "Mon Jul 22 10:59:02 2024       \n",
    "+---------------------------------------------------------------------------------------+\n",
    "| NVIDIA-SMI 535.183.01             Driver Version: 535.183.01   CUDA Version: 12.2     |\n",
    "|-----------------------------------------+----------------------+----------------------+\n",
    "| GPU  Name                 Persistence-M | Bus-Id        Disp.A | Volatile Uncorr. ECC |\n",
    "| Fan  Temp   Perf          Pwr:Usage/Cap |         Memory-Usage | GPU-Util  Compute M. |\n",
    "|                                         |                      |               MIG M. |\n",
    "|=========================================+======================+======================|\n",
    "|   0  NVIDIA GeForce RTX 3050        Off | 00000000:01:00.0  On |                  N/A |\n",
    "|  0%   38C    P8              N/A / 115W |    376MiB /  8192MiB |      4%      Default |\n",
    "|                                         |                      |                  N/A |\n",
    "+-----------------------------------------+----------------------+----------------------+\n",
    "                                                                                         \n",
    "+---------------------------------------------------------------------------------------+\n",
    "| Processes:                                                                            |\n",
    "|  GPU   GI   CI        PID   Type   Process name                            GPU Memory |\n",
    "|        ID   ID                                                             Usage      |\n",
    "|=======================================================================================|\n",
    "|    0   N/A  N/A      2037      G   /usr/lib/xorg/Xorg                          107MiB |\n",
    "|    0   N/A  N/A      2256      G   /usr/bin/gnome-shell                         83MiB |\n",
    "|    0   N/A  N/A      2993      G   ...irefox/4173/usr/lib/firefox/firefox      153MiB |\n",
    "+---------------------------------------------------------------------------------------+\n",
    "```"
   ]
  },
  {
   "cell_type": "markdown",
   "id": "1990a831-2958-45e9-bfc1-996585f31490",
   "metadata": {},
   "source": [
    "# Установка CUDO"
   ]
  },
  {
   "cell_type": "code",
   "execution_count": null,
   "id": "0c45864b-e0cc-4362-9923-9357d8f7fa76",
   "metadata": {},
   "outputs": [],
   "source": [
    "# sudo apt install gcc\n",
    "# gcc --version"
   ]
  },
  {
   "cell_type": "markdown",
   "id": "04dc881d-37a4-4bc3-b29e-c20c1af2d863",
   "metadata": {},
   "source": [
    "```\n",
    "gcc (Ubuntu 13.2.0-23ubuntu4) 13.2.0\n",
    "Copyright (C) 2023 Free Software Foundation, Inc.\n",
    "This is free software; see the source for copying conditions.  There is NO\n",
    "warranty; not even for MERCHANTABILITY or FITNESS FOR A PARTICULAR PURPOSE.\n",
    "```"
   ]
  },
  {
   "cell_type": "code",
   "execution_count": 4,
   "id": "7ab314ce-ff34-4097-aba1-d3233b718a07",
   "metadata": {},
   "outputs": [],
   "source": [
    "# lspci | grep -i nvidia"
   ]
  },
  {
   "cell_type": "markdown",
   "id": "04d46cf3-d8d1-42cd-b048-74fa72eeb348",
   "metadata": {},
   "source": [
    "```\n",
    "01:00.0 VGA compatible controller: NVIDIA Corporation GA107 [GeForce RTX 3050 8GB] (rev a1)\n",
    "01:00.1 Audio device: NVIDIA Corporation Device 2291 (rev a1)\n",
    "```"
   ]
  },
  {
   "cell_type": "code",
   "execution_count": 5,
   "id": "f4c2460b-284f-4a41-b535-38ed5dd1ace1",
   "metadata": {},
   "outputs": [],
   "source": [
    "# uname -m && cat /etc/*release"
   ]
  },
  {
   "cell_type": "markdown",
   "id": "b2525b22-90b5-488c-9526-396fdf806b27",
   "metadata": {},
   "source": [
    "```\n",
    "\n",
    "x86_64\n",
    "DISTRIB_ID=Ubuntu\n",
    "DISTRIB_RELEASE=24.04\n",
    "DISTRIB_CODENAME=noble\n",
    "DISTRIB_DESCRIPTION=\"Ubuntu 24.04 LTS\"\n",
    "PRETTY_NAME=\"Ubuntu 24.04 LTS\"\n",
    "NAME=\"Ubuntu\"\n",
    "VERSION_ID=\"24.04\"\n",
    "VERSION=\"24.04 LTS (Noble Numbat)\"\n",
    "VERSION_CODENAME=noble\n",
    "ID=ubuntu\n",
    "ID_LIKE=debian\n",
    "HOME_URL=\"https://www.ubuntu.com/\"\n",
    "SUPPORT_URL=\"https://help.ubuntu.com/\"\n",
    "BUG_REPORT_URL=\"https://bugs.launchpad.net/ubuntu/\"\n",
    "PRIVACY_POLICY_URL=\"https://www.ubuntu.com/legal/terms-and-policies/privacy-policy\"\n",
    "UBUNTU_CODENAME=noble\n",
    "LOGO=ubuntu-logo\n",
    "```"
   ]
  },
  {
   "cell_type": "code",
   "execution_count": 6,
   "id": "1d9825b7-0293-40f4-8476-e7ca9f4a11b1",
   "metadata": {},
   "outputs": [],
   "source": [
    "# uname -r"
   ]
  },
  {
   "cell_type": "markdown",
   "id": "eb6a46d8-41dc-4b43-af60-b977ab1b203b",
   "metadata": {},
   "source": [
    "```\n",
    "6.8.0-38-generic\n",
    "```"
   ]
  },
  {
   "cell_type": "code",
   "execution_count": null,
   "id": "b63e85e8-b457-414d-b5e7-46ee847ec939",
   "metadata": {},
   "outputs": [],
   "source": [
    "# wget https://developer.download.nvidia.com/compute/cuda/repos/ubuntu2204/x86_64/cuda-keyring_1.1-1_all.deb\n",
    "# sudo dpkg -i cuda-keyring_1.1-1_all.deb\n",
    "# sudo apt update\n",
    "# sudo apt install cuda -y"
   ]
  }
 ],
 "metadata": {
  "kernelspec": {
   "display_name": "Python 3 (ipykernel)",
   "language": "python",
   "name": "python3"
  },
  "language_info": {
   "codemirror_mode": {
    "name": "ipython",
    "version": 3
   },
   "file_extension": ".py",
   "mimetype": "text/x-python",
   "name": "python",
   "nbconvert_exporter": "python",
   "pygments_lexer": "ipython3",
   "version": "3.9.18"
  }
 },
 "nbformat": 4,
 "nbformat_minor": 5
}
