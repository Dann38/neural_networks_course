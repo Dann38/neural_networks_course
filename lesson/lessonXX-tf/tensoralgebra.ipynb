{
 "cells": [
  {
   "cell_type": "markdown",
   "id": "6743f234-316f-411e-9932-4e25c1b21c9e",
   "metadata": {},
   "source": [
    "https://habr.com/ru/articles/484214/"
   ]
  },
  {
   "cell_type": "code",
   "execution_count": 2,
   "id": "3e839d0c-60f5-4e58-bfbc-59669afe52fc",
   "metadata": {},
   "outputs": [
    {
     "name": "stderr",
     "output_type": "stream",
     "text": [
      "2024-07-22 16:51:14.255335: I external/local_xla/xla/tsl/cuda/cudart_stub.cc:32] Could not find cuda drivers on your machine, GPU will not be used.\n",
      "2024-07-22 16:51:14.258291: I external/local_xla/xla/tsl/cuda/cudart_stub.cc:32] Could not find cuda drivers on your machine, GPU will not be used.\n",
      "2024-07-22 16:51:14.267657: E external/local_xla/xla/stream_executor/cuda/cuda_fft.cc:485] Unable to register cuFFT factory: Attempting to register factory for plugin cuFFT when one has already been registered\n",
      "2024-07-22 16:51:14.282784: E external/local_xla/xla/stream_executor/cuda/cuda_dnn.cc:8454] Unable to register cuDNN factory: Attempting to register factory for plugin cuDNN when one has already been registered\n",
      "2024-07-22 16:51:14.286945: E external/local_xla/xla/stream_executor/cuda/cuda_blas.cc:1452] Unable to register cuBLAS factory: Attempting to register factory for plugin cuBLAS when one has already been registered\n",
      "2024-07-22 16:51:14.297282: I tensorflow/core/platform/cpu_feature_guard.cc:210] This TensorFlow binary is optimized to use available CPU instructions in performance-critical operations.\n",
      "To enable the following instructions: AVX2 FMA, in other operations, rebuild TensorFlow with the appropriate compiler flags.\n",
      "2024-07-22 16:51:15.313718: W tensorflow/compiler/tf2tensorrt/utils/py_utils.cc:38] TF-TRT Warning: Could not find TensorRT\n"
     ]
    }
   ],
   "source": [
    "import tensorflow as tf"
   ]
  },
  {
   "cell_type": "markdown",
   "id": "c3541be8-e82d-4f96-8c21-edfcf24fb041",
   "metadata": {},
   "source": [
    "# Разные виды тензоров"
   ]
  },
  {
   "cell_type": "code",
   "execution_count": 3,
   "id": "9033bfe0-1836-4ff5-8abb-abd100725428",
   "metadata": {},
   "outputs": [
    {
     "name": "stderr",
     "output_type": "stream",
     "text": [
      "2024-07-22 16:51:15.975021: E external/local_xla/xla/stream_executor/cuda/cuda_driver.cc:266] failed call to cuInit: CUDA_ERROR_NO_DEVICE: no CUDA-capable device is detected\n"
     ]
    }
   ],
   "source": [
    "mystr = tf.Variable([\"Hello\"], tf.string)\n",
    "cool_numbers  = tf.Variable([3.14159, 2.71828], tf.float32)\n",
    "first_primes = tf.Variable([2, 3, 5, 7, 11], tf.int32)\n",
    "its_very_complicated = tf.Variable([12.3 - 4.85j, 7.5 - 6.23j], tf.complex64)"
   ]
  },
  {
   "cell_type": "code",
   "execution_count": 4,
   "id": "16cd4730-3566-4e85-b0d5-ca2495dcba57",
   "metadata": {},
   "outputs": [],
   "source": [
    "mystr = tf.Variable([\"Hello\"], tf.string)\n",
    "cool_numbers  = tf.Variable([3.14159, 2.71828], tf.float32)\n",
    "first_primes = tf.Variable([2, 3, 5, 7, 11], tf.int32)\n",
    "its_very_complicated = tf.Variable([12.3 - 4.85j, 7.5 - 6.23j], tf.complex64)"
   ]
  },
  {
   "cell_type": "code",
   "execution_count": 5,
   "id": "48db17ce-1fdf-4a70-af20-f14e94de94af",
   "metadata": {},
   "outputs": [],
   "source": [
    "mymat = tf.Variable([[7],[11]], tf.int16)\n",
    "myxor = tf.Variable([[False, True],[True, False]], tf.bool)\n",
    "linear_squares = tf.Variable([[4], [9], [16], [25]], tf.int32)\n",
    "squarish_squares = tf.Variable([ [4, 9], [16, 25] ], tf.int32)\n",
    "rank_of_squares = tf.rank(squarish_squares)\n",
    "mymatC = tf.Variable([[7],[11]], tf.int32)"
   ]
  },
  {
   "cell_type": "code",
   "execution_count": 6,
   "id": "58a52d50-6383-4986-90bd-a44276776c79",
   "metadata": {},
   "outputs": [
    {
     "data": {
      "text/plain": [
       "TensorShape([10, 299, 299, 3])"
      ]
     },
     "execution_count": 6,
     "metadata": {},
     "output_type": "execute_result"
    }
   ],
   "source": [
    "my_image = tf.zeros([10, 299, 299, 3])  # размер пакета x высота x ширина x количество цветовых каналов\n",
    "my_image.shape"
   ]
  },
  {
   "cell_type": "code",
   "execution_count": 7,
   "id": "12991aae-dbd4-4757-bafc-6172af691609",
   "metadata": {},
   "outputs": [
    {
     "data": {
      "text/plain": [
       "4"
      ]
     },
     "execution_count": 7,
     "metadata": {},
     "output_type": "execute_result"
    }
   ],
   "source": [
    "r = tf.rank(my_image)\n",
    "r.numpy()"
   ]
  },
  {
   "cell_type": "code",
   "execution_count": 8,
   "id": "e22d6273-bce5-4d5c-a3f8-55a194885376",
   "metadata": {},
   "outputs": [
    {
     "data": {
      "text/plain": [
       "2.71828"
      ]
     },
     "execution_count": 8,
     "metadata": {},
     "output_type": "execute_result"
    }
   ],
   "source": [
    "cool_numbers[1].numpy()"
   ]
  },
  {
   "cell_type": "code",
   "execution_count": 9,
   "id": "336cc7c7-a889-4bc6-9926-f74831c2f5a7",
   "metadata": {},
   "outputs": [
    {
     "data": {
      "text/plain": [
       "9"
      ]
     },
     "execution_count": 9,
     "metadata": {},
     "output_type": "execute_result"
    }
   ],
   "source": [
    "squarish_squares[0,1].numpy()"
   ]
  },
  {
   "cell_type": "code",
   "execution_count": null,
   "id": "28da7fa7-4de6-4d9a-97fb-05bf4ee5adbf",
   "metadata": {},
   "outputs": [],
   "source": []
  },
  {
   "cell_type": "code",
   "execution_count": null,
   "id": "eedb88fe-18fd-45b4-a690-cea6aaaf0a6b",
   "metadata": {},
   "outputs": [],
   "source": []
  },
  {
   "cell_type": "code",
   "execution_count": 10,
   "id": "2a99430f-21b3-457c-b14a-9e37dc840afd",
   "metadata": {},
   "outputs": [],
   "source": [
    "a = tf.Variable([[1], [2]], tf.int32)\n",
    "B = tf.Variable([[1, 2], [3, 4]], tf.int32)"
   ]
  },
  {
   "cell_type": "code",
   "execution_count": 11,
   "id": "6a42cc43-5546-44f8-b681-1945375b9ecc",
   "metadata": {},
   "outputs": [
    {
     "data": {
      "text/plain": [
       "<tf.Tensor: shape=(2, 1), dtype=int32, numpy=\n",
       "array([[ 5],\n",
       "       [11]], dtype=int32)>"
      ]
     },
     "execution_count": 11,
     "metadata": {},
     "output_type": "execute_result"
    }
   ],
   "source": [
    "B@a"
   ]
  },
  {
   "cell_type": "code",
   "execution_count": 12,
   "id": "03fab207-ecc6-4047-ab2a-f915a773c4da",
   "metadata": {},
   "outputs": [
    {
     "data": {
      "text/plain": [
       "<tf.Tensor: shape=(2,), dtype=int32, numpy=array([1, 3], dtype=int32)>"
      ]
     },
     "execution_count": 12,
     "metadata": {},
     "output_type": "execute_result"
    }
   ],
   "source": [
    "B[:, 0] # Столбец. Все нулевые элементы каждой строки"
   ]
  },
  {
   "cell_type": "code",
   "execution_count": 13,
   "id": "12e69dd7-01a1-4c23-86cb-a290db869ff1",
   "metadata": {},
   "outputs": [
    {
     "data": {
      "text/plain": [
       "<tf.Tensor: shape=(2,), dtype=int32, numpy=array([1, 2], dtype=int32)>"
      ]
     },
     "execution_count": 13,
     "metadata": {},
     "output_type": "execute_result"
    }
   ],
   "source": [
    "B[0, :] # Строка. Все элементы нулевой строки"
   ]
  },
  {
   "cell_type": "code",
   "execution_count": 14,
   "id": "162db5ca-b292-4715-b0c1-5d301e5f1f65",
   "metadata": {},
   "outputs": [
    {
     "data": {
      "text/plain": [
       "(TensorShape([2, 2]), TensorShape([2, 1]))"
      ]
     },
     "execution_count": 14,
     "metadata": {},
     "output_type": "execute_result"
    }
   ],
   "source": [
    "B.shape, a.shape"
   ]
  },
  {
   "cell_type": "markdown",
   "id": "10f88a89-b6a5-4b4f-b428-44519d44b0fb",
   "metadata": {},
   "source": [
    "# Изменение размеров tf.Tensor"
   ]
  },
  {
   "cell_type": "code",
   "execution_count": 15,
   "id": "6e6c4b7e-42ec-4e15-99c3-e300644d04aa",
   "metadata": {},
   "outputs": [],
   "source": [
    "batch_images = tf.Variable([ # Батч\n",
    "    [                        # Изображение\n",
    "         [[0], [3], [0]],    # Строка пикселей + 1 канал цвета\n",
    "         [[2], [5], [3]],\n",
    "         [[0], [2], [0]]\n",
    "    ],\n",
    "    [                        \n",
    "         [[0], [4], [0]],    \n",
    "         [[1], [7], [4]],\n",
    "         [[0], [1], [0]]\n",
    "    ]\n",
    "], tf.int32)"
   ]
  },
  {
   "cell_type": "code",
   "execution_count": 16,
   "id": "405d6166-8a52-441a-8ef2-a051adad36bf",
   "metadata": {},
   "outputs": [
    {
     "data": {
      "text/plain": [
       "TensorShape([2, 3, 3, 1])"
      ]
     },
     "execution_count": 16,
     "metadata": {},
     "output_type": "execute_result"
    }
   ],
   "source": [
    "batch_images.shape # 2 - изображения размера 3x3 с одним цветовым каналом"
   ]
  },
  {
   "cell_type": "code",
   "execution_count": 17,
   "id": "1f1f6c68-9b90-491d-8079-c7352d636129",
   "metadata": {},
   "outputs": [],
   "source": [
    "mlp_batch_images = tf.reshape(batch_images, [2, 3*3, 1])"
   ]
  },
  {
   "cell_type": "code",
   "execution_count": 18,
   "id": "276ee233-ca10-4548-9233-d5aa9feaaba0",
   "metadata": {},
   "outputs": [
    {
     "data": {
      "text/plain": [
       "<tf.Tensor: shape=(2, 9, 1), dtype=int32, numpy=\n",
       "array([[[0],\n",
       "        [3],\n",
       "        [0],\n",
       "        [2],\n",
       "        [5],\n",
       "        [3],\n",
       "        [0],\n",
       "        [2],\n",
       "        [0]],\n",
       "\n",
       "       [[0],\n",
       "        [4],\n",
       "        [0],\n",
       "        [1],\n",
       "        [7],\n",
       "        [4],\n",
       "        [0],\n",
       "        [1],\n",
       "        [0]]], dtype=int32)>"
      ]
     },
     "execution_count": 18,
     "metadata": {},
     "output_type": "execute_result"
    }
   ],
   "source": [
    "mlp_batch_images"
   ]
  },
  {
   "cell_type": "markdown",
   "id": "9913d713-1341-43a5-9907-ec2a8ed0b8c3",
   "metadata": {},
   "source": [
    "# Типы данных"
   ]
  },
  {
   "cell_type": "markdown",
   "id": "23651120-312a-4d4e-bf7f-56502c240ce6",
   "metadata": {},
   "source": [
    "Тензор обязательно состоит из одного типа данных и их не так много. Но можно превратить тип данных в строку"
   ]
  },
  {
   "cell_type": "code",
   "execution_count": null,
   "id": "4e4d6fe9-fb73-4891-bf74-8a498e119081",
   "metadata": {},
   "outputs": [],
   "source": []
  },
  {
   "cell_type": "markdown",
   "id": "7f0a7a46-b051-43ac-ad0d-0c9ab0989335",
   "metadata": {},
   "source": [
    "# Вычислительный граф"
   ]
  },
  {
   "cell_type": "code",
   "execution_count": 19,
   "id": "ed189e8f-9b73-412a-8fbb-70e69ef247e1",
   "metadata": {},
   "outputs": [
    {
     "data": {
      "text/plain": [
       "(<tf.Variable 'Variable:0' shape=(2, 2) dtype=int32, numpy=\n",
       " array([[1, 2],\n",
       "        [3, 4]], dtype=int32)>,\n",
       " <tf.Variable 'Variable:0' shape=(2, 1) dtype=int32, numpy=\n",
       " array([[1],\n",
       "        [2]], dtype=int32)>)"
      ]
     },
     "execution_count": 19,
     "metadata": {},
     "output_type": "execute_result"
    }
   ],
   "source": [
    "B, a"
   ]
  },
  {
   "cell_type": "code",
   "execution_count": 20,
   "id": "6f2df7f9-25f2-425f-9a44-ed66723d3396",
   "metadata": {},
   "outputs": [
    {
     "data": {
      "text/plain": [
       "<tf.Variable 'UnreadVariable' shape=(2, 1) dtype=int32, numpy=\n",
       "array([[1],\n",
       "       [2]], dtype=int32)>"
      ]
     },
     "execution_count": 20,
     "metadata": {},
     "output_type": "execute_result"
    }
   ],
   "source": [
    "a.assign([[1], [2]])"
   ]
  },
  {
   "cell_type": "code",
   "execution_count": 21,
   "id": "6db53b69-9f76-49ec-9e88-f528bda8e9df",
   "metadata": {},
   "outputs": [],
   "source": [
    "@tf.function #<---------------- Создает Хэш\n",
    "def get_c():\n",
    "    return tf.multiply(B, a)"
   ]
  },
  {
   "cell_type": "code",
   "execution_count": 22,
   "id": "1afaf0fd-3081-41fb-a77d-d3ec57495a50",
   "metadata": {},
   "outputs": [
    {
     "data": {
      "text/plain": [
       "<tf.Tensor: shape=(2, 2), dtype=int32, numpy=\n",
       "array([[1, 2],\n",
       "       [6, 8]], dtype=int32)>"
      ]
     },
     "execution_count": 22,
     "metadata": {},
     "output_type": "execute_result"
    }
   ],
   "source": [
    "get_c()"
   ]
  },
  {
   "cell_type": "code",
   "execution_count": 23,
   "id": "329328b8-c3c7-4c21-b16f-685aa2117b2b",
   "metadata": {},
   "outputs": [
    {
     "data": {
      "text/plain": [
       "<tf.Variable 'UnreadVariable' shape=(2, 1) dtype=int32, numpy=\n",
       "array([[2],\n",
       "       [3]], dtype=int32)>"
      ]
     },
     "execution_count": 23,
     "metadata": {},
     "output_type": "execute_result"
    }
   ],
   "source": [
    "a.assign([[2], [3]])"
   ]
  },
  {
   "cell_type": "code",
   "execution_count": 24,
   "id": "b7414884-3cf5-4273-8184-2673017217a5",
   "metadata": {},
   "outputs": [
    {
     "data": {
      "text/plain": [
       "<tf.Tensor: shape=(2, 2), dtype=int32, numpy=\n",
       "array([[ 2,  4],\n",
       "       [ 9, 12]], dtype=int32)>"
      ]
     },
     "execution_count": 24,
     "metadata": {},
     "output_type": "execute_result"
    }
   ],
   "source": [
    "get_c()"
   ]
  },
  {
   "cell_type": "markdown",
   "id": "856546f4-26fa-484f-b53d-d10b6120fc09",
   "metadata": {},
   "source": [
    "# Умножение тензора на коэффициенты"
   ]
  },
  {
   "cell_type": "code",
   "execution_count": 27,
   "id": "2b7538d6-9e19-47d9-87fa-50ebd6ac6a93",
   "metadata": {},
   "outputs": [
    {
     "data": {
      "text/plain": [
       "TensorShape([2, 9, 1])"
      ]
     },
     "execution_count": 27,
     "metadata": {},
     "output_type": "execute_result"
    }
   ],
   "source": [
    "mlp_batch_images.shape"
   ]
  },
  {
   "cell_type": "code",
   "execution_count": 25,
   "id": "65fd7e65-7e63-4825-9fc1-4c283f356430",
   "metadata": {},
   "outputs": [
    {
     "data": {
      "text/plain": [
       "<tf.Variable 'Variable:0' shape=(3, 9) dtype=float32, numpy=\n",
       "array([[-0.37529817, -0.96892136,  0.32788092,  0.32279998, -0.10454494,\n",
       "         0.77857465, -0.04577165, -1.2742859 ,  1.1864647 ],\n",
       "       [ 0.432744  , -0.69004923, -0.66999274,  1.6137047 ,  2.302278  ,\n",
       "        -0.39679867,  0.11999218, -1.3297992 , -0.88807976],\n",
       "       [ 1.3054756 ,  0.26734534, -1.7624164 , -2.1171045 , -0.92533726,\n",
       "        -0.04225465, -1.3723755 , -0.31055808, -1.8522446 ]],\n",
       "      dtype=float32)>"
      ]
     },
     "execution_count": 25,
     "metadata": {},
     "output_type": "execute_result"
    }
   ],
   "source": [
    "w = tf.Variable(tf.random.normal([3, 9]))\n",
    "w"
   ]
  },
  {
   "cell_type": "code",
   "execution_count": 31,
   "id": "698ad084-41a3-42d8-9828-37aae05c18e1",
   "metadata": {},
   "outputs": [
    {
     "data": {
      "text/plain": [
       "<tf.Tensor: shape=(2, 3, 1), dtype=float32, numpy=\n",
       "array([[[-2.9967368],\n",
       "        [ 8.818658 ],\n",
       "        [-8.80674  ]],\n",
       "\n",
       "       [[-2.4446874],\n",
       "        [12.05246  ],\n",
       "        [-8.004661 ]]], dtype=float32)>"
      ]
     },
     "execution_count": 31,
     "metadata": {},
     "output_type": "execute_result"
    }
   ],
   "source": [
    "data = tf.cast(mlp_batch_images, dtype=tf.float32)\n",
    "tf.matmul(w, data)"
   ]
  },
  {
   "cell_type": "code",
   "execution_count": 32,
   "id": "24d4dbc3-a05a-47be-943a-271f04b8d833",
   "metadata": {},
   "outputs": [],
   "source": []
  },
  {
   "cell_type": "code",
   "execution_count": null,
   "id": "be9fa240-07a0-41cc-afab-5a52e1dbcbae",
   "metadata": {},
   "outputs": [],
   "source": []
  }
 ],
 "metadata": {
  "kernelspec": {
   "display_name": "Python 3 (ipykernel)",
   "language": "python",
   "name": "python3"
  },
  "language_info": {
   "codemirror_mode": {
    "name": "ipython",
    "version": 3
   },
   "file_extension": ".py",
   "mimetype": "text/x-python",
   "name": "python",
   "nbconvert_exporter": "python",
   "pygments_lexer": "ipython3",
   "version": "3.9.18"
  }
 },
 "nbformat": 4,
 "nbformat_minor": 5
}
