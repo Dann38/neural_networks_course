{
 "cells": [
  {
   "cell_type": "markdown",
   "id": "6743f234-316f-411e-9932-4e25c1b21c9e",
   "metadata": {},
   "source": [
    "https://habr.com/ru/articles/484214/"
   ]
  },
  {
   "cell_type": "code",
   "execution_count": 2,
   "id": "3e839d0c-60f5-4e58-bfbc-59669afe52fc",
   "metadata": {},
   "outputs": [
    {
     "name": "stderr",
     "output_type": "stream",
     "text": [
      "2024-07-22 11:25:15.371926: I tensorflow/core/util/port.cc:153] oneDNN custom operations are on. You may see slightly different numerical results due to floating-point round-off errors from different computation orders. To turn them off, set the environment variable `TF_ENABLE_ONEDNN_OPTS=0`.\n",
      "2024-07-22 11:25:15.379557: I external/local_xla/xla/tsl/cuda/cudart_stub.cc:32] Could not find cuda drivers on your machine, GPU will not be used.\n",
      "2024-07-22 11:25:15.454083: I external/local_xla/xla/tsl/cuda/cudart_stub.cc:32] Could not find cuda drivers on your machine, GPU will not be used.\n",
      "2024-07-22 11:25:15.552028: E external/local_xla/xla/stream_executor/cuda/cuda_fft.cc:485] Unable to register cuFFT factory: Attempting to register factory for plugin cuFFT when one has already been registered\n",
      "2024-07-22 11:25:15.618121: E external/local_xla/xla/stream_executor/cuda/cuda_dnn.cc:8454] Unable to register cuDNN factory: Attempting to register factory for plugin cuDNN when one has already been registered\n",
      "2024-07-22 11:25:15.639347: E external/local_xla/xla/stream_executor/cuda/cuda_blas.cc:1452] Unable to register cuBLAS factory: Attempting to register factory for plugin cuBLAS when one has already been registered\n",
      "2024-07-22 11:25:15.778537: I tensorflow/core/platform/cpu_feature_guard.cc:210] This TensorFlow binary is optimized to use available CPU instructions in performance-critical operations.\n",
      "To enable the following instructions: AVX2 AVX_VNNI FMA, in other operations, rebuild TensorFlow with the appropriate compiler flags.\n",
      "2024-07-22 11:25:16.697211: W tensorflow/compiler/tf2tensorrt/utils/py_utils.cc:38] TF-TRT Warning: Could not find TensorRT\n"
     ]
    }
   ],
   "source": [
    "import tensorflow as tf"
   ]
  },
  {
   "cell_type": "markdown",
   "id": "c3541be8-e82d-4f96-8c21-edfcf24fb041",
   "metadata": {},
   "source": [
    "# Разные виды тензоров"
   ]
  },
  {
   "cell_type": "code",
   "execution_count": 5,
   "id": "9033bfe0-1836-4ff5-8abb-abd100725428",
   "metadata": {},
   "outputs": [],
   "source": [
    "mystr = tf.Variable([\"Hello\"], tf.string)\n",
    "cool_numbers  = tf.Variable([3.14159, 2.71828], tf.float32)\n",
    "first_primes = tf.Variable([2, 3, 5, 7, 11], tf.int32)\n",
    "its_very_complicated = tf.Variable([12.3 - 4.85j, 7.5 - 6.23j], tf.complex64)"
   ]
  },
  {
   "cell_type": "code",
   "execution_count": 6,
   "id": "16cd4730-3566-4e85-b0d5-ca2495dcba57",
   "metadata": {},
   "outputs": [],
   "source": [
    "mystr = tf.Variable([\"Hello\"], tf.string)\n",
    "cool_numbers  = tf.Variable([3.14159, 2.71828], tf.float32)\n",
    "first_primes = tf.Variable([2, 3, 5, 7, 11], tf.int32)\n",
    "its_very_complicated = tf.Variable([12.3 - 4.85j, 7.5 - 6.23j], tf.complex64)"
   ]
  },
  {
   "cell_type": "code",
   "execution_count": 7,
   "id": "48db17ce-1fdf-4a70-af20-f14e94de94af",
   "metadata": {},
   "outputs": [],
   "source": [
    "mymat = tf.Variable([[7],[11]], tf.int16)\n",
    "myxor = tf.Variable([[False, True],[True, False]], tf.bool)\n",
    "linear_squares = tf.Variable([[4], [9], [16], [25]], tf.int32)\n",
    "squarish_squares = tf.Variable([ [4, 9], [16, 25] ], tf.int32)\n",
    "rank_of_squares = tf.rank(squarish_squares)\n",
    "mymatC = tf.Variable([[7],[11]], tf.int32)"
   ]
  },
  {
   "cell_type": "code",
   "execution_count": 95,
   "id": "58a52d50-6383-4986-90bd-a44276776c79",
   "metadata": {},
   "outputs": [
    {
     "data": {
      "text/plain": [
       "TensorShape([10, 299, 299, 3])"
      ]
     },
     "execution_count": 95,
     "metadata": {},
     "output_type": "execute_result"
    }
   ],
   "source": [
    "my_image = tf.zeros([10, 299, 299, 3])  # размер пакета x высота x ширина x количество цветовых каналов\n",
    "my_image.shape"
   ]
  },
  {
   "cell_type": "code",
   "execution_count": 15,
   "id": "12991aae-dbd4-4757-bafc-6172af691609",
   "metadata": {},
   "outputs": [
    {
     "data": {
      "text/plain": [
       "4"
      ]
     },
     "execution_count": 15,
     "metadata": {},
     "output_type": "execute_result"
    }
   ],
   "source": [
    "r = tf.rank(my_image)\n",
    "r.numpy()"
   ]
  },
  {
   "cell_type": "code",
   "execution_count": 20,
   "id": "e22d6273-bce5-4d5c-a3f8-55a194885376",
   "metadata": {},
   "outputs": [
    {
     "data": {
      "text/plain": [
       "2.71828"
      ]
     },
     "execution_count": 20,
     "metadata": {},
     "output_type": "execute_result"
    }
   ],
   "source": [
    "cool_numbers[1].numpy()"
   ]
  },
  {
   "cell_type": "code",
   "execution_count": 21,
   "id": "336cc7c7-a889-4bc6-9926-f74831c2f5a7",
   "metadata": {},
   "outputs": [
    {
     "data": {
      "text/plain": [
       "9"
      ]
     },
     "execution_count": 21,
     "metadata": {},
     "output_type": "execute_result"
    }
   ],
   "source": [
    "squarish_squares[0,1].numpy()"
   ]
  },
  {
   "cell_type": "code",
   "execution_count": null,
   "id": "28da7fa7-4de6-4d9a-97fb-05bf4ee5adbf",
   "metadata": {},
   "outputs": [],
   "source": []
  },
  {
   "cell_type": "code",
   "execution_count": null,
   "id": "eedb88fe-18fd-45b4-a690-cea6aaaf0a6b",
   "metadata": {},
   "outputs": [],
   "source": []
  },
  {
   "cell_type": "code",
   "execution_count": 33,
   "id": "2a99430f-21b3-457c-b14a-9e37dc840afd",
   "metadata": {},
   "outputs": [],
   "source": [
    "a = tf.Variable([[1], [2]], tf.int32)\n",
    "B = tf.Variable([[1, 2], [3, 4]], tf.int32)"
   ]
  },
  {
   "cell_type": "code",
   "execution_count": 34,
   "id": "6a42cc43-5546-44f8-b681-1945375b9ecc",
   "metadata": {},
   "outputs": [
    {
     "data": {
      "text/plain": [
       "<tf.Tensor: shape=(2, 1), dtype=int32, numpy=\n",
       "array([[ 5],\n",
       "       [11]], dtype=int32)>"
      ]
     },
     "execution_count": 34,
     "metadata": {},
     "output_type": "execute_result"
    }
   ],
   "source": [
    "B@a"
   ]
  },
  {
   "cell_type": "code",
   "execution_count": 36,
   "id": "03fab207-ecc6-4047-ab2a-f915a773c4da",
   "metadata": {},
   "outputs": [
    {
     "data": {
      "text/plain": [
       "<tf.Tensor: shape=(2,), dtype=int32, numpy=array([1, 3], dtype=int32)>"
      ]
     },
     "execution_count": 36,
     "metadata": {},
     "output_type": "execute_result"
    }
   ],
   "source": [
    "B[:, 0] # Столбец. Все нулевые элементы каждой строки"
   ]
  },
  {
   "cell_type": "code",
   "execution_count": 38,
   "id": "12e69dd7-01a1-4c23-86cb-a290db869ff1",
   "metadata": {},
   "outputs": [
    {
     "data": {
      "text/plain": [
       "<tf.Tensor: shape=(2,), dtype=int32, numpy=array([1, 2], dtype=int32)>"
      ]
     },
     "execution_count": 38,
     "metadata": {},
     "output_type": "execute_result"
    }
   ],
   "source": [
    "B[0, :] # Строка. Все элементы нулевой строки"
   ]
  },
  {
   "cell_type": "code",
   "execution_count": 40,
   "id": "162db5ca-b292-4715-b0c1-5d301e5f1f65",
   "metadata": {},
   "outputs": [
    {
     "data": {
      "text/plain": [
       "(TensorShape([2, 2]), TensorShape([2, 1]))"
      ]
     },
     "execution_count": 40,
     "metadata": {},
     "output_type": "execute_result"
    }
   ],
   "source": [
    "B.shape, a.shape"
   ]
  },
  {
   "cell_type": "markdown",
   "id": "10f88a89-b6a5-4b4f-b428-44519d44b0fb",
   "metadata": {},
   "source": [
    "# Изменение размеров tf.Tensor"
   ]
  },
  {
   "cell_type": "code",
   "execution_count": 46,
   "id": "6e6c4b7e-42ec-4e15-99c3-e300644d04aa",
   "metadata": {},
   "outputs": [],
   "source": [
    "batch_images = tf.Variable([ # Батч\n",
    "    [                        # Изображение\n",
    "         [[0], [3], [0]],    # Строка пикселей + 1 канал цвета\n",
    "         [[2], [5], [3]],\n",
    "         [[0], [2], [0]]\n",
    "    ],\n",
    "    [                        \n",
    "         [[0], [4], [0]],    \n",
    "         [[1], [7], [4]],\n",
    "         [[0], [1], [0]]\n",
    "    ]\n",
    "], tf.int32)"
   ]
  },
  {
   "cell_type": "code",
   "execution_count": 47,
   "id": "405d6166-8a52-441a-8ef2-a051adad36bf",
   "metadata": {},
   "outputs": [
    {
     "data": {
      "text/plain": [
       "TensorShape([2, 3, 3, 1])"
      ]
     },
     "execution_count": 47,
     "metadata": {},
     "output_type": "execute_result"
    }
   ],
   "source": [
    "batch_images.shape # 2 - изображения размера 3x3 с одним цветовым каналом"
   ]
  },
  {
   "cell_type": "code",
   "execution_count": 50,
   "id": "1f1f6c68-9b90-491d-8079-c7352d636129",
   "metadata": {},
   "outputs": [],
   "source": [
    "mlp_batch_images = tf.reshape(batch_images, [2, 3*3, 1])"
   ]
  },
  {
   "cell_type": "code",
   "execution_count": 51,
   "id": "276ee233-ca10-4548-9233-d5aa9feaaba0",
   "metadata": {},
   "outputs": [
    {
     "data": {
      "text/plain": [
       "<tf.Tensor: shape=(2, 9, 1), dtype=int32, numpy=\n",
       "array([[[0],\n",
       "        [3],\n",
       "        [0],\n",
       "        [2],\n",
       "        [5],\n",
       "        [3],\n",
       "        [0],\n",
       "        [2],\n",
       "        [0]],\n",
       "\n",
       "       [[0],\n",
       "        [4],\n",
       "        [0],\n",
       "        [1],\n",
       "        [7],\n",
       "        [4],\n",
       "        [0],\n",
       "        [1],\n",
       "        [0]]], dtype=int32)>"
      ]
     },
     "execution_count": 51,
     "metadata": {},
     "output_type": "execute_result"
    }
   ],
   "source": [
    "mlp_batch_images"
   ]
  },
  {
   "cell_type": "markdown",
   "id": "9913d713-1341-43a5-9907-ec2a8ed0b8c3",
   "metadata": {},
   "source": [
    "# Типы данных"
   ]
  },
  {
   "cell_type": "markdown",
   "id": "23651120-312a-4d4e-bf7f-56502c240ce6",
   "metadata": {},
   "source": [
    "Тензор обязательно состоит из одного типа данных и их не так много. Но можно превратить тип данных в строку"
   ]
  },
  {
   "cell_type": "code",
   "execution_count": null,
   "id": "4e4d6fe9-fb73-4891-bf74-8a498e119081",
   "metadata": {},
   "outputs": [],
   "source": []
  },
  {
   "cell_type": "markdown",
   "id": "7f0a7a46-b051-43ac-ad0d-0c9ab0989335",
   "metadata": {},
   "source": [
    "# Вычислительный граф"
   ]
  },
  {
   "cell_type": "code",
   "execution_count": 89,
   "id": "ed189e8f-9b73-412a-8fbb-70e69ef247e1",
   "metadata": {},
   "outputs": [
    {
     "data": {
      "text/plain": [
       "(<tf.Variable 'Variable:0' shape=(2, 2) dtype=int32, numpy=\n",
       " array([[1, 2],\n",
       "        [3, 4]], dtype=int32)>,\n",
       " <tf.Variable 'Variable:0' shape=(2, 1) dtype=int32, numpy=\n",
       " array([[2],\n",
       "        [3]], dtype=int32)>)"
      ]
     },
     "execution_count": 89,
     "metadata": {},
     "output_type": "execute_result"
    }
   ],
   "source": [
    "B, a"
   ]
  },
  {
   "cell_type": "code",
   "execution_count": 90,
   "id": "6f2df7f9-25f2-425f-9a44-ed66723d3396",
   "metadata": {},
   "outputs": [
    {
     "data": {
      "text/plain": [
       "<tf.Variable 'UnreadVariable' shape=(2, 1) dtype=int32, numpy=\n",
       "array([[1],\n",
       "       [2]], dtype=int32)>"
      ]
     },
     "execution_count": 90,
     "metadata": {},
     "output_type": "execute_result"
    }
   ],
   "source": [
    "a.assign([[1], [2]])"
   ]
  },
  {
   "cell_type": "code",
   "execution_count": 91,
   "id": "6db53b69-9f76-49ec-9e88-f528bda8e9df",
   "metadata": {},
   "outputs": [],
   "source": [
    "@tf.function #<---------------- Создает Хэш\n",
    "def get_c():\n",
    "    return tf.multiply(B, a)"
   ]
  },
  {
   "cell_type": "code",
   "execution_count": 92,
   "id": "1afaf0fd-3081-41fb-a77d-d3ec57495a50",
   "metadata": {},
   "outputs": [
    {
     "data": {
      "text/plain": [
       "<tf.Tensor: shape=(2, 2), dtype=int32, numpy=\n",
       "array([[1, 2],\n",
       "       [6, 8]], dtype=int32)>"
      ]
     },
     "execution_count": 92,
     "metadata": {},
     "output_type": "execute_result"
    }
   ],
   "source": [
    "get_c()"
   ]
  },
  {
   "cell_type": "code",
   "execution_count": 93,
   "id": "329328b8-c3c7-4c21-b16f-685aa2117b2b",
   "metadata": {},
   "outputs": [
    {
     "data": {
      "text/plain": [
       "<tf.Variable 'UnreadVariable' shape=(2, 1) dtype=int32, numpy=\n",
       "array([[2],\n",
       "       [3]], dtype=int32)>"
      ]
     },
     "execution_count": 93,
     "metadata": {},
     "output_type": "execute_result"
    }
   ],
   "source": [
    "a.assign([[2], [3]])"
   ]
  },
  {
   "cell_type": "code",
   "execution_count": 94,
   "id": "b7414884-3cf5-4273-8184-2673017217a5",
   "metadata": {},
   "outputs": [
    {
     "data": {
      "text/plain": [
       "<tf.Tensor: shape=(2, 2), dtype=int32, numpy=\n",
       "array([[ 2,  4],\n",
       "       [ 9, 12]], dtype=int32)>"
      ]
     },
     "execution_count": 94,
     "metadata": {},
     "output_type": "execute_result"
    }
   ],
   "source": [
    "get_c()"
   ]
  },
  {
   "cell_type": "markdown",
   "id": "856546f4-26fa-484f-b53d-d10b6120fc09",
   "metadata": {},
   "source": [
    "# Умножение тензора на коэффициенты"
   ]
  },
  {
   "cell_type": "code",
   "execution_count": 98,
   "id": "2b7538d6-9e19-47d9-87fa-50ebd6ac6a93",
   "metadata": {},
   "outputs": [
    {
     "data": {
      "text/plain": [
       "TensorShape([9, 1])"
      ]
     },
     "execution_count": 98,
     "metadata": {},
     "output_type": "execute_result"
    }
   ],
   "source": []
  },
  {
   "cell_type": "code",
   "execution_count": 112,
   "id": "65fd7e65-7e63-4825-9fc1-4c283f356430",
   "metadata": {},
   "outputs": [
    {
     "data": {
      "text/plain": [
       "<tf.Variable 'Variable:0' shape=(9, 3) dtype=float32, numpy=\n",
       "array([[-0.30556992, -2.0761714 ,  0.58549786],\n",
       "       [ 1.6061703 , -0.99958104, -0.99794716],\n",
       "       [ 2.5366015 ,  0.7970905 , -1.8074142 ],\n",
       "       [-1.4947131 ,  0.20596698,  0.3483406 ],\n",
       "       [-0.65158594, -0.7994196 ,  0.39491776],\n",
       "       [ 1.7868248 , -0.19231462,  0.535978  ],\n",
       "       [-0.16990568, -0.5230191 , -1.1549269 ],\n",
       "       [-0.6565507 , -1.4765705 ,  1.209098  ],\n",
       "       [ 1.6994708 , -0.39784276,  1.2129107 ]], dtype=float32)>"
      ]
     },
     "execution_count": 112,
     "metadata": {},
     "output_type": "execute_result"
    }
   ],
   "source": [
    "w = tf.Variable(tf.random.normal([9, 3]))\n",
    "w"
   ]
  },
  {
   "cell_type": "code",
   "execution_count": 113,
   "id": "698ad084-41a3-42d8-9828-37aae05c18e1",
   "metadata": {},
   "outputs": [
    {
     "ename": "InvalidArgumentError",
     "evalue": "cannot compute _MklBatchMatMulV2 as input #1(zero-based) was expected to be a float tensor but is a int32 tensor [Op:BatchMatMulV2] name: ",
     "output_type": "error",
     "traceback": [
      "\u001b[0;31m---------------------------------------------------------------------------\u001b[0m",
      "\u001b[0;31mInvalidArgumentError\u001b[0m                      Traceback (most recent call last)",
      "Cell \u001b[0;32mIn[113], line 1\u001b[0m\n\u001b[0;32m----> 1\u001b[0m \u001b[43mtf\u001b[49m\u001b[38;5;241;43m.\u001b[39;49m\u001b[43mmatmul\u001b[49m\u001b[43m(\u001b[49m\u001b[43mw\u001b[49m\u001b[43m,\u001b[49m\u001b[43m \u001b[49m\u001b[43mmlp_batch_images\u001b[49m\u001b[43m)\u001b[49m\n",
      "File \u001b[0;32m~/project/neural_networks_course/env/lib/python3.12/site-packages/tensorflow/python/ops/weak_tensor_ops.py:142\u001b[0m, in \u001b[0;36mweak_tensor_binary_op_wrapper.<locals>.wrapper\u001b[0;34m(*args, **kwargs)\u001b[0m\n\u001b[1;32m    140\u001b[0m \u001b[38;5;28;01mdef\u001b[39;00m \u001b[38;5;21mwrapper\u001b[39m(\u001b[38;5;241m*\u001b[39margs, \u001b[38;5;241m*\u001b[39m\u001b[38;5;241m*\u001b[39mkwargs):\n\u001b[1;32m    141\u001b[0m   \u001b[38;5;28;01mif\u001b[39;00m \u001b[38;5;129;01mnot\u001b[39;00m ops\u001b[38;5;241m.\u001b[39mis_auto_dtype_conversion_enabled():\n\u001b[0;32m--> 142\u001b[0m     \u001b[38;5;28;01mreturn\u001b[39;00m \u001b[43mop\u001b[49m\u001b[43m(\u001b[49m\u001b[38;5;241;43m*\u001b[39;49m\u001b[43margs\u001b[49m\u001b[43m,\u001b[49m\u001b[43m \u001b[49m\u001b[38;5;241;43m*\u001b[39;49m\u001b[38;5;241;43m*\u001b[39;49m\u001b[43mkwargs\u001b[49m\u001b[43m)\u001b[49m\n\u001b[1;32m    143\u001b[0m   bound_arguments \u001b[38;5;241m=\u001b[39m signature\u001b[38;5;241m.\u001b[39mbind(\u001b[38;5;241m*\u001b[39margs, \u001b[38;5;241m*\u001b[39m\u001b[38;5;241m*\u001b[39mkwargs)\n\u001b[1;32m    144\u001b[0m   bound_arguments\u001b[38;5;241m.\u001b[39mapply_defaults()\n",
      "File \u001b[0;32m~/project/neural_networks_course/env/lib/python3.12/site-packages/tensorflow/python/util/traceback_utils.py:153\u001b[0m, in \u001b[0;36mfilter_traceback.<locals>.error_handler\u001b[0;34m(*args, **kwargs)\u001b[0m\n\u001b[1;32m    151\u001b[0m \u001b[38;5;28;01mexcept\u001b[39;00m \u001b[38;5;167;01mException\u001b[39;00m \u001b[38;5;28;01mas\u001b[39;00m e:\n\u001b[1;32m    152\u001b[0m   filtered_tb \u001b[38;5;241m=\u001b[39m _process_traceback_frames(e\u001b[38;5;241m.\u001b[39m__traceback__)\n\u001b[0;32m--> 153\u001b[0m   \u001b[38;5;28;01mraise\u001b[39;00m e\u001b[38;5;241m.\u001b[39mwith_traceback(filtered_tb) \u001b[38;5;28;01mfrom\u001b[39;00m \u001b[38;5;28;01mNone\u001b[39;00m\n\u001b[1;32m    154\u001b[0m \u001b[38;5;28;01mfinally\u001b[39;00m:\n\u001b[1;32m    155\u001b[0m   \u001b[38;5;28;01mdel\u001b[39;00m filtered_tb\n",
      "File \u001b[0;32m~/project/neural_networks_course/env/lib/python3.12/site-packages/tensorflow/python/framework/ops.py:5983\u001b[0m, in \u001b[0;36mraise_from_not_ok_status\u001b[0;34m(e, name)\u001b[0m\n\u001b[1;32m   5981\u001b[0m \u001b[38;5;28;01mdef\u001b[39;00m \u001b[38;5;21mraise_from_not_ok_status\u001b[39m(e, name) \u001b[38;5;241m-\u001b[39m\u001b[38;5;241m>\u001b[39m NoReturn:\n\u001b[1;32m   5982\u001b[0m   e\u001b[38;5;241m.\u001b[39mmessage \u001b[38;5;241m+\u001b[39m\u001b[38;5;241m=\u001b[39m (\u001b[38;5;124m\"\u001b[39m\u001b[38;5;124m name: \u001b[39m\u001b[38;5;124m\"\u001b[39m \u001b[38;5;241m+\u001b[39m \u001b[38;5;28mstr\u001b[39m(name \u001b[38;5;28;01mif\u001b[39;00m name \u001b[38;5;129;01mis\u001b[39;00m \u001b[38;5;129;01mnot\u001b[39;00m \u001b[38;5;28;01mNone\u001b[39;00m \u001b[38;5;28;01melse\u001b[39;00m \u001b[38;5;124m\"\u001b[39m\u001b[38;5;124m\"\u001b[39m))\n\u001b[0;32m-> 5983\u001b[0m   \u001b[38;5;28;01mraise\u001b[39;00m core\u001b[38;5;241m.\u001b[39m_status_to_exception(e) \u001b[38;5;28;01mfrom\u001b[39;00m \u001b[38;5;28;01mNone\u001b[39;00m\n",
      "\u001b[0;31mInvalidArgumentError\u001b[0m: cannot compute _MklBatchMatMulV2 as input #1(zero-based) was expected to be a float tensor but is a int32 tensor [Op:BatchMatMulV2] name: "
     ]
    }
   ],
   "source": [
    "tf.matmul(w, mlp_batch_images)"
   ]
  },
  {
   "cell_type": "code",
   "execution_count": null,
   "id": "24d4dbc3-a05a-47be-943a-271f04b8d833",
   "metadata": {},
   "outputs": [],
   "source": []
  }
 ],
 "metadata": {
  "kernelspec": {
   "display_name": "Python 3 (ipykernel)",
   "language": "python",
   "name": "python3"
  },
  "language_info": {
   "codemirror_mode": {
    "name": "ipython",
    "version": 3
   },
   "file_extension": ".py",
   "mimetype": "text/x-python",
   "name": "python",
   "nbconvert_exporter": "python",
   "pygments_lexer": "ipython3",
   "version": "3.12.3"
  }
 },
 "nbformat": 4,
 "nbformat_minor": 5
}
