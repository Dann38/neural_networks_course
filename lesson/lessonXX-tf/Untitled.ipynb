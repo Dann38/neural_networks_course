{
 "cells": [
  {
   "cell_type": "markdown",
   "id": "62888177-77da-4b27-a814-f29a4bdf6afc",
   "metadata": {},
   "source": [
    "https://www.tensorflow.org/guide/core/mlp_core"
   ]
  },
  {
   "cell_type": "code",
   "execution_count": 1,
   "id": "7492f4b5-4507-45dd-8499-003971a4cd4b",
   "metadata": {},
   "outputs": [],
   "source": [
    "#! pip install tensorflow\n",
    "# !pip install tensorflow_datasets"
   ]
  },
  {
   "cell_type": "code",
   "execution_count": 2,
   "id": "2a8d94b7-e991-42c7-aef1-cda1c6bf1d6b",
   "metadata": {},
   "outputs": [
    {
     "name": "stderr",
     "output_type": "stream",
     "text": [
      "2024-07-22 12:00:21.476431: I tensorflow/core/util/port.cc:153] oneDNN custom operations are on. You may see slightly different numerical results due to floating-point round-off errors from different computation orders. To turn them off, set the environment variable `TF_ENABLE_ONEDNN_OPTS=0`.\n",
      "2024-07-22 12:00:21.476780: I external/local_xla/xla/tsl/cuda/cudart_stub.cc:32] Could not find cuda drivers on your machine, GPU will not be used.\n",
      "2024-07-22 12:00:21.478873: I external/local_xla/xla/tsl/cuda/cudart_stub.cc:32] Could not find cuda drivers on your machine, GPU will not be used.\n",
      "2024-07-22 12:00:21.485124: E external/local_xla/xla/stream_executor/cuda/cuda_fft.cc:485] Unable to register cuFFT factory: Attempting to register factory for plugin cuFFT when one has already been registered\n",
      "2024-07-22 12:00:21.496128: E external/local_xla/xla/stream_executor/cuda/cuda_dnn.cc:8454] Unable to register cuDNN factory: Attempting to register factory for plugin cuDNN when one has already been registered\n",
      "2024-07-22 12:00:21.499132: E external/local_xla/xla/stream_executor/cuda/cuda_blas.cc:1452] Unable to register cuBLAS factory: Attempting to register factory for plugin cuBLAS when one has already been registered\n",
      "2024-07-22 12:00:21.507346: I tensorflow/core/platform/cpu_feature_guard.cc:210] This TensorFlow binary is optimized to use available CPU instructions in performance-critical operations.\n",
      "To enable the following instructions: AVX2 AVX_VNNI FMA, in other operations, rebuild TensorFlow with the appropriate compiler flags.\n",
      "2024-07-22 12:00:22.044989: W tensorflow/compiler/tf2tensorrt/utils/py_utils.cc:38] TF-TRT Warning: Could not find TensorRT\n"
     ]
    }
   ],
   "source": [
    "import tensorflow as tf\n",
    "import tensorflow_datasets as tfds"
   ]
  },
  {
   "cell_type": "code",
   "execution_count": 4,
   "id": "f88ae9fe-0ba2-45b7-b017-191f83fd15a0",
   "metadata": {},
   "outputs": [
    {
     "name": "stderr",
     "output_type": "stream",
     "text": [
      "2024-07-22 12:00:25.196919: W tensorflow/core/kernels/data/cache_dataset_ops.cc:913] The calling iterator did not fully read the dataset being cached. In order to avoid unexpected truncation of the dataset, the partially cached contents of the dataset  will be discarded. This can happen if you have an input pipeline similar to `dataset.cache().take(k).repeat()`. You should use `dataset.take(k).cache().repeat()` instead.\n",
      "2024-07-22 12:00:25.197256: I tensorflow/core/framework/local_rendezvous.cc:404] Local rendezvous is aborting with status: OUT_OF_RANGE: End of sequence\n"
     ]
    }
   ],
   "source": [
    "# Construct a tf.data.Dataset\n",
    "ds = tfds.load('mnist', split='train', shuffle_files=True)\n",
    "\n",
    "# Build your input pipeline\n",
    "ds = ds.shuffle(1024).batch(32).prefetch(tf.data.AUTOTUNE)\n",
    "for example in ds.take(1):\n",
    "  image, label = example[\"image\"], example[\"label\"]\n"
   ]
  },
  {
   "cell_type": "code",
   "execution_count": 7,
   "id": "4c37137f-fa6c-49d5-ba53-c3c8462b11a4",
   "metadata": {},
   "outputs": [],
   "source": [
    "image_mlp = tf.reshape(image, [32, 28*28, 1]) # Переводим в вектор"
   ]
  },
  {
   "cell_type": "code",
   "execution_count": 8,
   "id": "3239ae80-a7af-437a-98a7-bc1965ca5d70",
   "metadata": {},
   "outputs": [],
   "source": [
    "class MyLayer(tf.Module):\n",
    "    def __init__(self, size_input, size_output, func):\n",
    "        super().__init__()\n",
    "        self.size_output = size_output\n",
    "        self.size_input = size_input\n",
    "        self.w0 = tf.Variable(tf.random.normal([size_output, size_input],mean=0, stddev=0.001))\n",
    "        # self.w1 = tf.Variable(tf.random.normal([size_output, size_input],mean=0, stddev=0.001))\n",
    "        self.b = tf.Variable(tf.random.normal([size_output, 1], mean=1, stddev=0.001))\n",
    "        self.sigma = func\n",
    "        \n",
    "    @tf.function()\n",
    "    def __call__(self, tensorVecImages):\n",
    "        tf.matmul(self.w )\n",
    "        x2 = tf.subtract(tf.reduce_mean(hi, axis=0), 1/len(hi) * hi[0]) \n",
    "        sum_ = tf.matmul(self.w0, tf.transpose([x1]))+tf.matmul(self.w1,tf.transpose([x2]))+self.b\n",
    "        y = self.sigma(sum_)\n",
    "        return y\n",
    "\n",
    "# class Model:\n",
    "#     def __init__(self):\n",
    "#         self.layer1 = MyLayer(6, 3, tf.nn.relu)\n",
    "#         self.layer2 = MyLayer(3, 1, tf.nn.relu)\n",
    "#         # self.layer1 = MyLayer(2, 2, tf.nn.relu)\n",
    "\n",
    "#     @tf.function()\n",
    "#     def __call__(self, file):\n",
    "#         _, edges, _, nodes = graph_from_path(file)\n",
    "#         e1 = np.array(edges[0])\n",
    "#         e2 = np.array(edges[1])\n",
    "#         index = [[i, *e2[e1 == i]] for i in range(len(nodes))]\n",
    "#         h0 = nodes\n",
    "#         h1 = [self.layer1([tf.transpose(h0[i])[0] for i in index_array]) for index_array in index]\n",
    "#         h2 = [self.layer2([tf.transpose(h1[i])[0] for i in index_array]) for index_array in index]\n",
    "#         return h2\n",
    "            \n",
    "# @tf.function()\n",
    "# def loss(file, m):\n",
    "#     y = m(file)\n",
    "#     _, _, Y, _ = graph_from_path(file)\n",
    "#     y_true = tf.transpose(np.array([[Y]], dtype=np.float32))\n",
    "#     return tf.reduce_mean(tf.pow(y - y_true , 2))"
   ]
  },
  {
   "cell_type": "code",
   "execution_count": 6,
   "id": "90556115-83e9-4489-8a22-e19646005d5a",
   "metadata": {},
   "outputs": [],
   "source": [
    "mylayer = MyLayer(size_input=784, size_output=2, func=tf.nn.relu)"
   ]
  },
  {
   "cell_type": "code",
   "execution_count": 24,
   "id": "61a4abaf-b363-4b22-b6b5-947386dfcbf1",
   "metadata": {},
   "outputs": [],
   "source": [
    "w0 = tf.Variable(tf.random.normal([1, 784, 1],mean=0, stddev=0.001))"
   ]
  },
  {
   "cell_type": "code",
   "execution_count": 25,
   "id": "4993494d-3f8d-4dfc-afae-10b269dbe763",
   "metadata": {},
   "outputs": [
    {
     "data": {
      "text/plain": [
       "TensorShape([1, 784, 1])"
      ]
     },
     "execution_count": 25,
     "metadata": {},
     "output_type": "execute_result"
    }
   ],
   "source": [
    "w0.shape"
   ]
  },
  {
   "cell_type": "code",
   "execution_count": 26,
   "id": "a8acd5d2-a738-4dd6-b7fc-e8fde0ee4818",
   "metadata": {},
   "outputs": [
    {
     "data": {
      "text/plain": [
       "TensorShape([32, 784, 1])"
      ]
     },
     "execution_count": 26,
     "metadata": {},
     "output_type": "execute_result"
    }
   ],
   "source": [
    "image_mlp.shape"
   ]
  },
  {
   "cell_type": "code",
   "execution_count": 30,
   "id": "b803df05-e259-41f8-bff4-4a6015e3b3c4",
   "metadata": {},
   "outputs": [
    {
     "ename": "NotFoundError",
     "evalue": "Could not find device for node: {{node BatchMatMulV2}} = BatchMatMulV2[T=DT_UINT8, adj_x=false, adj_y=false, grad_x=false, grad_y=false]\nAll kernels registered for op BatchMatMulV2:\n  device='XLA_CPU_JIT'; T in [DT_FLOAT, DT_DOUBLE, DT_INT32, DT_UINT8, DT_INT16, DT_COMPLEX64, DT_INT64, DT_BFLOAT16, DT_UINT16, DT_COMPLEX128, DT_HALF, DT_UINT32, DT_UINT64]\n  device='XLA_GPU_JIT'; T in [DT_FLOAT, DT_DOUBLE, DT_INT32, DT_UINT8, DT_INT16, DT_COMPLEX64, DT_INT64, DT_BFLOAT16, DT_UINT16, DT_COMPLEX128, DT_HALF, DT_UINT32, DT_UINT64]\n  device='GPU'; T in [DT_DOUBLE]\n  device='GPU'; T in [DT_FLOAT]\n  device='GPU'; T in [DT_BFLOAT16]\n  device='GPU'; T in [DT_HALF]\n  device='GPU'; T in [DT_COMPLEX128]\n  device='GPU'; T in [DT_COMPLEX64]\n  device='CPU'; T in [DT_INT64]\n  device='CPU'; T in [DT_INT32]\n  device='CPU'; T in [DT_INT16]\n  device='CPU'; T in [DT_DOUBLE]\n  device='CPU'; T in [DT_FLOAT]\n  device='CPU'; T in [DT_BFLOAT16]\n  device='CPU'; T in [DT_HALF]\n  device='CPU'; T in [DT_COMPLEX128]\n  device='CPU'; T in [DT_COMPLEX64]\n [Op:BatchMatMulV2] name: ",
     "output_type": "error",
     "traceback": [
      "\u001b[0;31m---------------------------------------------------------------------------\u001b[0m",
      "\u001b[0;31mNotFoundError\u001b[0m                             Traceback (most recent call last)",
      "Cell \u001b[0;32mIn[30], line 1\u001b[0m\n\u001b[0;32m----> 1\u001b[0m \u001b[43mtf\u001b[49m\u001b[38;5;241;43m.\u001b[39;49m\u001b[43mmatmul\u001b[49m\u001b[43m(\u001b[49m\u001b[43mimage_mlp\u001b[49m\u001b[43m,\u001b[49m\u001b[43m \u001b[49m\u001b[43mw0\u001b[49m\u001b[43m)\u001b[49m\n",
      "File \u001b[0;32m~/project/neural_networks_course/env/lib/python3.12/site-packages/tensorflow/python/ops/weak_tensor_ops.py:142\u001b[0m, in \u001b[0;36mweak_tensor_binary_op_wrapper.<locals>.wrapper\u001b[0;34m(*args, **kwargs)\u001b[0m\n\u001b[1;32m    140\u001b[0m \u001b[38;5;28;01mdef\u001b[39;00m \u001b[38;5;21mwrapper\u001b[39m(\u001b[38;5;241m*\u001b[39margs, \u001b[38;5;241m*\u001b[39m\u001b[38;5;241m*\u001b[39mkwargs):\n\u001b[1;32m    141\u001b[0m   \u001b[38;5;28;01mif\u001b[39;00m \u001b[38;5;129;01mnot\u001b[39;00m ops\u001b[38;5;241m.\u001b[39mis_auto_dtype_conversion_enabled():\n\u001b[0;32m--> 142\u001b[0m     \u001b[38;5;28;01mreturn\u001b[39;00m \u001b[43mop\u001b[49m\u001b[43m(\u001b[49m\u001b[38;5;241;43m*\u001b[39;49m\u001b[43margs\u001b[49m\u001b[43m,\u001b[49m\u001b[43m \u001b[49m\u001b[38;5;241;43m*\u001b[39;49m\u001b[38;5;241;43m*\u001b[39;49m\u001b[43mkwargs\u001b[49m\u001b[43m)\u001b[49m\n\u001b[1;32m    143\u001b[0m   bound_arguments \u001b[38;5;241m=\u001b[39m signature\u001b[38;5;241m.\u001b[39mbind(\u001b[38;5;241m*\u001b[39margs, \u001b[38;5;241m*\u001b[39m\u001b[38;5;241m*\u001b[39mkwargs)\n\u001b[1;32m    144\u001b[0m   bound_arguments\u001b[38;5;241m.\u001b[39mapply_defaults()\n",
      "File \u001b[0;32m~/project/neural_networks_course/env/lib/python3.12/site-packages/tensorflow/python/util/traceback_utils.py:153\u001b[0m, in \u001b[0;36mfilter_traceback.<locals>.error_handler\u001b[0;34m(*args, **kwargs)\u001b[0m\n\u001b[1;32m    151\u001b[0m \u001b[38;5;28;01mexcept\u001b[39;00m \u001b[38;5;167;01mException\u001b[39;00m \u001b[38;5;28;01mas\u001b[39;00m e:\n\u001b[1;32m    152\u001b[0m   filtered_tb \u001b[38;5;241m=\u001b[39m _process_traceback_frames(e\u001b[38;5;241m.\u001b[39m__traceback__)\n\u001b[0;32m--> 153\u001b[0m   \u001b[38;5;28;01mraise\u001b[39;00m e\u001b[38;5;241m.\u001b[39mwith_traceback(filtered_tb) \u001b[38;5;28;01mfrom\u001b[39;00m \u001b[38;5;28;01mNone\u001b[39;00m\n\u001b[1;32m    154\u001b[0m \u001b[38;5;28;01mfinally\u001b[39;00m:\n\u001b[1;32m    155\u001b[0m   \u001b[38;5;28;01mdel\u001b[39;00m filtered_tb\n",
      "File \u001b[0;32m~/project/neural_networks_course/env/lib/python3.12/site-packages/tensorflow/python/framework/ops.py:5983\u001b[0m, in \u001b[0;36mraise_from_not_ok_status\u001b[0;34m(e, name)\u001b[0m\n\u001b[1;32m   5981\u001b[0m \u001b[38;5;28;01mdef\u001b[39;00m \u001b[38;5;21mraise_from_not_ok_status\u001b[39m(e, name) \u001b[38;5;241m-\u001b[39m\u001b[38;5;241m>\u001b[39m NoReturn:\n\u001b[1;32m   5982\u001b[0m   e\u001b[38;5;241m.\u001b[39mmessage \u001b[38;5;241m+\u001b[39m\u001b[38;5;241m=\u001b[39m (\u001b[38;5;124m\"\u001b[39m\u001b[38;5;124m name: \u001b[39m\u001b[38;5;124m\"\u001b[39m \u001b[38;5;241m+\u001b[39m \u001b[38;5;28mstr\u001b[39m(name \u001b[38;5;28;01mif\u001b[39;00m name \u001b[38;5;129;01mis\u001b[39;00m \u001b[38;5;129;01mnot\u001b[39;00m \u001b[38;5;28;01mNone\u001b[39;00m \u001b[38;5;28;01melse\u001b[39;00m \u001b[38;5;124m\"\u001b[39m\u001b[38;5;124m\"\u001b[39m))\n\u001b[0;32m-> 5983\u001b[0m   \u001b[38;5;28;01mraise\u001b[39;00m core\u001b[38;5;241m.\u001b[39m_status_to_exception(e) \u001b[38;5;28;01mfrom\u001b[39;00m \u001b[38;5;28;01mNone\u001b[39;00m\n",
      "\u001b[0;31mNotFoundError\u001b[0m: Could not find device for node: {{node BatchMatMulV2}} = BatchMatMulV2[T=DT_UINT8, adj_x=false, adj_y=false, grad_x=false, grad_y=false]\nAll kernels registered for op BatchMatMulV2:\n  device='XLA_CPU_JIT'; T in [DT_FLOAT, DT_DOUBLE, DT_INT32, DT_UINT8, DT_INT16, DT_COMPLEX64, DT_INT64, DT_BFLOAT16, DT_UINT16, DT_COMPLEX128, DT_HALF, DT_UINT32, DT_UINT64]\n  device='XLA_GPU_JIT'; T in [DT_FLOAT, DT_DOUBLE, DT_INT32, DT_UINT8, DT_INT16, DT_COMPLEX64, DT_INT64, DT_BFLOAT16, DT_UINT16, DT_COMPLEX128, DT_HALF, DT_UINT32, DT_UINT64]\n  device='GPU'; T in [DT_DOUBLE]\n  device='GPU'; T in [DT_FLOAT]\n  device='GPU'; T in [DT_BFLOAT16]\n  device='GPU'; T in [DT_HALF]\n  device='GPU'; T in [DT_COMPLEX128]\n  device='GPU'; T in [DT_COMPLEX64]\n  device='CPU'; T in [DT_INT64]\n  device='CPU'; T in [DT_INT32]\n  device='CPU'; T in [DT_INT16]\n  device='CPU'; T in [DT_DOUBLE]\n  device='CPU'; T in [DT_FLOAT]\n  device='CPU'; T in [DT_BFLOAT16]\n  device='CPU'; T in [DT_HALF]\n  device='CPU'; T in [DT_COMPLEX128]\n  device='CPU'; T in [DT_COMPLEX64]\n [Op:BatchMatMulV2] name: "
     ]
    }
   ],
   "source": [
    "tf.matmul(image_mlp, w0)"
   ]
  },
  {
   "cell_type": "code",
   "execution_count": null,
   "id": "591a0ef4-a672-416b-9af9-e0ac3bf9efe8",
   "metadata": {},
   "outputs": [],
   "source": []
  },
  {
   "cell_type": "code",
   "execution_count": null,
   "id": "4c4a0cb4-22f4-487e-acfb-051f3be8bc90",
   "metadata": {},
   "outputs": [],
   "source": []
  },
  {
   "cell_type": "code",
   "execution_count": null,
   "id": "5b1bfe36-b933-4d47-a113-4a15c1220cd1",
   "metadata": {},
   "outputs": [],
   "source": []
  }
 ],
 "metadata": {
  "kernelspec": {
   "display_name": "Python 3 (ipykernel)",
   "language": "python",
   "name": "python3"
  },
  "language_info": {
   "codemirror_mode": {
    "name": "ipython",
    "version": 3
   },
   "file_extension": ".py",
   "mimetype": "text/x-python",
   "name": "python",
   "nbconvert_exporter": "python",
   "pygments_lexer": "ipython3",
   "version": "3.12.3"
  }
 },
 "nbformat": 4,
 "nbformat_minor": 5
}
